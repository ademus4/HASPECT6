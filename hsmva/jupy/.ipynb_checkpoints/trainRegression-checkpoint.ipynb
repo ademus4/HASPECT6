{
 "cells": [
  {
   "cell_type": "markdown",
   "metadata": {},
   "source": [
    "# Example for running signal - background classification\n",
    "\n",
    "See $ROOTSYS/tutorials/tmva/TMVARegression.C for more details.\n",
    "First get the path to the classes. The environment variable HSCODE must be set in your shell setup file (.bashrc or .tchsrc,....)\n",
    " Load/compile the hsmva classes via ROOTs ACLiC (clang-based compiler)\n"
   ]
  },
  {
   "cell_type": "code",
   "execution_count": null,
   "metadata": {},
   "outputs": [],
   "source": [
    "hscode=gSystem->Getenv(\"HSCODE\"); //or TString hscode =\"/full path/not including /hsmva\"\n",
    "gROOT->LoadMacro(TString(hscode)+\"/hsmva/LoadMacros.C+\");\n",
    "LoadMacros();"
   ]
  },
  {
   "cell_type": "code",
   "execution_count": null,
   "metadata": {},
   "outputs": [],
   "source": [
    "unique_ptr<TFile> infile; //use unique pointer so deleted at end\n",
    "TTree * tree=nullptr;\n",
    "unique_ptr<TrainReg> train;"
   ]
  },
  {
   "cell_type": "markdown",
   "metadata": {},
   "source": [
    "Get the TMVA tutorial data files and load the variables and target into a tree"
   ]
  },
  {
   "cell_type": "code",
   "execution_count": null,
   "metadata": {},
   "outputs": [],
   "source": [
    "%%cpp -d\n",
    "#include \"GetTutorialFile.h\""
   ]
  },
  {
   "cell_type": "code",
   "execution_count": null,
   "metadata": {},
   "outputs": [],
   "source": [
    "infile.reset(GetRegressionFile());\n",
    "tree=(TTree*)infile->Get(\"TreeR\");"
   ]
  },
  {
   "cell_type": "markdown",
   "metadata": {},
   "source": [
    "Prepare the regression training data. The tree should contain branches with the value to be fitted and \n",
    "the variables it depends on"
   ]
  },
  {
   "cell_type": "code",
   "execution_count": null,
   "metadata": {},
   "outputs": [],
   "source": [
    "train.reset(new TrainReg(\"TMVARegressionTut\"));\n",
    "\n",
    "train->SetOutDir(\"/work/dump\"); //Set this to a sensible output directory\n",
    "train->SetTarget(\"fvalue\"); //function value to \"fit\"\n",
    "train->IgnoreBranches(\"\");//Any branches in tree not used must be flagged!\n",
    "train->AddRegTree(tree); //Add tree with observables and targets\n",
    "train->SetNTrainTest(5000,5000); //Number of train and test events\n",
    "train->PrepareTrees(); //make test and training trees\n"
   ]
  },
  {
   "cell_type": "markdown",
   "metadata": {},
   "source": [
    "Prepare regression training methods. "
   ]
  },
  {
   "cell_type": "code",
   "execution_count": null,
   "metadata": {},
   "outputs": [],
   "source": [
    " //Can Book methods either via standard TMVA::Factory interface...\n",
    "train->BookMethod(TMVA::Types::kBDT, \"BDT\",\"!H:!V:NTrees=850:MinNodeSize=2.5%:MaxDepth=3:BoostType=AdaBoost:AdaBoostBeta=0.5:UseBaggedBoost:BaggedSampleFraction=0.5:SeparationType=GiniIndex:nCuts=20\");\n",
    "\n",
    "  //..or predefined methods (See HSMVA::MethodConfigure.h)\n",
    "train->BookMethod(HS::MVA::Meths.MLP);\n"
   ]
  },
  {
   "cell_type": "code",
   "execution_count": null,
   "metadata": {},
   "outputs": [],
   "source": [
    "train->DoTraining();\n"
   ]
  },
  {
   "cell_type": "code",
   "execution_count": null,
   "metadata": {},
   "outputs": [],
   "source": [
    "%jsroot on"
   ]
  },
  {
   "cell_type": "code",
   "execution_count": null,
   "metadata": {},
   "outputs": [],
   "source": [
    "train->DrawDeviations();"
   ]
  }
 ],
 "metadata": {
  "kernelspec": {
   "display_name": "ROOT C++",
   "language": "c++",
   "name": "root"
  },
  "language_info": {
   "codemirror_mode": "text/x-c++src",
   "file_extension": ".C",
   "mimetype": " text/x-c++src",
   "name": "c++"
  }
 },
 "nbformat": 4,
 "nbformat_minor": 2
}
