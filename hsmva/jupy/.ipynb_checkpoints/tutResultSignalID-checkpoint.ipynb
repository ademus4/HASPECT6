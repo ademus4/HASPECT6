{
 "cells": [
  {
   "cell_type": "markdown",
   "metadata": {},
   "source": [
    "# Example for running signal - background classification Getting the result\n",
    "\n",
    "First get the path to the classes. The environment variable HSCODE must be set in your shell setup file (.bashrc or .tchsrc,....)\n"
   ]
  },
  {
   "cell_type": "code",
   "execution_count": null,
   "metadata": {},
   "outputs": [],
   "source": [
    "TString hscode=gSystem->Getenv(\"HSCODE\");\n",
    "gROOT->LoadMacro(hscode+\"/LoadMacros.C\");"
   ]
  },
  {
   "cell_type": "markdown",
   "metadata": {},
   "source": [
    " Load/compile the hsmva classes via ROOTs ACLiC (clang-based compiler)"
   ]
  },
  {
   "cell_type": "markdown",
   "metadata": {},
   "source": [
    "Get the TMVA tutorial data files and load them into signal tree "
   ]
  },
  {
   "cell_type": "code",
   "execution_count": null,
   "metadata": {},
   "outputs": [],
   "source": [
    "gROOT->LoadMacro(hscode+\"hsmva/GetTutorialFile.C\");\n",
    "TFile*  input = GetClassificationFile();\n",
    "auto signalTree     = dynamic_cast<TTree*>(input->Get(\"TreeS\"));"
   ]
  },
  {
   "cell_type": "markdown",
   "metadata": {},
   "source": [
    "Create and configure the result. Here we must select which classifier result we want e.g. \"defMLP\". The first arguement correponds to the path where the Training.root file has been saved to. If you run the training tutorial then this correspnds to the OutDir + the name given to the constructor"
   ]
  },
  {
   "cell_type": "code",
   "execution_count": null,
   "metadata": {},
   "outputs": [],
   "source": [
    "HSMVA::ResultSignalID classif(\"/work/dump/TMVAClassificationTut\",\"defMLP\");\n",
    "classif.SetBranchAllFloats(signalTree); //link the tree to set the variables\n",
    " "
   ]
  },
  {
   "cell_type": "markdown",
   "metadata": {},
   "source": [
    "Loop over the events in the tree and get the classifier output"
   ]
  },
  {
   "cell_type": "code",
   "execution_count": null,
   "metadata": {},
   "outputs": [],
   "source": [
    "Long64_t Nent=signalTree->GetEntries();\n",
    "for(Int_t i=0;i<Nent;i++){\n",
    "     signalTree->GetEntry(i);\n",
    "     cout<<classif.Eval()<<endl;\n",
    "}\n",
    " "
   ]
  }
 ],
 "metadata": {
  "kernelspec": {
   "display_name": "ROOT C++",
   "language": "c++",
   "name": "root"
  },
  "language_info": {
   "codemirror_mode": "text/x-c++src",
   "file_extension": ".C",
   "mimetype": " text/x-c++src",
   "name": "c++"
  }
 },
 "nbformat": 4,
 "nbformat_minor": 2
}
