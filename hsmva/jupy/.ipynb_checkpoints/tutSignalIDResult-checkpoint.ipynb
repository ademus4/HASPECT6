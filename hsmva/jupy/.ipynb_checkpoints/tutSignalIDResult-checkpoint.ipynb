{
 "cells": [
  {
   "cell_type": "markdown",
   "metadata": {},
   "source": [
    "# Example for applying signal-background classification\n",
    "\n",
    "See $ROOTSYS/tutorials/tmva/TMVAClassificationApplication.C for more details.\n",
    "First get the path to the classes. The environment variable HSCODE must be set in your shell setup file (.bashrc or .tchsrc,....)\n",
    " Load/compile the hsmva classes via ROOTs ACLiC (clang-based compiler)"
   ]
  },
  {
   "cell_type": "code",
   "execution_count": 1,
   "metadata": {},
   "outputs": [
    {
     "name": "stderr",
     "output_type": "stream",
     "text": [
      "Info in <TUnixSystem::ACLiC>: creating shared library /work/Dropbox/HaSpect/dev/HASPECT6/hsmva/TrainSignalID_C.so\n"
     ]
    }
   ],
   "source": [
    "hscode=gSystem->Getenv(\"HSCODE\"); //or TString hscode =\"/full path/not including /hsmva\"\n",
    "gROOT->LoadMacro(TString(hscode)+\"/hsmva/LoadMacros.C+\");\n",
    "LoadMacros();"
   ]
  },
  {
   "cell_type": "markdown",
   "metadata": {},
   "source": [
    "I prefer to declare all variables at the start. \n",
    "This makes life easier when developing as you do not have to go back to the start to \n",
    "redo a cell with a variable declaration"
   ]
  },
  {
   "cell_type": "code",
   "execution_count": 2,
   "metadata": {},
   "outputs": [],
   "source": [
    "unique_ptr<TFile> infile;\n",
    "TTree *signalTree;\n",
    "unique_ptr<ResultByTree> result;"
   ]
  },
  {
   "cell_type": "markdown",
   "metadata": {},
   "source": [
    "Get the TMVA tutorial data files and load them into signal and background trees"
   ]
  },
  {
   "cell_type": "code",
   "execution_count": 3,
   "metadata": {},
   "outputs": [],
   "source": [
    "%%cpp -d\n",
    "#include \"GetTutorialFile.h\""
   ]
  },
  {
   "cell_type": "code",
   "execution_count": 4,
   "metadata": {},
   "outputs": [
    {
     "name": "stderr",
     "output_type": "stream",
     "text": [
      "Info in <TFile::OpenFromCache>: using local cache copy of http://root.cern.ch/files/tmva_class_example.root [./files/tmva_class_example.root]\n"
     ]
    },
    {
     "name": "stdout",
     "output_type": "stream",
     "text": [
      "--- TMVAClassification       : Using input file: ./files/tmva_class_example.root\n"
     ]
    }
   ],
   "source": [
    "infile.reset(GetClassificationFile());\n",
    "signalTree=(TTree*)infile->Get(\"TreeS\");"
   ]
  },
  {
   "cell_type": "markdown",
   "metadata": {},
   "source": [
    "Create the MVA results object.\n",
    "    The first argument is the training output directory + name. \n",
    "    The second is the tree you want to apply the result to.\n",
    "    The final kTRUE argument indicates that a new copy of the tree will be made,\n",
    "    this will be saved in the output file MLP.root when result is deleted.\n"
   ]
  },
  {
   "cell_type": "code",
   "execution_count": 5,
   "metadata": {},
   "outputs": [
    {
     "name": "stdout",
     "output_type": "stream",
     "text": [
      " ResultInterface::SetBranchAddresses found branches : \n",
      "   double 0\n",
      "   float 4\n",
      "   long 0\n",
      "   int 0\n",
      "   total vars in reader are 4\n",
      "                         : Booking \"MLP\" of type \"MLP\" from /work/dump/TMVAClassificationTut/weights/TMVAClassificationTut_MLP.weights.xml.\n",
      "                         : Reading weight file: /work/dump/TMVAClassificationTut/weights/TMVAClassificationTut_MLP.weights.xml\n",
      "<HEADER> DataSetInfo              : [Default] : Added class \"Signal\"\n",
      "<HEADER> DataSetInfo              : [Default] : Added class \"Background\"\n",
      "<HEADER> MLP                      : Building Network. \n",
      "                         : Initializing weights\n",
      "                         : Booked classifier \"MLP\" of type: \"MLP\"\n"
     ]
    }
   ],
   "source": [
    "result.reset(new ResultByTree(\"/work/dump/TMVAClassificationTut\",\"MLP\",signalTree,kTRUE));\n"
   ]
  },
  {
   "cell_type": "code",
   "execution_count": 6,
   "metadata": {},
   "outputs": [
    {
     "name": "stdout",
     "output_type": "stream",
     "text": [
      "HS::MVA::ResultInterface processed 6000 events \n"
     ]
    }
   ],
   "source": [
    "result->AddToTree();"
   ]
  },
  {
   "cell_type": "markdown",
   "metadata": {},
   "source": [
    "Use TTree::Draw to make a plot of the response"
   ]
  },
  {
   "cell_type": "code",
   "execution_count": 7,
   "metadata": {},
   "outputs": [],
   "source": [
    "%jsroot on"
   ]
  },
  {
   "cell_type": "code",
   "execution_count": null,
   "metadata": {},
   "outputs": [],
   "source": [
    "TCanvas c1;\n",
    "result->Draw(\"MLP>>(100,-1,1)\");\n",
    "c1.Draw();"
   ]
  }
 ],
 "metadata": {
  "kernelspec": {
   "display_name": "ROOT C++",
   "language": "c++",
   "name": "root"
  },
  "language_info": {
   "codemirror_mode": "text/x-c++src",
   "file_extension": ".C",
   "mimetype": " text/x-c++src",
   "name": "c++"
  }
 },
 "nbformat": 4,
 "nbformat_minor": 2
}
