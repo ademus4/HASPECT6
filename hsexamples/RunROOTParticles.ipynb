{
 "cells": [
  {
   "cell_type": "markdown",
   "metadata": {},
   "source": [
    "# Run the final state algorithm on a ROOT HSDATA file"
   ]
  },
  {
   "cell_type": "code",
   "execution_count": 1,
   "metadata": {
    "scrolled": false
   },
   "outputs": [
    {
     "name": "stdout",
     "output_type": "stream",
     "text": [
      "%%%%%%%%%%%%%%%%%%%%%%%%%    THSParticle\n",
      "%%%%%%%%%%%%%%%%%%%%%%%%%    EventInfo\n",
      "%%%%%%%%%%%%%%%%%%%%%%%%%    RunInfo\n",
      "%%%%%%%%%%%%%%%%%%%%%%%%%    THSWeights\n",
      "%%%%%%%%%%%%%%%%%%%%%%%%%    DataManager\n",
      "%%%%%%%%%%%%%%%%%%%%%%%%%    LundReader\n",
      "&&&&&&&&&&&&&&&&&&&&&&&&&&&& HSKinematics\n",
      "&&&&&&&&&&&&&&&&&&&&&&&&&&&& Cuts\n",
      "&&&&&&&&&&&&&&&&&&&&&&&&&&&& Combitorial\n",
      "&&&&&&&&&&&&&&&&&&&&&&&&&&&& ParticleIter\n",
      "&&&&&&&&&&&&&&&&&&&&&&&&&&&& Topology\n",
      "&&&&&&&&&&&&&&&&&&&&&&&&&&&& FinalState\n",
      "&&&&&&&&&&&&&&&&&&&&&&&&&&&& FiledTree\n",
      "&&&&&&&&&&&&&&&&&&&&&&&&&&&& TreeData\n",
      "&&&&&&&&&&&&&&&&&&&&&&&&&&&& TopoActionManager\n",
      "&&&&&&&&&&&&&&&&&&&&&&&&&&&& ParticleCuts\n",
      "&&&&&&&&&&&&&&&&&&&&&&&&&&&& VarsParticle\n",
      "&&&&&&&&&&&&&&&&&&&&&&&&&&&& TreePrepParticle\n",
      "&&&&&&&&&&&&&&&&&&&&&&&&&&&& MVASignalID\n",
      "&&&&&&&&&&&&&&&&&&&&&&&&&&&& ParticleCutsManager\n",
      "&&&&&&&&&&&&&&&&&&&&&&&&&&&& TreePrepManager\n",
      "&&&&&&&&&&&&&&&&&&&&&&&&&&&& MVASignalIDManager\n",
      "&&&&&&&&&&&&&&&&&&&&&&&&&&&& CLAS/CLASTrigger\n",
      "&&&&&&&&&&&&&&&&&&&&&&&&&&&& CLAS12/CLAS12Trigger\n",
      "&&&&&&&&&&&&&&&&&&&&&&&&&&&& CLAS12/CLAS12DeltaTime\n"
     ]
    }
   ],
   "source": [
    "gROOT->ProcessLine(\".x LoadK2.C+\");"
   ]
  },
  {
   "cell_type": "markdown",
   "metadata": {},
   "source": [
    "First create an object of your final state class. You may configure it if you want to limit the number of particles in an event or set to just run on generated simulation data.\n",
    "This notebook is equivalent to the RunFSRootXXX.C macro which will be in the code directory.\n",
    "Again just change XXX for your class name."
   ]
  },
  {
   "cell_type": "code",
   "execution_count": 2,
   "metadata": {},
   "outputs": [
    {
     "name": "stdout",
     "output_type": "stream",
     "text": [
      "testing Beam Beam\n",
      "Charge ID particle are  -22 \n",
      "Incusive particle are  -22 \n",
      " WARNING running HS::FinalState::AutoIter() you  should check the topology print output and make sure the displayed iterator is waht you want ..\n",
      "Charge ID particle are  -22 \n",
      "Incusive particle are  -22 \n",
      " WARNING running HS::FinalState::AutoIter() you  should check the topology print output and make sure the displayed iterator is waht you want ..\n",
      "Charge ID particle are  -22 \n",
      "Incusive particle are  -22 \n",
      " WARNING running HS::FinalState::AutoIter() you  should check the topology print output and make sure the displayed iterator is waht you want ..\n",
      "Charge ID particle are  -22 \n",
      "Incusive particle are  -22 \n",
      " WARNING running HS::FinalState::AutoIter() you  should check the topology print output and make sure the displayed iterator is waht you want ..\n",
      " Topology::Print() : 0\n",
      "    particles = -10000 -22 10000 10000 \n",
      "You can have any number of the following particles : \n",
      "-22 \n",
      "The following particle are identified by pdg code : \n",
      "-22 \n",
      " ParticleIter::Print() \n",
      "     Type : 2 number chosen 1 of id  -321 and number used here = 1\n",
      " ParticleIter::Print() \n",
      "     Type : 2 number chosen 1 of id  -22 and number used here = 1\n",
      " ParticleIter::Print() \n",
      "     Type : 2 number chosen 1 of id  2212 and number used here = 1\n",
      " ParticleIter::Print() \n",
      "     Type : 2 number chosen 1 of id  321 and number used here = 1\n",
      "\n",
      " Topology::Print() : 1\n",
      "    particles = -22 10000 10000 \n",
      "You can have any number of the following particles : \n",
      "-22 \n",
      "The following particle are identified by pdg code : \n",
      "-22 \n",
      " ParticleIter::Print() \n",
      "     Type : 2 number chosen 1 of id  -22 and number used here = 1\n",
      " ParticleIter::Print() \n",
      "     Type : 2 number chosen 1 of id  2212 and number used here = 1\n",
      " ParticleIter::Print() \n",
      "     Type : 2 number chosen 1 of id  321 and number used here = 1\n",
      "\n",
      " Topology::Print() : 2\n",
      "    particles = -10000 -22 10000 \n",
      "You can have any number of the following particles : \n",
      "-22 \n",
      "The following particle are identified by pdg code : \n",
      "-22 \n",
      " ParticleIter::Print() \n",
      "     Type : 2 number chosen 1 of id  -321 and number used here = 1\n",
      " ParticleIter::Print() \n",
      "     Type : 2 number chosen 1 of id  -22 and number used here = 1\n",
      " ParticleIter::Print() \n",
      "     Type : 2 number chosen 1 of id  2212 and number used here = 1\n",
      "\n",
      " Topology::Print() : 3\n",
      "    particles = -10000 -22 10000 \n",
      "You can have any number of the following particles : \n",
      "-22 \n",
      "The following particle are identified by pdg code : \n",
      "-22 \n",
      " ParticleIter::Print() \n",
      "     Type : 2 number chosen 1 of id  -321 and number used here = 1\n",
      " ParticleIter::Print() \n",
      "     Type : 2 number chosen 1 of id  -22 and number used here = 1\n",
      " ParticleIter::Print() \n",
      "     Type : 2 number chosen 1 of id  321 and number used here = 1\n",
      "\n"
     ]
    }
   ],
   "source": [
    " K2 fs(\"Beam\",\"Beam\");\n",
    "  // fs.SetGenerated(); //just analyse generated branch\n",
    "  // fs.SetMaxParticles(10); //max number of particles of any 1 type\n",
    " "
   ]
  },
  {
   "cell_type": "markdown",
   "metadata": {},
   "source": [
    "Create an output tree. Here we will use a FiledTree object which is a wrapper class to a tree in a file. We will also create this as a smart pointer so we can delete it at the end by calling reset(), this will save the tree to disk. The Filed tree needs 2 strings ,1 a treename and the other the file name. You should give the full path for where you would like the files saved. It will overwrite any existing files. "
   ]
  },
  {
   "cell_type": "code",
   "execution_count": 3,
   "metadata": {},
   "outputs": [],
   "source": [
    "auto output = new HS::FiledTree(\"tt\",\"testcuts.root\");\n",
    "fs.FinalStateOutTree(output->Tree()); //connect ouput tree to final state branches"
   ]
  },
  {
   "cell_type": "markdown",
   "metadata": {},
   "source": [
    "Here we add the cuts for each particle. This is done via a HS::Cuts object which gets propogated to each particle in each topology. To specify any type of cut behaviour you need to generate your own Cuts Method. Here we just use a predefined delta time cut but you could make your won class which has momentum dependence as well."
   ]
  },
  {
   "cell_type": "markdown",
   "metadata": {},
   "source": [
    "**Making your own cuts class** Here I use a new cuts class DeltaTimePCut. You can make your own cuts follwing the example notebook [DeltaTimePCut](MakeDeltaTimePCut.ipynb)"
   ]
  },
  {
   "cell_type": "code",
   "execution_count": 4,
   "metadata": {},
   "outputs": [
    {
     "name": "stdout",
     "output_type": "stream",
     "text": [
      "Info ParticleCutsManager AddParticleCut set cut for 0\n",
      "Info ParticleCutsManager AddParticleCut set cut for -22\n"
     ]
    }
   ],
   "source": [
    "ParticleCutsManager cutsman;\n",
    "auto beamCut=make_shared<DeltaTimePCut>(1,3); //7ns delta time cut\n",
    "auto otherCut=make_shared<DeltaTimePCut>(10,3); //10ns cut for all other particles\n",
    "cutsman.AddParticleCut(\"Beam\",beamCut); //assign to manager\n",
    "cutsman.SetDefaultCut(otherCut); //assign to manager\n",
    "cutsman.ConfigureCuts(&fs);    //propogate the cuts to topologies in fs"
   ]
  },
  {
   "cell_type": "markdown",
   "metadata": {},
   "source": [
    "Now register the cuts manager as a post topology function action. This will be applied after the Topo_0 etc functions when start times etc have been determined. "
   ]
  },
  {
   "cell_type": "code",
   "execution_count": 5,
   "metadata": {},
   "outputs": [],
   "source": [
    "fs.RegisterPostTopoAction(&cutsman);"
   ]
  },
  {
   "cell_type": "markdown",
   "metadata": {},
   "source": [
    "**Particle Monitoring** here we are going to make seperate trees for each topology and only keep the detected particle information in each one."
   ]
  },
  {
   "cell_type": "code",
   "execution_count": 6,
   "metadata": {
    "scrolled": false
   },
   "outputs": [
    {
     "name": "stdout",
     "output_type": "stream",
     "text": [
      "Adding Beam\n",
      "    Current number of particles: 0\n",
      " Resized vectors to fill: 1, 1\n",
      "Added 2 (Float_t) / \n",
      "Current particles: Beam  \n",
      "Adding Proton\n",
      "    Current number of particles: 1\n",
      " Resized vectors to fill: 2, 2\n",
      "Added 6 (Float_t) / \n",
      "Current particles: Beam Proton  \n",
      "Adding Kp\n",
      "    Current number of particles: 2\n",
      " Resized vectors to fill: 3, 3\n",
      "Added 6 (Float_t) / \n",
      "Current particles: Beam Proton Kp  \n",
      "Adding Km\n",
      "    Current number of particles: 3\n",
      " Resized vectors to fill: 4, 4\n",
      "Added 6 (Float_t) / \n",
      "Current particles: Beam Proton Kp Km  \n",
      "Setting branches...\n",
      "Printing variables: \n",
      "            BeamP   0 / 0\n",
      "            BeamTime   0 / 1\n",
      "            ProtonP   1 / 0\n",
      "            ProtonTh   1 / 1\n",
      "            ProtonPhi   1 / 2\n",
      "            ProtonTime   1 / 3\n",
      "            ProtonEdep   1 / 4\n",
      "            ProtonDeltaE   1 / 5\n",
      "            KpP   2 / 0\n",
      "            KpTh   2 / 1\n",
      "            KpPhi   2 / 2\n",
      "            KpTime   2 / 3\n",
      "            KpEdep   2 / 4\n",
      "            KpDeltaE   2 / 5\n",
      "            KmP   3 / 0\n",
      "            KmTh   3 / 1\n",
      "            KmPhi   3 / 2\n",
      "            KmTime   3 / 3\n",
      "            KmEdep   3 / 4\n",
      "            KmDeltaE   3 / 5\n",
      "Adding Beam\n",
      "    Current number of particles: 0\n",
      " Resized vectors to fill: 1, 1\n",
      "Added 2 (Float_t) / \n",
      "Current particles: Beam  \n",
      "Adding Proton\n",
      "    Current number of particles: 1\n",
      " Resized vectors to fill: 2, 2\n",
      "Added 6 (Float_t) / \n",
      "Current particles: Beam Proton  \n",
      "Adding Kp\n",
      "    Current number of particles: 2\n",
      " Resized vectors to fill: 3, 3\n",
      "Added 6 (Float_t) / \n",
      "Current particles: Beam Proton Kp  \n",
      "Setting branches...\n",
      "Printing variables: \n",
      "            BeamP   0 / 0\n",
      "            BeamTime   0 / 1\n",
      "            ProtonP   1 / 0\n",
      "            ProtonTh   1 / 1\n",
      "            ProtonPhi   1 / 2\n",
      "            ProtonTime   1 / 3\n",
      "            ProtonEdep   1 / 4\n",
      "            ProtonDeltaE   1 / 5\n",
      "            KpP   2 / 0\n",
      "            KpTh   2 / 1\n",
      "            KpPhi   2 / 2\n",
      "            KpTime   2 / 3\n",
      "            KpEdep   2 / 4\n",
      "            KpDeltaE   2 / 5\n",
      "Adding Beam\n",
      "    Current number of particles: 0\n",
      " Resized vectors to fill: 1, 1\n",
      "Added 2 (Float_t) / \n",
      "Current particles: Beam  \n",
      "Adding Proton\n",
      "    Current number of particles: 1\n",
      " Resized vectors to fill: 2, 2\n",
      "Added 6 (Float_t) / \n",
      "Current particles: Beam Proton  \n",
      "Adding Km\n",
      "    Current number of particles: 2\n",
      " Resized vectors to fill: 3, 3\n",
      "Added 6 (Float_t) / \n",
      "Current particles: Beam Proton Km  \n",
      "Setting branches...\n",
      "Printing variables: \n",
      "            BeamP   0 / 0\n",
      "            BeamTime   0 / 1\n",
      "            ProtonP   1 / 0\n",
      "            ProtonTh   1 / 1\n",
      "            ProtonPhi   1 / 2\n",
      "            ProtonTime   1 / 3\n",
      "            ProtonEdep   1 / 4\n",
      "            ProtonDeltaE   1 / 5\n",
      "            KmP   2 / 0\n",
      "            KmTh   2 / 1\n",
      "            KmPhi   2 / 2\n",
      "            KmTime   2 / 3\n",
      "            KmEdep   2 / 4\n",
      "            KmDeltaE   2 / 5\n",
      "Adding Beam\n",
      "    Current number of particles: 0\n",
      " Resized vectors to fill: 1, 1\n",
      "Added 2 (Float_t) / \n",
      "Current particles: Beam  \n",
      "Adding Kp\n",
      "    Current number of particles: 1\n",
      " Resized vectors to fill: 2, 2\n",
      "Added 6 (Float_t) / \n",
      "Current particles: Beam Kp  \n",
      "Adding Km\n",
      "    Current number of particles: 2\n",
      " Resized vectors to fill: 3, 3\n",
      "Added 6 (Float_t) / \n",
      "Current particles: Beam Kp Km  \n",
      "Setting branches...\n",
      "Printing variables: \n",
      "            BeamP   0 / 0\n",
      "            BeamTime   0 / 1\n",
      "            KpP   1 / 0\n",
      "            KpTh   1 / 1\n",
      "            KpPhi   1 / 2\n",
      "            KpTime   1 / 3\n",
      "            KpEdep   1 / 4\n",
      "            KpDeltaE   1 / 5\n",
      "            KmP   2 / 0\n",
      "            KmTh   2 / 1\n",
      "            KmPhi   2 / 2\n",
      "            KmTime   2 / 3\n",
      "            KmEdep   2 / 4\n",
      "            KmDeltaE   2 / 5\n"
     ]
    }
   ],
   "source": [
    "TreePrepManager treeman(\"/scratch/dglazier/g8/particles/t3\");\n",
    "treeman.SetParticleVars(\"Beam\",{\"P\",\"Time\"}); //For beam only interesetef in energy and time\n",
    "treeman.ConfigureTreeParticles(&fs); //propogate through topologies\n",
    "fs.RegisterPostWorkAction(&treeman); //register post-work i.e. after kinematics is called and all calculations"
   ]
  },
  {
   "cell_type": "markdown",
   "metadata": {},
   "source": [
    "Now we configure the input data. Here we use a ROOT file presaved in HSDATA format. It is possible to analyse other dataformats via the DataManager class."
   ]
  },
  {
   "cell_type": "code",
   "execution_count": 7,
   "metadata": {},
   "outputs": [
    {
     "name": "stderr",
     "output_type": "stream",
     "text": [
      "Info in <DataManager::InitChain>:  Will proceess all 1 files in chain\n"
     ]
    },
    {
     "name": "stdout",
     "output_type": "stream",
     "text": [
      "DataManager::InitReader set branch 0x7f2b50533a28 0x7f2b50533a28\n"
     ]
    }
   ],
   "source": [
    " //create datamanager\n",
    "  auto dm=std::make_shared<DataManager>();\n",
    "\n",
    "  //And make a chain of data files\n",
    "  TChain chain(\"HSParticles\");\n",
    "  chain.Add(\"/w/work1/jlab/hallb/HS_g8/1_9_list/flist_048088.dat.root\");\n",
    "  dm->InitChain(&chain);\n",
    "\n",
    "  //connect FinalState to Data by moving the pointer\n",
    "  fs.SetDataManager(dm);"
   ]
  },
  {
   "cell_type": "markdown",
   "metadata": {},
   "source": [
    "Analyse all the events. Not you may prefer just looping over the data manager directly via while(dm->ReadEvent()) fs->Process();\n",
    "You can also supply a number of events to analyse e.g. fs.ProcessData(100);"
   ]
  },
  {
   "cell_type": "code",
   "execution_count": 8,
   "metadata": {
    "scrolled": true
   },
   "outputs": [
    {
     "name": "stdout",
     "output_type": "stream",
     "text": [
      "Number of Events to process 1111760\n",
      " ProcessData event 100000\n",
      " ProcessData event 200000\n",
      " ProcessData event 300000\n",
      " ProcessData event 400000\n",
      " ProcessData event 500000\n",
      " ProcessData event 600000\n",
      " ProcessData event 700000\n",
      " ProcessData event 800000\n",
      " ProcessData event 900000\n",
      " ProcessData event 1000000\n",
      " ProcessData event 1100000\n",
      "1111760 1 1\n",
      "DataManager::NextChainFile() Finished all files \n",
      "******TreeCache statistics for tree: HSParticles in file: /w/work1/jlab/hallb/HS_g8/1_9_list/flist_048088.dat.root ******\n",
      "TreeCache = 50 MBytes\n",
      "N leaves  = 29\n",
      "ReadTotal = 263.484 MBytes\n",
      "ReadUnZip = 717.401 MBytes\n",
      "ReadCalls = 952\n",
      "ReadSize  = 276.769 KBytes/read\n",
      "Readahead = 256 KBytes\n",
      "Readextra =  0.00 per cent\n",
      "Real Time =  36.556 seconds\n",
      "CPU  Time =  36.510 seconds\n",
      "Disk Time =   0.225 seconds\n",
      "Disk IO   = 1171.765 MBytes/s\n",
      "ReadUZRT  =  19.625 MBytes/s\n",
      "ReadUZCP  =  19.649 MBytes/s\n",
      "ReadRT    =   7.208 MBytes/s\n",
      "ReadCP    =   7.217 MBytes/s\n",
      "Done 1111760 events \n"
     ]
    }
   ],
   "source": [
    "cout<<\"Number of Events to process \"<<chain.GetEntries()<<endl;\n",
    "\n",
    "fs.ProcessData(); //No number give, analyse all events in chain\n",
    "cout<<\"Done \"<<dm->GetEntry()<< \" events \"<<endl;"
   ]
  },
  {
   "cell_type": "markdown",
   "metadata": {},
   "source": [
    "And remember to save the tree!"
   ]
  },
  {
   "cell_type": "code",
   "execution_count": 9,
   "metadata": {},
   "outputs": [],
   "source": [
    "//delete output;"
   ]
  },
  {
   "cell_type": "code",
   "execution_count": 10,
   "metadata": {},
   "outputs": [],
   "source": [
    "%jsroot on"
   ]
  },
  {
   "cell_type": "code",
   "execution_count": 14,
   "metadata": {},
   "outputs": [
    {
     "name": "stdout",
     "output_type": "stream",
     "text": [
      " rh 0x7f2b502fe740\n"
     ]
    }
   ],
   "source": [
    "//TCanvas c3;\n",
    "//c3.Divide(2,2);\n",
    "c3.cd(1);\n",
    "cout<<\" rh \"<<treeman.GetPrep(1)<<endl;\n",
    "treeman.GetPrep(0)->Tree()->Draw(\"BeamP>>h1(100,0,3)\",\"\");\n",
    "c3.cd(2);\n",
    "treeman.GetPrep(0)->Tree()->Draw(\"ProtonP:ProtonTime>>h2(100,-10,10,100,0,4)\",\"\",\"col1\");\n",
    "c3.cd(3);\n",
    "treeman.GetPrep(0)->Tree()->Draw(\"KpP:KpTime>>h3(100,-10,10,100,0,4)\",\"\",\"col1\");\n",
    "c3.cd(4);\n",
    "treeman.GetPrep(0)->Tree()->Draw(\"KpP:KpTime>>h4(100,-10,10,100,0,4)\",\"\",\"col1\");\n"
   ]
  },
  {
   "cell_type": "code",
   "execution_count": 15,
   "metadata": {
    "scrolled": false
   },
   "outputs": [
    {
     "data": {
      "text/html": [
       "\n",
       "<div id=\"root_plot_2\"\n",
       "     style=\"width: 696px; height: 472px\">\n",
       "</div>\n",
       "\n",
       "<script>\n",
       " requirejs.config({\n",
       "     paths: {\n",
       "       'JSRootCore' : 'https://root.cern.ch/js/notebook//scripts/JSRootCore',\n",
       "     }\n",
       "   });\n",
       " require(['JSRootCore'],\n",
       "     function(Core) {\n",
       "       var obj = Core.JSONR_unref({\"_typename\":\"TCanvas\",\"fUniqueID\":0,\"fBits\":36896776,\"fLineColor\":1,\"fLineStyle\":1,\"fLineWidth\":1,\"fFillColor\":0,\"fFillStyle\":1001,\"fLeftMargin\":0.1,\"fRightMargin\":0.1,\"fBottomMargin\":0.1,\"fTopMargin\":0.1,\"fXfile\":2,\"fYfile\":2,\"fAfile\":1,\"fXstat\":0.99,\"fYstat\":0.99,\"fAstat\":2,\"fFrameFillColor\":0,\"fFrameLineColor\":1,\"fFrameFillStyle\":1001,\"fFrameLineStyle\":1,\"fFrameLineWidth\":1,\"fFrameBorderSize\":1,\"fFrameBorderMode\":0,\"fX1\":0,\"fY1\":0,\"fX2\":1,\"fY2\":1,\"fXtoAbsPixelk\":5e-5,\"fXtoPixelk\":5e-5,\"fXtoPixel\":696,\"fYtoAbsPixelk\":472.00005,\"fYtoPixelk\":472.00005,\"fYtoPixel\":-472,\"fUtoAbsPixelk\":5e-5,\"fUtoPixelk\":5e-5,\"fUtoPixel\":696,\"fVtoAbsPixelk\":472.00005,\"fVtoPixelk\":472,\"fVtoPixel\":-472,\"fAbsPixeltoXk\":0,\"fPixeltoXk\":0,\"fPixeltoX\":0.0014367816091954,\"fAbsPixeltoYk\":1,\"fPixeltoYk\":0,\"fPixeltoY\":-0.00211864406779661,\"fXlowNDC\":0,\"fYlowNDC\":0,\"fXUpNDC\":0,\"fYUpNDC\":0,\"fWNDC\":1,\"fHNDC\":1,\"fAbsXlowNDC\":0,\"fAbsYlowNDC\":0,\"fAbsWNDC\":1,\"fAbsHNDC\":1,\"fUxmin\":0,\"fUymin\":0,\"fUxmax\":1,\"fUymax\":1,\"fTheta\":30,\"fPhi\":30,\"fAspectRatio\":0,\"fNumber\":0,\"fTickx\":0,\"fTicky\":0,\"fLogx\":0,\"fLogy\":0,\"fLogz\":0,\"fPadPaint\":0,\"fCrosshair\":0,\"fCrosshairPos\":0,\"fBorderSize\":2,\"fBorderMode\":0,\"fModified\":false,\"fGridx\":false,\"fGridy\":false,\"fAbsCoord\":false,\"fEditable\":true,\"fFixedAspectRatio\":false,\"fPrimitives\":{\"_typename\":\"TList\",\"name\":\"TList\",\"arr\":[{\"_typename\":\"TPad\",\"fUniqueID\":0,\"fBits\":50331657,\"fLineColor\":1,\"fLineStyle\":1,\"fLineWidth\":1,\"fFillColor\":0,\"fFillStyle\":1001,\"fLeftMargin\":0.1,\"fRightMargin\":0.1,\"fBottomMargin\":0.1,\"fTopMargin\":0.1,\"fXfile\":2,\"fYfile\":2,\"fAfile\":1,\"fXstat\":0.99,\"fYstat\":0.99,\"fAstat\":2,\"fFrameFillColor\":0,\"fFrameLineColor\":1,\"fFrameFillStyle\":1001,\"fFrameLineStyle\":1,\"fFrameLineWidth\":1,\"fFrameBorderSize\":1,\"fFrameBorderMode\":0,\"fX1\":-0.375000027939679,\"fY1\":-607.950045295808,\"fX2\":3.37500002793968,\"fY2\":5471.55004529581,\"fXtoAbsPixelk\":40.3680518668176,\"fXtoPixelk\":33.4080520223857,\"fXtoPixel\":89.087998755455,\"fYtoAbsPixelk\":208.624048733997,\"fYtoPixelk\":203.904048839497,\"fYtoPixel\":-0.0372662220305935,\"fUtoAbsPixelk\":6.96004984443188,\"fUtoPixelk\":5e-5,\"fUtoPixel\":334.080000311136,\"fVtoAbsPixelk\":231.2800501055,\"fVtoPixelk\":226.560000211,\"fVtoPixel\":-226.560000211,\"fAbsPixeltoXk\":-0.453125027284843,\"fPixeltoXk\":-0.375000027939679,\"fPixeltoX\":0.0112248564786485,\"fAbsPixeltoYk\":5598.20629423419,\"fPixeltoYk\":-607.950045295808,\"fPixeltoY\":-26.8339516460524,\"fXlowNDC\":0.00999999977648258,\"fYlowNDC\":0.509999999776483,\"fXUpNDC\":0,\"fYUpNDC\":0,\"fWNDC\":0.480000000447035,\"fHNDC\":0.480000000447035,\"fAbsXlowNDC\":0.00999999977648258,\"fAbsYlowNDC\":0.509999999776483,\"fAbsWNDC\":0.480000000447035,\"fAbsHNDC\":0.480000000447035,\"fUxmin\":0,\"fUymin\":0,\"fUxmax\":3,\"fUymax\":4863.6,\"fTheta\":30,\"fPhi\":30,\"fAspectRatio\":0,\"fNumber\":1,\"fTickx\":0,\"fTicky\":0,\"fLogx\":0,\"fLogy\":0,\"fLogz\":0,\"fPadPaint\":0,\"fCrosshair\":0,\"fCrosshairPos\":0,\"fBorderSize\":2,\"fBorderMode\":0,\"fModified\":false,\"fGridx\":false,\"fGridy\":false,\"fAbsCoord\":false,\"fEditable\":true,\"fFixedAspectRatio\":false,\"fPrimitives\":{\"_typename\":\"TList\",\"name\":\"TList\",\"arr\":[{\"_typename\":\"TFrame\",\"fUniqueID\":0,\"fBits\":50331656,\"fLineColor\":1,\"fLineStyle\":1,\"fLineWidth\":1,\"fFillColor\":0,\"fFillStyle\":1001,\"fX1\":0,\"fY1\":0,\"fX2\":3,\"fY2\":4863.6,\"fBorderSize\":1,\"fBorderMode\":0},{\"_typename\":\"TH1F\",\"fUniqueID\":0,\"fBits\":50331656,\"fName\":\"h1\",\"fTitle\":\"BeamP\",\"fLineColor\":602,\"fLineStyle\":1,\"fLineWidth\":1,\"fFillColor\":0,\"fFillStyle\":1001,\"fMarkerColor\":1,\"fMarkerStyle\":1,\"fMarkerSize\":1,\"fNcells\":102,\"fXaxis\":{\"_typename\":\"TAxis\",\"fUniqueID\":0,\"fBits\":50331648,\"fName\":\"xaxis\",\"fTitle\":\"\",\"fNdivisions\":510,\"fAxisColor\":1,\"fLabelColor\":1,\"fLabelFont\":42,\"fLabelOffset\":0.005,\"fLabelSize\":0.035,\"fTickLength\":0.03,\"fTitleOffset\":1,\"fTitleSize\":0.035,\"fTitleColor\":1,\"fTitleFont\":42,\"fNbins\":100,\"fXmin\":0,\"fXmax\":3,\"fXbins\":[],\"fFirst\":0,\"fLast\":0,\"fBits2\":0,\"fTimeDisplay\":false,\"fTimeFormat\":\"\",\"fLabels\":null,\"fModLabs\":null},\"fYaxis\":{\"_typename\":\"TAxis\",\"fUniqueID\":0,\"fBits\":50331648,\"fName\":\"yaxis\",\"fTitle\":\"\",\"fNdivisions\":510,\"fAxisColor\":1,\"fLabelColor\":1,\"fLabelFont\":42,\"fLabelOffset\":0.005,\"fLabelSize\":0.035,\"fTickLength\":0.03,\"fTitleOffset\":0,\"fTitleSize\":0.035,\"fTitleColor\":1,\"fTitleFont\":42,\"fNbins\":1,\"fXmin\":0,\"fXmax\":1,\"fXbins\":[],\"fFirst\":0,\"fLast\":0,\"fBits2\":0,\"fTimeDisplay\":false,\"fTimeFormat\":\"\",\"fLabels\":null,\"fModLabs\":null},\"fZaxis\":{\"_typename\":\"TAxis\",\"fUniqueID\":0,\"fBits\":50331648,\"fName\":\"zaxis\",\"fTitle\":\"\",\"fNdivisions\":510,\"fAxisColor\":1,\"fLabelColor\":1,\"fLabelFont\":42,\"fLabelOffset\":0.005,\"fLabelSize\":0.035,\"fTickLength\":0.03,\"fTitleOffset\":1,\"fTitleSize\":0.035,\"fTitleColor\":1,\"fTitleFont\":42,\"fNbins\":1,\"fXmin\":0,\"fXmax\":1,\"fXbins\":[],\"fFirst\":0,\"fLast\":0,\"fBits2\":0,\"fTimeDisplay\":false,\"fTimeFormat\":\"\",\"fLabels\":null,\"fModLabs\":null},\"fBarOffset\":0,\"fBarWidth\":1000,\"fEntries\":69891,\"fTsumw\":69891,\"fTsumw2\":69891,\"fTsumwx\":133290.269514143,\"fTsumwx2\":266391.392793903,\"fMaximum\":-1111,\"fMinimum\":-1111,\"fNormFactor\":0,\"fContour\":[],\"fSumw2\":[],\"fOption\":\"\",\"fFunctions\":{\"_typename\":\"TList\",\"name\":\"TList\",\"arr\":[{\"_typename\":\"TPaveStats\",\"fUniqueID\":0,\"fBits\":50331657,\"fLineColor\":1,\"fLineStyle\":1,\"fLineWidth\":1,\"fFillColor\":0,\"fFillStyle\":1001,\"fX1\":2.55000007599592,\"fY1\":4103.66256114934,\"fX2\":3.30000009834767,\"fY2\":5076.38255390201,\"fX1NDC\":0.780000016093254,\"fY1NDC\":0.775000005960464,\"fX2NDC\":0.980000019073486,\"fY2NDC\":0.935000002384186,\"fBorderSize\":1,\"fInit\":1,\"fShadowColor\":1,\"fCornerRadius\":0,\"fOption\":\"brNDC\",\"fName\":\"stats\",\"fTextAngle\":0,\"fTextSize\":0,\"fTextAlign\":12,\"fTextColor\":1,\"fTextFont\":42,\"fLabel\":\"\",\"fLongest\":18,\"fMargin\":0.05,\"fLines\":{\"_typename\":\"TList\",\"name\":\"TList\",\"arr\":[{\"_typename\":\"TLatex\",\"fUniqueID\":0,\"fBits\":50331648,\"fName\":\"\",\"fTitle\":\"h1\",\"fTextAngle\":0,\"fTextSize\":0.0368,\"fTextAlign\":0,\"fTextColor\":0,\"fTextFont\":0,\"fX\":0,\"fY\":0,\"fLineColor\":1,\"fLineStyle\":1,\"fLineWidth\":2,\"fLimitFactorSize\":3,\"fOriginSize\":0.0368000008165836},{\"_typename\":\"TLatex\",\"fUniqueID\":0,\"fBits\":50331648,\"fName\":\"\",\"fTitle\":\"Entries = 69891  \",\"fTextAngle\":0,\"fTextSize\":0,\"fTextAlign\":0,\"fTextColor\":0,\"fTextFont\":0,\"fX\":0,\"fY\":0,\"fLineColor\":1,\"fLineStyle\":1,\"fLineWidth\":2,\"fLimitFactorSize\":3,\"fOriginSize\":0.04},{\"_typename\":\"TLatex\",\"fUniqueID\":0,\"fBits\":50331648,\"fName\":\"\",\"fTitle\":\"Mean  =  1.907\",\"fTextAngle\":0,\"fTextSize\":0,\"fTextAlign\":0,\"fTextColor\":0,\"fTextFont\":0,\"fX\":0,\"fY\":0,\"fLineColor\":1,\"fLineStyle\":1,\"fLineWidth\":2,\"fLimitFactorSize\":3,\"fOriginSize\":0.04},{\"_typename\":\"TLatex\",\"fUniqueID\":0,\"fBits\":50331648,\"fName\":\"\",\"fTitle\":\"Std Dev   = 0.4177\",\"fTextAngle\":0,\"fTextSize\":0,\"fTextAlign\":0,\"fTextColor\":0,\"fTextFont\":0,\"fX\":0,\"fY\":0,\"fLineColor\":1,\"fLineStyle\":1,\"fLineWidth\":2,\"fLimitFactorSize\":3,\"fOriginSize\":0.04}],\"opt\":[\"\",\"\",\"\",\"\"]},\"fOptFit\":0,\"fOptStat\":1111,\"fFitFormat\":\"5.4g\",\"fStatFormat\":\"6.4g\",\"fParent\":{\"$ref\":5}}],\"opt\":[\"brNDC\"]},\"fBufferSize\":0,\"fBuffer\":[],\"fBinStatErrOpt\":0,\"fStatOverflows\":2,\"fArray\":[0,0,0,0,0,0,0,0,0,0,0,0,0,0,0,0,0,0,0,0,0,0,0,0,0,0,0,0,0,0,0,0,0,283,537,415,538,545,497,533,646,574,652,699,688,622,673,575,588,670,818,729,779,1005,1162,1053,1266,1751,1661,1710,2403,2802,2804,3849,3832,3894,4632,3741,2548,1415,1228,893,655,693,589,428,432,466,493,493,287,551,488,526,418,508,576,633,595,583,654,681,642,478,325,444,352,354,323,220,294,0]},{\"_typename\":\"TPaveText\",\"fUniqueID\":0,\"fBits\":50331657,\"fLineColor\":1,\"fLineStyle\":1,\"fLineWidth\":1,\"fFillColor\":0,\"fFillStyle\":0,\"fX1\":1.23239044162891,\"fY1\":5106.78006386709,\"fX2\":1.76760955837109,\"fY2\":5441.15257383217,\"fX1NDC\":0.428637452164428,\"fY1NDC\":0.940000003948808,\"fX2NDC\":0.571362547835572,\"fY2NDC\":0.995000004768372,\"fBorderSize\":0,\"fInit\":1,\"fShadowColor\":1,\"fCornerRadius\":0,\"fOption\":\"blNDC\",\"fName\":\"title\",\"fTextAngle\":0,\"fTextSize\":0,\"fTextAlign\":22,\"fTextColor\":1,\"fTextFont\":42,\"fLabel\":\"\",\"fLongest\":5,\"fMargin\":0.05,\"fLines\":{\"_typename\":\"TList\",\"name\":\"TList\",\"arr\":[{\"_typename\":\"TLatex\",\"fUniqueID\":0,\"fBits\":50331648,\"fName\":\"\",\"fTitle\":\"BeamP\",\"fTextAngle\":0,\"fTextSize\":0,\"fTextAlign\":0,\"fTextColor\":0,\"fTextFont\":0,\"fX\":0,\"fY\":0,\"fLineColor\":1,\"fLineStyle\":1,\"fLineWidth\":2,\"fLimitFactorSize\":3,\"fOriginSize\":0.0467500016093254}],\"opt\":[\"\"]}}],\"opt\":[\"\",\"\",\"blNDC\"]},\"fExecs\":{\"_typename\":\"TList\",\"name\":\"TList\",\"arr\":[],\"opt\":[]},\"fName\":\"c1_1\",\"fTitle\":\"c1_1\",\"fNumPaletteColor\":0,\"fNextPaletteColor\":0},{\"_typename\":\"TPad\",\"fUniqueID\":0,\"fBits\":50331657,\"fLineColor\":1,\"fLineStyle\":1,\"fLineWidth\":1,\"fFillColor\":0,\"fFillStyle\":1001,\"fLeftMargin\":0.1,\"fRightMargin\":0.1,\"fBottomMargin\":0.1,\"fTopMargin\":0.1,\"fXfile\":2,\"fYfile\":2,\"fAfile\":1,\"fXstat\":0.99,\"fYstat\":0.99,\"fAstat\":2,\"fFrameFillColor\":0,\"fFrameLineColor\":1,\"fFrameFillStyle\":1001,\"fFrameLineStyle\":1,\"fFrameLineWidth\":1,\"fFrameBorderSize\":1,\"fFrameBorderMode\":0,\"fX1\":-12.5000001862645,\"fY1\":-0.500000037252905,\"fX2\":12.5000001862645,\"fY2\":4.5000000372529,\"fXtoAbsPixelk\":522.00005,\"fXtoPixelk\":167.040050155568,\"fXtoPixel\":13.3631998133182,\"fYtoAbsPixelk\":208.624048733997,\"fYtoPixelk\":203.904048839497,\"fYtoPixel\":-45.3119993669986,\"fUtoAbsPixelk\":354.960049844432,\"fUtoPixelk\":5e-5,\"fUtoPixel\":334.080000311136,\"fVtoAbsPixelk\":231.2800501055,\"fVtoPixelk\":226.560000211,\"fVtoPixel\":-226.560000211,\"fAbsPixeltoXk\":-39.0625005456968,\"fPixeltoXk\":-12.5000001862645,\"fPixeltoX\":0.0748323765243235,\"fAbsPixeltoYk\":4.60416670304646,\"fPixeltoYk\":-0.500000037252905,\"fPixeltoY\":-0.0220692093478513,\"fXlowNDC\":0.509999999776483,\"fYlowNDC\":0.509999999776483,\"fXUpNDC\":0,\"fYUpNDC\":0,\"fWNDC\":0.480000000447035,\"fHNDC\":0.480000000447035,\"fAbsXlowNDC\":0.509999999776483,\"fAbsYlowNDC\":0.509999999776483,\"fAbsWNDC\":0.480000000447035,\"fAbsHNDC\":0.480000000447035,\"fUxmin\":-10,\"fUymin\":0,\"fUxmax\":10,\"fUymax\":4,\"fTheta\":30,\"fPhi\":30,\"fAspectRatio\":0,\"fNumber\":2,\"fTickx\":0,\"fTicky\":0,\"fLogx\":0,\"fLogy\":0,\"fLogz\":0,\"fPadPaint\":0,\"fCrosshair\":0,\"fCrosshairPos\":0,\"fBorderSize\":2,\"fBorderMode\":0,\"fModified\":false,\"fGridx\":false,\"fGridy\":false,\"fAbsCoord\":false,\"fEditable\":true,\"fFixedAspectRatio\":false,\"fPrimitives\":{\"_typename\":\"TList\",\"name\":\"TList\",\"arr\":[{\"_typename\":\"TFrame\",\"fUniqueID\":0,\"fBits\":50331656,\"fLineColor\":1,\"fLineStyle\":1,\"fLineWidth\":1,\"fFillColor\":0,\"fFillStyle\":1001,\"fX1\":-10,\"fY1\":0,\"fX2\":10,\"fY2\":4,\"fBorderSize\":1,\"fBorderMode\":0},{\"_typename\":\"TH2F\",\"fUniqueID\":0,\"fBits\":50331656,\"fName\":\"h2\",\"fTitle\":\"ProtonP:ProtonTime\",\"fLineColor\":602,\"fLineStyle\":1,\"fLineWidth\":1,\"fFillColor\":0,\"fFillStyle\":1001,\"fMarkerColor\":1,\"fMarkerStyle\":1,\"fMarkerSize\":1,\"fNcells\":10404,\"fXaxis\":{\"_typename\":\"TAxis\",\"fUniqueID\":0,\"fBits\":50331648,\"fName\":\"xaxis\",\"fTitle\":\"\",\"fNdivisions\":510,\"fAxisColor\":1,\"fLabelColor\":1,\"fLabelFont\":42,\"fLabelOffset\":0.005,\"fLabelSize\":0.035,\"fTickLength\":0.03,\"fTitleOffset\":1,\"fTitleSize\":0.035,\"fTitleColor\":1,\"fTitleFont\":42,\"fNbins\":100,\"fXmin\":-10,\"fXmax\":10,\"fXbins\":[],\"fFirst\":0,\"fLast\":0,\"fBits2\":0,\"fTimeDisplay\":false,\"fTimeFormat\":\"\",\"fLabels\":null,\"fModLabs\":null},\"fYaxis\":{\"_typename\":\"TAxis\",\"fUniqueID\":0,\"fBits\":50331648,\"fName\":\"yaxis\",\"fTitle\":\"\",\"fNdivisions\":510,\"fAxisColor\":1,\"fLabelColor\":1,\"fLabelFont\":42,\"fLabelOffset\":0.005,\"fLabelSize\":0.035,\"fTickLength\":0.03,\"fTitleOffset\":0,\"fTitleSize\":0.035,\"fTitleColor\":1,\"fTitleFont\":42,\"fNbins\":100,\"fXmin\":0,\"fXmax\":4,\"fXbins\":[],\"fFirst\":0,\"fLast\":0,\"fBits2\":0,\"fTimeDisplay\":false,\"fTimeFormat\":\"\",\"fLabels\":null,\"fModLabs\":null},\"fZaxis\":{\"_typename\":\"TAxis\",\"fUniqueID\":0,\"fBits\":50331648,\"fName\":\"zaxis\",\"fTitle\":\"\",\"fNdivisions\":510,\"fAxisColor\":1,\"fLabelColor\":1,\"fLabelFont\":42,\"fLabelOffset\":0.005,\"fLabelSize\":0.035,\"fTickLength\":0.03,\"fTitleOffset\":1,\"fTitleSize\":0.035,\"fTitleColor\":1,\"fTitleFont\":42,\"fNbins\":1,\"fXmin\":0,\"fXmax\":1,\"fXbins\":[],\"fFirst\":0,\"fLast\":0,\"fBits2\":0,\"fTimeDisplay\":false,\"fTimeFormat\":\"\",\"fLabels\":null,\"fModLabs\":null},\"fBarOffset\":0,\"fBarWidth\":1000,\"fEntries\":69891,\"fTsumw\":69891,\"fTsumw2\":69891,\"fTsumwx\":-38403.1297878126,\"fTsumwx2\":781997.826021127,\"fMaximum\":-1111,\"fMinimum\":-1111,\"fNormFactor\":0,\"fContour\":[0,14.55,29.1,43.65,58.2,72.75,87.3,101.85,116.4,130.95,145.5,160.05,174.6,189.15,203.7,218.25,232.8,247.35,261.9,276.45],\"fSumw2\":[],\"fOption\":\"\",\"fFunctions\":{\"_typename\":\"TList\",\"name\":\"TList\",\"arr\":[{\"_typename\":\"TPaveStats\",\"fUniqueID\":0,\"fBits\":50331657,\"fLineColor\":1,\"fLineStyle\":1,\"fLineWidth\":1,\"fFillColor\":0,\"fFillStyle\":1001,\"fX1\":7.00000050663949,\"fY1\":2.97500005327165,\"fX2\":12.0000006556511,\"fY2\":4.17500004433096,\"fX1NDC\":0.780000016093254,\"fY1NDC\":0.695000007748604,\"fX2NDC\":0.980000019073486,\"fY2NDC\":0.935000002384186,\"fBorderSize\":1,\"fInit\":1,\"fShadowColor\":1,\"fCornerRadius\":0,\"fOption\":\"brNDC\",\"fName\":\"stats\",\"fTextAngle\":0,\"fTextSize\":0,\"fTextAlign\":12,\"fTextColor\":1,\"fTextFont\":42,\"fLabel\":\"\",\"fLongest\":18,\"fMargin\":0.05,\"fLines\":{\"_typename\":\"TList\",\"name\":\"TList\",\"arr\":[{\"_typename\":\"TLatex\",\"fUniqueID\":0,\"fBits\":50331648,\"fName\":\"\",\"fTitle\":\"h2\",\"fTextAngle\":0,\"fTextSize\":0.0368,\"fTextAlign\":0,\"fTextColor\":0,\"fTextFont\":0,\"fX\":0,\"fY\":0,\"fLineColor\":1,\"fLineStyle\":1,\"fLineWidth\":2,\"fLimitFactorSize\":3,\"fOriginSize\":0.0368000008165836},{\"_typename\":\"TLatex\",\"fUniqueID\":0,\"fBits\":50331648,\"fName\":\"\",\"fTitle\":\"Entries = 69891  \",\"fTextAngle\":0,\"fTextSize\":0,\"fTextAlign\":0,\"fTextColor\":0,\"fTextFont\":0,\"fX\":0,\"fY\":0,\"fLineColor\":1,\"fLineStyle\":1,\"fLineWidth\":2,\"fLimitFactorSize\":3,\"fOriginSize\":0.04},{\"_typename\":\"TLatex\",\"fUniqueID\":0,\"fBits\":50331648,\"fName\":\"\",\"fTitle\":\"Mean x = -0.5495\",\"fTextAngle\":0,\"fTextSize\":0,\"fTextAlign\":0,\"fTextColor\":0,\"fTextFont\":0,\"fX\":0,\"fY\":0,\"fLineColor\":1,\"fLineStyle\":1,\"fLineWidth\":2,\"fLimitFactorSize\":3,\"fOriginSize\":0.04},{\"_typename\":\"TLatex\",\"fUniqueID\":0,\"fBits\":50331648,\"fName\":\"\",\"fTitle\":\"Mean y = 0.8162\",\"fTextAngle\":0,\"fTextSize\":0,\"fTextAlign\":0,\"fTextColor\":0,\"fTextFont\":0,\"fX\":0,\"fY\":0,\"fLineColor\":1,\"fLineStyle\":1,\"fLineWidth\":2,\"fLimitFactorSize\":3,\"fOriginSize\":0.04},{\"_typename\":\"TLatex\",\"fUniqueID\":0,\"fBits\":50331648,\"fName\":\"\",\"fTitle\":\"Std Dev x =    3.3\",\"fTextAngle\":0,\"fTextSize\":0,\"fTextAlign\":0,\"fTextColor\":0,\"fTextFont\":0,\"fX\":0,\"fY\":0,\"fLineColor\":1,\"fLineStyle\":1,\"fLineWidth\":2,\"fLimitFactorSize\":3,\"fOriginSize\":0.04},{\"_typename\":\"TLatex\",\"fUniqueID\":0,\"fBits\":50331648,\"fName\":\"\",\"fTitle\":\"Std Dev y = 0.3934\",\"fTextAngle\":0,\"fTextSize\":0,\"fTextAlign\":0,\"fTextColor\":0,\"fTextFont\":0,\"fX\":0,\"fY\":0,\"fLineColor\":1,\"fLineStyle\":1,\"fLineWidth\":2,\"fLimitFactorSize\":3,\"fOriginSize\":0.04}],\"opt\":[\"\",\"\",\"\",\"\",\"\",\"\"]},\"fOptFit\":0,\"fOptStat\":1111,\"fFitFormat\":\"5.4g\",\"fStatFormat\":\"6.4g\",\"fParent\":{\"$ref\":23}}],\"opt\":[\"brNDC\"]},\"fBufferSize\":0,\"fBuffer\":[],\"fBinStatErrOpt\":0,\"fStatOverflows\":2,\"fScalefactor\":1,\"fTsumwy\":57043.5413851589,\"fTsumwy2\":57373.896178036,\"fTsumwxy\":-47452.8268240059,\"fArray\":[0,0,0,0,0,0,0,0,0,0,0,0,0,0,0,0,0,0,0,0,0,0,0,0,0,0,0,0,0,0,0,0,0,0,0,0,0,0,0,0,0,0,0,0,0,0,0,0,0,0,0,0,0,0,0,0,0,0,0,0,0,0,0,0,0,0,0,0,0,0,0,0,0,0,0,0,0,0,0,0,0,0,0,0,0,0,0,0,0,0,0,0,0,0,0,0,0,0,0,0,0,0,0,0,0,0,0,0,0,0,0,0,0,0,0,0,0,0,0,0,0,0,0,0,0,0,0,0,0,0,0,0,0,0,0,0,0,0,0,0,0,0,0,0,0,0,0,0,0,0,0,0,0,0,0,0,0,0,0,0,0,0,0,0,0,0,0,0,0,0,0,0,0,0,0,0,0,0,0,0,0,0,0,0,0,0,0,0,0,0,0,0,0,0,0,0,0,0,0,0,0,0,0,0,0,0,0,0,0,0,0,0,0,0,0,0,0,0,0,0,0,0,0,0,0,0,0,0,0,0,0,0,0,0,0,0,0,0,0,0,0,0,0,0,0,0,0,0,0,0,0,0,0,0,0,0,0,0,0,0,0,0,0,0,0,0,0,0,0,0,0,0,0,0,0,0,0,0,0,0,0,0,0,0,0,0,0,0,0,0,0,0,0,0,0,0,0,0,0,0,0,0,0,0,0,0,0,0,0,0,0,0,0,0,0,0,0,0,0,0,0,0,0,0,0,0,0,0,0,0,0,0,0,0,0,0,0,0,0,0,0,0,0,0,0,0,0,0,0,0,0,0,0,0,0,0,0,0,0,0,0,0,0,0,0,0,0,0,0,0,0,0,0,0,0,0,0,0,0,0,0,0,0,0,0,0,0,0,0,0,0,0,0,0,0,0,0,0,0,0,0,0,0,0,0,0,0,0,0,0,1,0,0,0,0,0,0,0,1,0,0,0,0,0,0,1,0,0,1,0,0,0,0,0,0,0,0,0,0,0,0,0,0,0,0,0,0,0,0,0,0,0,0,0,0,1,0,0,0,0,1,0,0,0,0,0,0,0,0,0,0,0,0,0,0,0,0,0,0,0,0,0,0,0,0,0,0,0,0,0,0,0,0,0,0,0,0,0,0,0,0,0,0,0,0,0,0,0,0,0,0,0,1,0,0,0,1,1,0,0,1,2,0,0,0,0,0,0,1,0,1,0,1,1,0,2,1,2,1,0,0,0,0,0,1,2,0,0,0,0,0,0,0,1,0,0,0,0,0,0,2,2,0,1,2,0,0,0,0,0,0,0,0,0,1,0,0,1,1,0,0,1,0,0,0,0,0,0,1,0,0,1,0,0,1,1,0,0,0,0,0,0,0,0,0,0,0,0,0,0,0,0,0,0,1,2,0,1,2,1,0,2,2,1,0,2,0,2,2,0,0,1,1,0,0,1,1,0,1,3,1,1,1,1,6,0,1,3,4,3,3,1,3,11,1,4,4,10,8,2,7,5,6,4,9,8,10,14,16,11,14,10,12,9,6,10,7,13,17,8,13,16,14,19,12,11,8,13,12,12,1,8,6,5,15,20,11,13,8,11,7,9,11,5,9,6,11,2,7,6,3,8,4,0,0,2,1,1,3,1,3,2,1,1,0,1,1,1,0,3,1,2,2,1,0,5,1,5,1,3,3,1,5,2,3,9,4,4,5,13,10,10,14,20,13,14,15,23,27,21,36,31,34,35,30,41,43,34,32,48,60,43,51,52,48,38,53,39,57,29,43,34,37,46,30,40,36,29,20,32,22,30,22,17,23,24,16,14,15,7,10,16,5,5,10,7,7,11,9,8,7,10,6,2,1,0,0,2,1,3,2,5,1,2,1,2,2,1,2,1,1,2,2,0,2,2,0,1,1,1,4,3,4,4,1,4,5,6,4,5,5,15,13,22,11,25,31,24,34,29,35,57,58,48,61,61,70,78,83,78,76,69,90,79,76,89,68,67,70,65,46,54,58,29,29,36,30,27,24,27,20,18,18,18,14,13,14,8,14,10,5,10,3,6,3,5,7,3,1,2,7,4,3,1,2,1,5,0,0,0,1,1,0,0,0,0,0,2,0,2,3,1,2,1,1,1,1,6,5,0,2,4,0,2,3,6,4,3,4,3,4,10,4,5,7,11,15,19,23,21,39,42,33,71,62,75,77,81,106,115,130,135,122,128,101,104,94,99,86,89,75,58,41,46,32,29,20,22,32,23,20,18,11,14,11,7,10,9,8,7,14,4,9,2,3,6,5,9,5,6,4,1,2,6,3,7,4,2,1,0,0,1,1,1,0,3,1,1,0,1,3,2,2,4,1,0,0,2,0,2,0,1,3,1,1,1,3,2,6,1,4,3,2,2,6,1,2,6,13,10,17,15,37,34,38,48,67,87,102,119,122,139,152,166,183,155,182,135,119,98,82,70,64,59,40,36,30,32,32,23,20,16,23,17,11,13,8,7,8,8,8,8,10,5,5,4,4,4,2,4,2,4,6,6,7,2,2,1,4,2,4,0,0,2,4,1,2,0,2,0,1,3,4,3,0,2,2,2,2,3,1,5,0,4,2,3,3,2,1,2,3,3,4,4,4,5,9,9,4,7,13,10,15,26,15,26,46,50,60,104,99,136,182,184,196,211,189,206,167,153,122,120,88,68,72,49,38,43,12,36,20,15,15,9,12,9,9,8,6,8,4,3,7,8,3,5,2,9,2,2,3,3,2,5,0,5,4,2,1,5,3,1,1,0,0,2,0,4,1,3,1,4,1,2,2,0,1,3,2,0,3,4,2,4,2,5,1,5,3,2,4,4,5,3,4,4,5,2,5,3,6,7,8,9,5,15,20,16,28,47,63,113,121,171,180,238,231,268,256,206,158,145,116,71,66,54,38,29,23,26,25,19,16,8,5,19,7,9,4,6,2,6,7,6,1,8,3,4,5,5,4,3,4,3,2,1,7,6,4,3,0,2,1,0,1,0,0,1,2,3,2,2,0,2,0,1,1,2,2,3,3,0,1,1,3,8,0,0,3,1,4,4,1,3,0,5,4,3,4,5,3,4,5,12,7,2,9,18,23,26,42,38,47,109,175,200,233,252,244,256,255,188,161,141,72,72,44,40,30,20,15,15,14,10,7,7,8,12,7,5,7,3,2,9,4,6,5,4,9,5,3,5,1,6,4,2,3,4,4,6,3,1,5,4,0,4,2,0,0,2,4,2,4,2,0,2,3,1,1,5,1,3,5,1,5,2,1,1,2,3,2,2,2,3,2,6,2,3,2,5,2,4,2,2,7,5,6,8,12,8,12,17,23,45,46,87,170,187,200,246,277,246,216,195,147,118,61,52,31,26,25,16,6,8,13,11,7,4,3,5,19,7,5,3,2,1,2,4,1,7,1,8,2,3,5,6,1,5,5,2,4,1,3,2,2,1,2,1,4,0,0,3,4,7,2,4,3,2,4,3,6,6,4,2,1,4,1,1,1,2,3,1,1,2,3,7,1,2,1,2,3,3,1,6,7,5,8,3,3,11,3,10,12,7,13,34,54,90,130,190,256,276,291,261,229,163,135,92,52,24,26,18,17,20,19,7,4,9,8,4,5,5,5,12,7,3,5,2,3,1,4,6,1,5,1,7,1,1,4,4,7,2,3,1,1,4,1,1,3,2,0,0,0,8,4,5,0,3,4,4,7,2,2,2,2,2,5,5,0,4,4,0,2,0,4,2,2,0,2,3,1,5,6,2,4,5,3,3,5,6,3,11,14,9,14,8,17,38,41,70,133,207,237,278,269,255,209,152,113,56,39,24,20,16,18,7,9,11,5,9,7,5,6,3,5,5,5,4,5,3,1,5,6,4,4,2,6,0,3,2,2,3,6,6,3,3,2,2,2,0,2,3,2,0,0,7,11,4,8,6,5,8,3,7,5,5,2,0,5,9,1,1,0,4,2,3,2,2,5,1,3,7,4,5,2,4,2,6,6,3,1,4,7,4,5,13,11,6,14,25,44,77,126,176,213,240,252,229,190,115,81,46,26,22,13,12,17,18,16,1,2,5,3,3,8,7,4,9,7,4,3,1,1,6,3,6,0,3,2,1,2,0,2,5,3,3,3,1,5,0,0,2,1,2,0,0,0,17,21,18,10,9,5,6,3,8,5,3,3,3,3,7,2,1,3,7,1,2,8,2,5,2,0,1,6,3,4,5,4,3,6,4,1,3,4,7,9,5,14,11,16,19,33,84,119,161,209,247,230,230,152,108,76,37,29,16,13,14,7,7,7,5,3,6,9,3,4,6,6,5,4,0,1,4,1,3,2,7,3,6,5,2,0,2,2,2,3,3,5,2,0,1,3,3,2,1,2,0,0,115,89,48,29,34,18,14,10,6,7,6,3,6,7,6,2,9,5,9,5,2,4,1,5,2,3,1,2,4,7,3,4,2,3,5,5,1,8,8,7,10,9,10,15,14,32,61,139,174,236,217,206,205,155,96,47,20,20,24,20,15,8,7,10,9,5,5,1,2,10,9,3,4,4,6,2,1,0,2,3,1,4,4,6,2,4,1,0,0,1,2,2,2,2,0,0,1,2,1,1,0,0,110,135,117,115,99,88,61,37,24,16,4,17,6,3,12,7,7,5,6,11,4,2,1,4,5,4,4,3,4,5,1,2,4,1,2,3,4,6,4,4,7,5,11,7,15,26,74,110,182,223,251,210,198,157,98,47,25,11,13,9,10,9,11,2,5,4,6,5,4,9,3,4,5,4,4,3,2,1,7,3,4,4,6,1,3,0,2,0,3,0,4,1,1,4,0,0,1,0,1,1,0,0,52,59,96,122,97,113,101,121,92,64,55,24,13,9,12,11,8,6,10,7,2,5,3,2,1,1,3,2,3,4,6,7,1,3,3,1,4,8,12,7,3,9,10,9,14,23,72,120,153,200,214,211,189,139,107,35,17,15,9,10,4,12,13,4,7,1,5,2,5,6,2,1,7,4,2,3,4,1,3,5,4,3,4,0,1,2,2,0,2,1,1,2,0,1,0,1,2,0,4,2,0,0,6,13,25,45,53,85,98,103,109,104,106,89,67,50,30,17,16,7,8,8,11,6,6,4,5,3,5,5,5,3,2,3,4,1,1,4,4,9,7,3,10,14,4,8,12,33,51,129,175,224,200,211,172,134,61,41,18,25,7,8,10,11,12,14,2,2,5,4,6,3,2,3,4,3,1,1,1,1,2,1,4,4,4,3,3,1,1,3,1,1,0,4,1,1,0,0,1,0,1,2,0,0,3,3,7,4,10,24,23,46,72,94,91,93,93,105,77,60,39,30,13,8,9,10,7,4,9,3,10,3,9,4,6,7,4,3,5,0,4,3,8,2,6,6,16,4,9,32,58,123,156,186,216,195,199,130,60,42,13,11,10,10,9,7,14,7,5,1,4,1,1,4,9,3,3,1,1,2,3,4,3,1,3,5,4,4,1,1,2,2,3,1,1,3,2,3,0,1,1,0,4,0,0,0,1,3,4,1,2,3,3,9,14,23,49,65,74,94,95,82,86,67,45,32,12,14,2,12,5,3,7,5,8,1,1,4,3,3,4,1,2,4,5,8,9,5,11,11,10,25,54,117,187,193,198,198,199,137,80,23,10,14,11,10,11,10,4,10,4,1,3,2,7,3,1,5,2,4,1,4,1,1,1,9,4,4,3,3,2,0,3,1,0,2,1,0,0,0,1,0,0,2,3,2,0,0,2,2,0,1,2,1,4,1,3,5,9,15,43,55,66,66,79,95,75,64,57,37,13,12,9,8,10,4,10,5,1,6,0,2,4,1,2,4,6,13,7,6,7,6,11,28,70,118,183,178,183,186,174,129,63,27,12,16,9,15,8,12,8,14,4,4,1,2,3,9,4,3,5,3,1,1,3,1,0,3,3,4,1,0,2,1,1,1,1,2,2,2,1,2,1,0,2,1,0,0,0,0,2,1,1,1,3,0,2,2,1,1,4,2,3,11,26,39,45,77,75,65,84,74,39,33,14,11,3,5,9,7,7,7,6,4,0,3,7,5,8,6,6,4,6,5,6,12,52,114,176,177,187,179,178,82,55,22,16,12,13,8,7,9,9,8,5,2,3,5,4,4,3,8,1,2,1,1,1,3,5,0,3,3,0,0,1,0,2,1,0,2,1,1,2,4,1,0,0,2,3,0,0,0,0,0,0,2,0,2,2,0,0,2,2,1,3,3,4,12,19,35,59,50,63,63,56,49,41,21,15,11,5,11,5,7,5,1,0,1,0,2,5,6,5,4,2,9,6,16,62,99,197,180,173,203,138,89,53,20,8,12,9,7,14,6,6,14,4,2,1,2,4,2,0,2,4,2,0,1,0,2,2,1,3,2,0,1,2,0,3,1,1,0,2,1,0,4,1,0,0,1,0,3,0,0,1,1,1,4,0,2,1,3,1,0,3,1,3,1,3,3,5,4,17,39,51,67,47,64,45,42,38,27,18,11,14,7,7,7,5,2,3,10,3,8,4,1,6,8,8,18,68,108,127,171,207,167,144,100,38,13,12,7,9,5,16,8,7,5,2,1,2,7,4,5,5,1,3,3,2,1,2,1,0,0,1,3,2,1,2,1,2,3,1,0,1,3,0,1,0,2,4,1,1,0,0,0,0,0,0,3,0,1,1,0,0,0,2,2,4,0,2,3,2,8,9,6,24,48,44,43,43,49,33,42,23,14,11,5,6,6,5,3,1,4,9,5,4,3,0,9,9,18,39,92,166,150,158,163,116,87,35,18,7,11,5,6,10,5,14,2,1,4,2,3,3,4,0,0,3,1,1,0,3,3,1,5,0,2,4,1,0,0,2,2,2,2,2,2,0,0,2,1,0,0,1,1,0,0,0,0,1,0,0,2,0,1,0,2,2,0,2,0,0,3,0,1,2,1,0,11,20,40,54,45,42,41,38,33,14,14,4,5,4,4,1,8,2,3,2,4,5,3,12,13,35,106,154,169,151,162,99,103,32,10,6,4,9,6,7,11,6,6,1,1,2,0,5,5,1,4,1,1,1,1,1,3,2,1,1,2,1,0,1,0,2,3,4,0,4,0,1,0,1,0,0,1,4,0,0,0,0,0,0,1,0,0,3,1,0,1,1,1,0,1,1,0,0,1,3,0,3,1,10,12,29,29,30,39,37,37,29,24,6,9,4,8,3,2,5,4,3,4,3,5,2,16,44,79,121,140,145,143,110,70,28,12,9,3,6,7,4,8,4,1,3,2,5,4,2,1,2,3,4,0,3,1,1,2,1,2,2,1,2,2,1,0,1,0,2,4,1,2,1,1,2,1,1,0,3,0,0,0,1,0,1,0,2,2,2,1,0,1,0,1,0,1,0,1,2,0,2,0,0,0,3,6,14,20,22,37,19,28,30,26,26,12,5,3,6,8,3,5,1,7,5,4,2,20,43,86,113,117,111,126,120,73,34,11,6,6,4,10,2,8,1,5,1,4,4,4,5,3,5,5,1,1,0,0,0,2,3,2,4,1,0,0,1,1,0,2,2,0,3,2,1,0,0,1,0,1,1,0,0,0,0,0,0,0,0,0,0,0,1,0,0,1,3,1,0,0,0,0,4,3,2,4,2,1,2,3,15,26,24,28,29,17,27,17,11,5,2,5,2,3,3,7,3,3,8,17,30,77,112,122,125,114,103,61,37,2,8,6,6,5,8,6,1,3,2,2,1,2,1,1,3,5,1,1,0,0,1,1,4,0,1,1,3,0,0,0,0,2,2,1,2,2,0,0,1,0,0,2,1,0,0,0,0,0,0,0,0,0,0,0,0,2,0,1,0,1,2,0,0,0,0,1,1,1,3,3,1,0,8,9,21,18,28,22,19,16,7,6,4,5,4,3,1,2,4,4,3,10,18,80,98,103,111,116,76,54,21,10,3,6,5,3,5,5,3,3,1,0,2,3,6,2,1,6,5,4,1,0,1,1,0,1,2,2,0,0,2,0,0,0,4,3,2,0,1,2,2,0,0,0,0,0,0,0,0,0,1,0,1,0,0,0,0,1,0,0,0,1,0,0,1,0,0,1,2,0,1,1,1,1,1,4,10,11,26,12,14,14,17,13,7,4,3,5,7,3,3,2,3,10,32,70,79,98,79,80,86,51,14,4,2,6,7,3,4,8,3,2,1,2,2,2,3,3,2,0,1,1,1,2,0,1,2,1,0,0,2,3,0,0,2,0,0,2,0,1,0,1,1,0,0,1,0,1,0,0,0,0,0,0,0,0,0,0,1,0,0,0,1,0,0,0,0,0,1,0,0,1,0,0,2,1,1,1,3,7,13,29,8,17,15,13,8,3,6,6,6,2,5,2,3,8,24,61,81,85,88,94,60,38,13,5,4,4,9,5,3,4,4,1,0,1,2,1,1,1,1,2,3,2,0,1,0,0,2,2,0,1,0,0,1,1,0,0,0,2,1,0,3,0,0,0,0,0,0,1,0,0,0,0,0,0,0,0,0,1,0,0,0,0,1,0,0,0,0,1,1,0,0,0,3,0,0,2,0,0,2,9,8,12,14,14,8,12,14,8,6,4,5,2,3,6,2,4,18,39,66,58,65,71,56,37,13,3,3,2,3,4,7,3,2,0,0,1,1,1,2,1,2,0,0,0,0,1,2,1,1,1,2,0,1,0,1,0,2,3,1,0,0,0,0,2,1,0,1,2,0,0,0,0,0,0,0,0,0,0,0,0,0,1,0,0,0,0,0,0,0,1,0,0,1,2,0,1,0,2,1,1,0,4,4,11,4,16,13,11,13,12,11,5,5,0,2,1,4,1,24,49,50,58,66,73,54,32,10,3,3,3,4,5,2,3,2,0,0,0,3,2,2,0,0,2,0,0,1,0,0,0,2,1,3,2,2,0,1,1,0,0,0,0,0,1,0,0,0,0,0,1,1,0,0,0,0,0,0,1,0,0,0,0,1,1,0,0,0,1,0,0,1,0,0,0,0,0,2,0,0,2,0,0,0,0,2,5,2,8,9,10,17,11,8,4,3,2,2,1,0,9,19,37,58,51,47,46,50,39,5,5,0,2,3,2,4,4,0,2,1,2,0,3,0,1,2,0,0,3,0,0,1,2,2,0,0,1,0,2,1,0,1,1,1,0,2,0,0,0,0,0,0,0,0,0,0,0,0,1,0,0,0,0,1,0,0,0,0,0,0,0,1,0,0,1,0,0,0,0,0,2,2,1,1,0,1,2,1,1,8,6,5,4,6,5,10,2,1,3,6,4,2,5,13,22,40,52,37,43,29,27,9,3,1,1,2,2,1,2,2,0,1,0,1,4,1,0,1,2,3,0,0,2,0,2,5,1,1,1,1,1,2,1,1,0,1,0,0,2,0,0,0,1,0,0,0,1,0,0,0,0,0,0,0,0,0,1,0,1,0,0,1,0,0,0,1,0,0,0,0,0,0,0,1,0,1,2,0,3,0,4,4,7,4,6,9,8,7,5,5,1,1,0,0,6,9,35,31,46,37,36,34,11,5,6,1,1,1,4,0,2,0,1,2,1,0,0,0,0,0,1,2,0,2,0,3,1,0,0,0,3,0,0,0,0,2,1,1,1,0,0,0,0,0,0,0,0,0,2,0,0,0,0,0,0,0,0,0,0,0,0,0,1,1,0,0,0,0,0,1,0,1,0,0,0,0,2,3,1,1,0,0,0,1,1,7,5,7,5,7,5,3,2,3,0,0,4,7,27,28,28,32,26,23,16,7,3,1,1,0,1,2,1,2,0,1,0,0,1,1,2,1,0,0,0,0,1,0,2,1,1,2,1,0,1,0,0,0,1,3,0,0,1,1,0,0,0,0,0,1,0,0,0,0,0,0,0,0,0,0,0,0,0,0,0,0,0,0,0,0,0,0,0,0,0,1,0,0,0,0,1,1,0,0,1,0,3,5,6,6,9,7,9,7,4,0,0,4,5,11,12,38,30,29,28,34,7,6,2,0,1,1,3,1,2,0,0,2,0,0,0,2,1,0,0,0,0,0,0,0,0,0,1,0,1,0,2,0,0,0,0,1,0,0,1,1,1,0,0,0,0,0,0,0,0,0,0,0,0,0,0,1,0,1,1,0,0,0,0,1,0,0,0,0,0,0,0,0,0,0,0,0,0,2,3,1,1,0,0,1,3,6,4,5,3,11,3,1,2,1,1,8,17,17,15,24,24,18,9,4,2,1,3,1,4,2,0,0,1,0,0,0,0,0,0,1,1,2,0,0,0,1,0,1,0,1,0,1,0,0,0,3,0,0,0,0,3,0,0,0,0,0,0,0,0,0,0,0,0,0,0,0,0,0,0,0,0,0,0,0,0,0,0,0,0,1,0,0,0,0,0,0,0,1,1,1,0,0,0,0,0,0,6,5,3,4,2,2,1,2,0,0,5,9,12,29,14,13,16,16,12,8,1,2,0,0,5,1,3,1,2,1,0,0,0,2,0,1,1,0,1,0,0,1,0,0,0,1,1,0,0,2,0,0,0,0,0,1,1,2,0,0,0,0,0,1,1,0,0,0,0,0,0,0,0,0,0,0,0,0,0,0,0,0,0,0,1,0,0,0,1,0,2,1,0,0,0,4,2,1,0,1,0,0,3,3,4,4,5,1,7,5,4,2,4,4,11,17,5,12,16,9,8,2,1,0,0,3,2,1,1,0,0,0,0,2,0,1,0,2,0,1,0,0,0,0,0,0,0,0,0,1,0,0,0,0,1,1,0,0,0,2,0,0,0,0,1,0,0,0,0,0,0,0,0,0,0,0,0,0,0,0,0,0,0,0,0,0,0,0,0,0,1,2,0,0,0,0,0,1,0,0,0,0,1,0,1,3,3,6,5,4,3,5,0,0,1,7,8,13,10,12,12,11,10,2,0,0,1,1,0,1,0,0,0,0,2,2,0,1,0,1,1,0,0,0,1,1,1,0,1,0,0,0,1,0,0,0,0,1,0,0,0,0,0,0,0,0,0,0,0,0,0,0,0,0,0,0,0,0,0,0,0,1,0,0,0,0,0,0,0,0,1,0,0,0,0,1,0,0,0,0,0,1,2,1,0,0,2,1,3,3,3,3,2,4,1,0,0,2,9,7,10,14,5,4,3,0,1,2,0,0,2,0,0,1,2,2,0,0,1,1,1,0,0,0,0,1,0,0,0,2,0,0,0,0,1,0,1,1,0,2,0,0,0,0,0,0,0,0,0,0,0,0,0,0,0,0,0,0,0,0,0,0,0,0,0,0,1,0,0,0,1,0,0,0,1,0,0,0,0,0,1,1,0,0,0,0,1,0,0,1,3,4,2,4,1,1,3,0,0,1,5,8,5,14,11,12,11,2,0,0,1,3,1,0,0,1,1,0,0,1,1,0,0,0,0,0,0,0,0,1,0,1,0,0,1,0,0,1,0,1,0,0,0,0,1,0,0,0,0,0,0,0,0,0,0,0,0,0,2,0,0,0,1,0,0,0,0,0,0,0,0,0,0,1,1,1,0,0,0,0,0,0,0,1,0,0,3,0,0,0,0,1,2,4,4,3,1,3,3,4,4,1,6,7,13,8,7,4,4,1,1,1,1,0,0,0,0,0,0,0,1,0,0,2,0,0,1,2,0,0,0,0,1,0,0,0,0,0,0,0,0,1,0,0,1,1,1,0,0,0,0,0,1,0,0,0,0,0,0,0,0,0,0,0,0,0,0,0,0,0,0,0,0,0,0,1,0,0,0,2,0,0,0,1,1,0,1,0,0,1,0,0,0,0,3,0,2,1,2,5,1,0,0,2,4,9,4,1,4,6,4,4,0,2,0,0,1,1,0,1,0,0,1,0,1,0,0,0,0,2,0,0,2,0,1,0,0,0,0,0,0,0,0,0,0,0,0,0,0,1,0,0,0,0,0,0,0,0,0,0,0,0,0,0,0,0,0,0,0,1,0,0,0,0,0,0,0,0,0,0,1,0,0,0,0,0,0,0,0,1,0,0,0,0,0,0,0,0,3,3,3,4,0,2,0,5,2,7,8,2,7,7,1,1,0,0,0,1,1,0,1,0,1,1,1,1,0,1,0,0,0,0,0,0,0,0,1,0,0,0,0,1,0,0,0,0,0,0,0,0,1,0,0,1,0,0,0,0,0,0,0,0,0,0,0,0,0,0,0,0,0,0,0,0,0,0,0,0,0,0,0,0,1,0,0,0,0,0,0,0,0,0,1,0,0,0,0,0,2,2,0,0,1,1,0,2,2,2,5,4,5,3,1,6,2,2,0,0,0,2,0,1,1,0,0,0,0,0,0,0,0,0,0,1,0,0,0,1,0,1,2,0,0,0,1,0,1,0,0,0,2,0,0,0,1,0,0,0,0,0,0,0,0,0,0,0,0,0,0,0,0,0,0,2,0,0,0,0,0,0,0,0,0,0,1,0,1,0,0,0,0,0,0,1,0,0,1,0,0,0,0,1,2,0,2,1,0,0,0,2,2,4,2,4,5,2,3,1,2,1,0,0,2,0,0,0,0,0,1,0,0,0,0,0,0,0,0,1,0,0,0,0,0,0,0,0,0,0,1,0,0,0,0,0,0,0,0,0,0,0,1,0,0,0,0,0,0,0,0,0,0,0,0,0,0,0,0,0,0,0,0,0,0,0,2,0,0,0,1,0,0,0,0,1,0,0,1,0,0,1,0,0,0,0,1,0,0,2,0,1,4,1,2,4,3,2,4,2,4,2,0,1,0,0,1,0,0,1,0,0,0,0,0,0,1,0,0,1,0,0,0,0,0,1,1,1,1,0,0,0,0,0,0,0,0,0,0,0,0,0,0,0,0,0,0,0,0,0,0,0,0,0,0,0,0,0,0,0,0,0,0,0,1,0,0,0,0,0,0,3,0,0,0,0,0,0,2,1,0,0,0,0,0,1,0,0,1,2,0,0,1,0,2,3,0,2,5,2,3,1,2,3,0,0,0,2,0,0,0,0,0,0,0,0,0,0,0,1,0,0,0,0,0,0,0,0,0,0,0,0,0,0,0,0,0,0,0,0,0,0,0,0,0,0,0,0,0,0,0,0,0,0,0,0,0,0,0,0,0,0,0,0,0,0,0,0,0,0,0,0,0,0,0,0,0,0,0,0,0,0,0,0,0,0,0,0,1,0,0,0,3,0,0,0,1,3,2,1,0,0,3,1,3,0,0,0,0,0,4,1,0,0,0,0,0,0,0,0,0,0,0,0,0,0,0,0,2,0,0,0,0,0,0,0,0,0,0,1,0,1,0,0,0,0,0,0,0,0,0,0,0,0,1,0,0,0,0,0,0,0,0,0,0,0,0,0,2,0,0,0,0,0,0,0,0,0,0,0,0,0,0,1,0,0,0,0,0,0,0,2,0,0,1,0,0,0,3,2,1,3,1,1,2,5,1,0,0,0,0,1,1,1,1,0,0,0,0,0,0,0,0,0,0,0,1,0,0,0,0,1,0,0,0,0,0,0,0,0,0,0,1,0,0,0,0,1,0,0,0,0,0,0,0,0,0,0,0,0,0,0,0,0,0,0,0,0,0,0,0,0,0,0,0,0,0,0,0,0,0,0,0,1,1,0,0,0,0,0,0,0,1,1,0,1,1,0,1,1,0,0,2,0,3,4,6,2,0,1,0,0,0,0,1,0,1,0,0,0,1,0,1,0,0,0,0,0,0,0,1,0,0,0,1,0,0,0,0,0,0,1,0,0,0,0,0,1,0,1,1,0,0,0,0,0,0,0,0,0,2,0,0,0,0,0,0,0,0,0,0,0,0,0,0,0,0,0,0,0,0,0,0,0,0,0,0,0,0,1,0,0,0,0,0,0,0,0,1,0,0,1,0,1,1,2,1,4,4,0,0,1,0,0,0,0,1,0,1,1,1,0,0,1,0,0,0,0,0,0,0,0,0,0,0,0,0,0,0,0,0,0,0,0,0,0,0,0,0,0,0,0,0,0,0,0,0,0,0,0,0,0,0,0,0,0,0,0,0,0,0,0,0,0,0,0,0,0,0,1,1,0,0,0,0,0,0,0,0,0,0,0,0,0,0,0,0,0,0,2,0,0,1,2,1,0,0,2,3,1,4,0,0,0,0,0,1,0,0,0,0,0,0,0,0,0,0,0,1,1,1,0,0,0,0,0,0,0,0,0,0,0,0,0,0,0,0,0,0,0,0,0,0,0,0,0,0,0,0,0,0,0,0,0,0,0,0,0,0,0,0,0,0,0,0,0,0,0,0,0,0,0,0,1,0,0,0,1,0,0,0,0,0,0,0,0,0,0,0,0,0,0,2,0,0,1,0,1,1,0,1,0,1,2,0,0,0,1,0,0,0,0,0,0,0,0,1,0,0,0,0,0,0,1,0,0,0,0,0,0,0,1,0,0,0,0,0,0,0,0,0,0,0,0,0,0,0,0,0,0,0,0,0,0,0,0,0,0,0,0,0,0,0,0,0,0,0,0,0,0,0,0,0,0,0,1,0,0,0,0,0,0,0,0,0,0,0,0,1,0,0,0,0,0,0,0,0,0,0,1,2,1,2,3,0,1,1,0,1,1,0,0,0,0,0,0,1,0,0,0,0,1,0,1,0,0,0,1,0,0,0,0,0,0,2,0,0,0,0,0,0,0,0,0,0,0,0,0,0,0,0,0,0,0,0,0,0,0,0,0,0,0,0,0,0,1,0,0,0,0,0,0,0,1,0,0,0,0,0,0,0,0,0,0,0,0,0,0,0,0,0,0,0,0,0,0,0,1,1,0,1,0,2,1,0,2,1,0,0,0,0,0,0,0,0,0,0,0,0,0,0,0,0,0,0,2,0,0,0,0,0,0,0,0,0,0,0,0,0,0,0,0,0,0,0,0,0,0,0,0,0,0,0,0,0,0,0,0,0,0,0,0,0,0,0,0,0,0,0,0,0,0,0,0,0,0,0,0,0,0,0,0,0,2,0,1,0,0,0,0,0,1,0,0,1,0,0,1,0,1,0,1,0,0,1,0,0,3,0,1,0,0,1,0,0,0,0,0,0,0,0,0,0,0,0,0,0,0,0,0,0,0,0,0,0,0,0,1,0,0,0,0,0,0,1,0,1,0,0,0,0,0,0,0,0,0,0,0,0,0,0,0,0,0,0,0,0,0,0,0,0,0,0,0,0,0,0,0,0,0,0,0,0,0,0,0,0,0,0,0,0,0,0,0,0,0,1,0,0,1,0,0,0,0,2,0,0,0,1,0,0,1,1,0,1,0,0,0,0,0,1,0,0,1,0,0,0,0,0,0,0,0,0,0,0,0,1,1,0,0,0,0,1,0,0,0,1,0,0,0,0,0,0,0,0,0,0,0,0,0,0,0,0,0,0,0,0,0,0,0,0,0,0,0,0,0,0,0,0,0,0,0,0,0,0,0,1,0,0,0,0,0,0,0,0,0,0,0,0,0,0,0,0,1,1,1,0,0,2,2,0,1,3,0,1,0,0,0,0,1,0,0,0,0,0,2,0,0,0,0,0,0,0,0,0,0,0,0,0,0,0,0,0,0,0,0,0,0,0,0,1,0,0,0,0,0,0,0,0,0,0,0,0,0,0,0,0,0,0,0,0,0,0,0,0,0,0,0,0,0,0,0,1,0,0,0,0,0,0,0,0,0,0,0,0,0,0,0,0,0,0,0,0,0,1,0,0,1,0,0,1,0,0,0,0,0,0,0,0,1,0,0,0,1,0,0,0,0,0,0,0,0,0,0,0,0,0,0,0,0,0,0,0,0,0,0,0,0,0,0,0,0,0,0,1,0,0,0,0,0,0,0,0,0,0,0,0,0,0,0,0,0,0,0,0,0,0,0,0,0,0,0,0,0,0,0,0,0,0,0,0,0,0,0,0,0,0,0,0,0,0,0,0,1,0,0,0,0,1,0,0,0,0,1,0,2,0,1,0,0,0,0,0,0,0,0,0,0,0,0,0,0,0,0,0,0,0,0,0,0,0,0,0,0,0,0,0,0,0,0,0,0,0,0,0,0,0,0,0,0,0,0,0,0,0,0,0,0,0,0,0,0,0,0,0,0,0,0,0,0,0,0,0,0,0,0,0,0,0,0,0,0,0,0,0,0,0,0,0,2,0,0,0,0,0,0,0,0,1,1,1,0,0,0,0,0,0,0,0,0,0,0,0,0,0,0,1,0,0,0,0,0,0,0,0,0,0,0,0,0,0,0,0,0,0,0,0,0,0,0,0,0,0,0,0,0,1,0,0,0,0,0,0,0,0,0,0,0,0,0,0,0,0,0,0,0,0,0,0,0,0,0,0,0,0,0,0,0,0,0,0,0,0,0,0,0,0,1,0,0,0,0,0,0,0,0,0,1,0,0,0,0,0,0,0,1,0,0,0,0,1,0,0,0,0,0,0,0,1,0,0,0,0,0,0,0,0,0,0,0,0,1,0,0,0,0,0,0,0,1,1,0,0,0,0,0,0,0,0,0,0,0,0,0,0,1,0,0,0,0,0,0,0,0,0,0,0,0,0,0,0,0,0,0,0,0,1,0,0,0,0,0,0,0,0,0,0,0,0,0,0,0,1,0,0,0,0,1,0,0,0,0,0,1,0,2,0,0,0,0,0,0,0,0,1,0,0,0,0,0,0,0,0,0,0,0,0,0,0,0,0,0,0,0,0,0,0,0,1,1,0,0,0,0,0,0,0,0,0,0,0,0,0,1,0,0,0,0,0,0,0,0,0,0,0,0,0,0,0,0,0,0,0,0,0,0,0,0,0,0,0,0,0,0,0,0,0,0,0,0,0,0,0,0,0,0,0,0,0,0,0,0,2,0,2,0,0,0,2,0,0,0,0,0,0,0,2,0,0,0,0,0,0,0,0,0,0,0,0,0,0,2,0,0,0,0,0,0,0,0,0,0,1,0,0,0,0,0,0,0,0,0,0,0,1,0,0,0,0,0,0,0,0,0,0,0,0,0,0,0,0,0,0,0,0,0,0,0,0,0,0,0,0,0,0,0,0,0,0,0,0,0,1,0,0,0,0,0,0,0,0,0,0,0,0,0,0,0,0,0,0,0,0,0,1,0,1,1,0,0,0,0,0,0,0,0,0,0,0,0,0,0,0,0,0,0,0,0,0,0,0,0,0,0,0,1,0,0,1,0,0,0,0,0,0,0,0,0,0,0,0,0,0,0,0,0,0,0,0,0,0,0,0,0,0,0,0,0,0,0,0,0,0,0,1,0,0,0,0,0,0,0,0,0,0,0,0,0,0,0,0,0,0,0,0,0,0,0,0,0,1,0,1,0,0,0,0,0,0,0,0,0,0,0,0,0,0,0,0,0,1,0,0,0,0,0,1,0,0,0,0,0,0,0,0,0,0,0,0,0,0,0,0,0,0,0,0,0,0,0,0,0,0,0,0,0,0,0,0,0,0,0,0,0,0,0,0,0,0,0,0,0,0,0,0,0,0,0,0,0,0,0,0,0,0,0,0,0,0,0,0,0,0,0,0,0,0,0,0,0,0,0,0,0,0,0,0,0,0,0,0,0,0,0,0,0,0,0,0,0,0,0,0,0,0,0,0,0,0,0,0,0,0,0,0,0,0,0,0,0,0,0,0,0,0,0,0,0,0,0,0,0,0,0,0,0,0,0,0,0,0,0,0,0,0,0,0,0,0,0,0,0,0,0,0,0,0,0,0,0,0,0,0,0,0,0,0,0,0,0,0,0,0,0,0,0,0,0,0,0,0,0,0,0,0,0,0,0,0,0,0,0,0,0,0,0,0,0,0,0,0,0,0,0,0,0,0,0,0,0,0,0,0,0,0,0,0,0,0,0,0,0,0,0,0,0,0,0,0,0,0,0,0,0,0,0,0,0,0,0,0,0,0,0,0,0,0,0,0,0,0,0,0,0,0,0,0,0,0,0,0,0,0,0,0,0,0,0,0,0,0,0,0,0,0,0,0,0,0,0,0,0,0,0,0,0,0,0,0,0,0,0,0,0,0,0,0,0,0,0,0,0,0,0,0,0,0,0,0,0,0,0,0,0,0,0,0,0,0,0,0,0,0,0,0,0,0,0,0,0,0,0,0,0,0,0,0,0,0,0,0,0,0,0,0,0,0,0,0,0,0,0,0,0,0,0,0,0,0,0,0,0,0,0,0,0,0,0,0,0,0,0,0,0,0,0,0,0,0,0,0,0,0,0,0,0,0,0,0,0,0,0,0,0,0,0,0,0,0,0,0,0,0,0,0,0,0,0,0,0,0,0,0,0,0,0,0,0,0,0,0,0,0,0,0,0,0,0,0,0,0,0,0,0,0,0,0,0,0,0,0,0,0,0,0,0,0,0,0,0,0,0,0,0,0,0,0,0,0,0,0,0,0,0,0,0,0,0,0,0,0,0,0,0,0,0,0,0,0,0,0,0,0,0,0,0,0,0,0,0,0,0,0,0,0,0,0,0,0,0,0,0,0,0,0,0,0,0,0,0,0,0,0,0,0,0,0,0,0,0,0,0,0,0,0,0,0,0,0,0,0,0,0,0,0,0,0,0,0,0,0,0,0,0,0,0,0,0,0,0,0,0,0,0,0,0,0,0,0,0,0,0,0,0,0,0,0,0,0,0,0,0,0,0,0,0,0,0,0,0,0,0,0,0,0,0,0,0,0,0,0,0,0,0,0,0,0,0,0,0,0,0,0,0,0,0,0,0,0,0,0,0,0,0,0,0,0,0,0,0,0,0,0,0,0,0,0,0,0,0,0,0,0,0,0,0,0,0,0,0,0,0,0,0,0,0,0,0,0,0,0,0,0,0,0,0,0,0,0,0,0,0,0,0,0,0,0,0,0,0,0,0,0,0,0,0,0,0,0,0,0,0,0,0,0,0,0,0,0,0,0,0,0,0,0,0,0,0,0,0,0,0,0,0,0,0,0,0,0,0,0,0,0,0,0,0,0,0,0,0,0,0,0,0,0,0,0,0,0,0,0,0,0,0,0,0,0,0,0,0,0,0,0,0,0,0,0,0,0,0,0,0,0,0,0,0,0,0,0,0,0,0,0,0,0,0,0,0,0,0,0,0,0,0,0,0,0,0,0,0,0,0,0,0,0,0,0,0,0,0,0,0,0,0,0,0,0,0,0,0,0,0,0,0,0,0,0,0,0,0,0,0,0,0,0,0,0,0,0,0,0,0,0,0,0,0,0,0,0,0,0,0,0,0,0,0,0,0,0,0,0,0,0,0,0,0,0,0,0,0,0,0,0,0,0,0,0,0,0,0,0,0,0,0,0,0,0,0,0,0,0,0,0,0,0,0,0,0,0,0,0,0,0,0,0,0,0,0,0,0,0,0,0,0,0,0,0,0,0,0,0,0,0,0,0,0,0,0,0,0,0,0,0,0,0,0,0,0,0,0,0,0,0,0,0,0,0,0,0,0,0,0,0,0,0,0,0,0,0,0,0,0,0,0,0,0,0,0,0,0,0,0,0,0,0,0,0,0,0,0,0,0,0,0,0,0,0,0,0,0,0,0,0,0,0,0,0,0,0,0,0,0,0,0,0,0,0,0,0,0,0,0,0,0,0,0,0,0,0,0,0,0,0,0,0,0,0,0,0,0,0,0,0,0,0,0,0,0,0,0,0,0,0,0,0,0,0,0,0,0,0,0,0,0,0,0,0,0,0,0,0,0,0,0,0,0,0,0,0,0,0,0,0,0,0,0,0,0,0,0,0,0,0,0,0,0,0,0,0,0,0,0,0,0,0,0,0,0,0,0,0,0,0,0,0,0,0,0,0,0,0,0,0,0,0,0,0,0,0,0,0,0,0,0,0,0,0,0,0,0,0,0,0,0,0,0,0,0,0,0,0,0,0,0,0,0,0,0,0,0,0,0,0,0,0,0,0,0,0,0,0,0,0,0,0,0,0,0,0,0,0,0,0,0,0,0,0,0,0,0,0,0,0,0,0,0,0,0,0,0,0,0,0,0,0,0,0,0,0,0,0,0,0,0,0,0,0,0,0,0,0,0,0,0,0,0,0,0,0,0,0,0,0,0,0,0,0,0,0,0,0,0,0,0,0,0,0,0,0,0,0,0,0,0,0,0,0,0,0,0,0,0,0,0,0,0,0,0,0,0,0,0,0,0,0,0,0,0,0,0,0,0,0,0,0,0,0,0,0,0,0,0,0,0,0,0,0,0,0,0,0,0,0,0,0,0,0,0,0,0,0,0,0,0,0,0,0,0,0,0,0,0,0,0,0,0,0,0,0,0,0,0,0,0,0,0,0,0,0,0,0,0,0,0,0,0,0,0,0,0,0,0,0,0,0,0,0,0,0,0,0,0,0,0,0,0,0,0,0,0,0,0,0,0,0,0,0,0,0,0,0,0,0,0,0,0,0,0,0,0,0,0,0,0,0,0,0,0,0,0,0,0,0,0,0,0,0,0,0,0,0,0,0,0,0,0,0,0,0,0,0,0,0,0,0,0,0,0,0,0,0,0,0,0,0,0,0,0,0,0,0,0,0,0,0,0,0,0,0,0,0,0,0,0,0,0,0,0,0,0,0,0,0,0,0,0,0,0,0,0,0,0,0,0,0,0,0,0,0,0,0,0,0,0,0,0,0,0,0,0,0,0,0,0,0,0,0,0,0,0,0,0,0,0,0,0,0,0,0,0,0,0,0,0,0,0,0,0,0,0,0,0,0,0,0,0,0,0,0,0,0,0,0,0,0,0,0,0,0,0,0,0,0,0,0,0,0,0,0,0,0,0,0,0,0,0,0,0,0,0,0,0,0,0,0,0,0,0,0,0,0,0,0,0,0,0,0,0,0,0,0,0,0,0,0,0,0,0,0,0,0,0,0,0,0,0,0,0,0,0,0,0,0,0,0,0,0,0,0,0,0,0,0,0,0,0,0,0,0,0,0,0,0,0,0,0,0,0,0,0,0,0,0,0,0,0,0,0,0,0,0,0,0,0,0,0,0,0,0,0,0,0,0,0,0,0,0,0,0,0,0,0,0,0,0,0,0,0,0,0,0,0,0,0,0,0,0,0,0,0,0,0,0,0,0,0,0,0,0,0,0,0,0,0,0,0,0,0,0,0,0,0,0,0,0,0,0,0,0,0,0,0,0,0,0,0,0,0,0,0,0,0,0,0,0,0,0,0,0,0,0,0,0,0,0,0,0,0,0,0,0,0,0,0,0,0,0,0,0,0,0,0,0,0,0,0,0,0,0,0,0,0,0,0,0,0,0,0,0,0,0,0,0,0,0,0,0,0,0,0,0,0,0,0,0,0,0,0,0,0,0,0,0,0,0,0,0,0,0,0,0,0,0,0,0,0,0,0,0,0,0,0,0,0,0,0,0,0,0,0,0,0,0,0,0,0,0,0,0,0,0,0,0,0,0,0,0,0,0,0,0,0,0,0,0,0,0,0,0,0,0,0,0,0,0,0,0,0,0,0,0,0,0,0,0,0,0,0,0,0,0,0,0,0,0,0,0,0,0,0,0,0,0,0,0,0,0,0,0,0,0,0,0,0,0,0,0,0,0,0,0,0,0,0,0,0,0,0,0,0,0,0,0,0,0,0,0,0,0,0,0,0,0,0,0,0,0,0,0,0,0,0,0,0,0,0,0,0,0,0,0,0,0,0,0,0,0,0,0,0,0,0,0,0,0,0,0,0,0,0,0,0,0,0,0,0,0,0,0,0,0,0,0,0,0,0,0,0,0,0,0,0,0,0,0,0,0,0,0,0,0,0,0,0,0,0,0,0,0,0,0,0,0,0,0,0,0,0,0,0,0,0,0,0,0,0,0,0,0,0,0,0,0,0,0,0,0,0,0,0,0,0,0,0,0,0,0,0,0,0,0,0,0,0,0,0,0,0,0,0,0,0,0,0,0,0,0,0,0,0,0,0,0,0,0,0,0,0,0,0,0,0,0,0,0,0,0,0,0,0,0,0,0,0,0,0,0,0,0,0,0,0,0,0,0,0,0,0,0,0,0,0,0,0,0,0,0,0,0,0,0,0,0,0,0,0,0,0,0,0,0,0,0,0,0,0,0,0,0,0,0,0,0,0,0,0,0,0,0,0,0,0,0,0,0,0,0,0,0,0,0,0,0,0,0,0,0,0,0,0,0,0,0,0,0,0,0,0,0,0,0,0,0,0,0,0,0,0,0,0,0,0,0,0,0,0,0,0,0,0,0,0,0,0,0,0,0,0,0,0,0,0,0,0,0,0,0,0,0,0,0,0,0,0,0,0,0,0,0,0,0,0,0,0,0,0,0,0,0,0,0,0,0,0,0,0,0,0,0,0,0,0,0,0,0,0,0,0,0,0,0,0,0,0,0,0,0,0,0,0,0,0,0,0,0,0,0,0,0,0,0,0,0,0,0,0,0,0,0,0,0,0,0,0,0,0,0,0,0,0,0,0,0,0,0,0,0,0,0,0,0,0,0,0,0,0,0,0,0,0,0,0,0,0,0,0,0,0,0,0,0,0,0,0,0,0,0,0,0,0,0,0,0,0,0,0,0,0,0,0,0,0,0,0,0,0,0,0,0,0,0,0,0,0,0,0,0,0,0,0,0,0,0,0,0,0,0,0,0,0,0,0,0,0,0,0,0,0,0,0,0,0,0,0,0,0,0,0,0,0,0,0,0,0,0,0,0,0,0,0,0,0,0,0,0,0,0,0,0,0,0,0,0,0,0,0,0,0,0,0,0,0,0,0,0,0,0,0,0,0,0,0,0,0,0,0,0,0,0,0,0,0,0,0,0,0,0,0,0,0,0,0,0,0,0,0,0,0,0,0,0,0,0,0,0,0,0,0,0,0,0,0,0,0,0,0,0,0,0,0,0,0,0,0,0,0,0,0,0,0,0,0,0,0,0,0,0,0,0,0,0,0,0,0,0,0,0,0,0,0,0,0,0,0,0,0,0,0,0,0,0,0,0,0,0,0,0,0,0,0,0,0,0,0,0,0,0,0,0,0,0,0,0,0,0,0,0,0,0,0,0,0,0,0,0,0,0,0,0,0,0,0,0,0,0,0,0,0,0,0,0,0,0,0,0,0,0,0,0,0,0,0,0,0,0,0,0,0,0,0,0,0,0,0,0,0,0,0,0,0,0,0,0,0,0,0,0,0,0,0,0,0,0,0,0,0,0,0,0,0,0,0,0,0,0,0,0,0,0,0,0,0,0,0,0,0,0,0,0,0,0,0,0,0,0,0,0,0,0,0,0,0,0,0,0,0,0,0,0,0,0,0,0,0,0,0,0,0,0,0,0,0,0,0,0,0,0,0,0,0,0,0,0,0,0,0,0,0,0,0,0,0,0,0,0,0,0,0,0,0,0,0,0,0,0,0,0,0,0,0,0,0,0,0,0,0,0,0,0,0]},{\"_typename\":\"TPaveText\",\"fUniqueID\":0,\"fBits\":50331657,\"fLineColor\":1,\"fLineStyle\":1,\"fLineWidth\":1,\"fFillColor\":0,\"fFillStyle\":0,\"fX1\":-4.62769403039821,\"fY1\":4.20000005252659,\"fX2\":4.62769403039821,\"fY2\":4.47500006072223,\"fX1NDC\":0.314892241542392,\"fY1NDC\":0.940000003948808,\"fX2NDC\":0.685107758457608,\"fY2NDC\":0.995000004768372,\"fBorderSize\":0,\"fInit\":1,\"fShadowColor\":1,\"fCornerRadius\":0,\"fOption\":\"blNDC\",\"fName\":\"title\",\"fTextAngle\":0,\"fTextSize\":0,\"fTextAlign\":22,\"fTextColor\":1,\"fTextFont\":42,\"fLabel\":\"\",\"fLongest\":18,\"fMargin\":0.05,\"fLines\":{\"_typename\":\"TList\",\"name\":\"TList\",\"arr\":[{\"_typename\":\"TLatex\",\"fUniqueID\":0,\"fBits\":50331648,\"fName\":\"\",\"fTitle\":\"ProtonP:ProtonTime\",\"fTextAngle\":0,\"fTextSize\":0,\"fTextAlign\":0,\"fTextColor\":0,\"fTextFont\":0,\"fX\":0,\"fY\":0,\"fLineColor\":1,\"fLineStyle\":1,\"fLineWidth\":2,\"fLimitFactorSize\":3,\"fOriginSize\":0.0467500016093254}],\"opt\":[\"\"]}}],\"opt\":[\"\",\"col1\",\"blNDC\"]},\"fExecs\":{\"_typename\":\"TList\",\"name\":\"TList\",\"arr\":[],\"opt\":[]},\"fName\":\"c1_2\",\"fTitle\":\"c1_2\",\"fNumPaletteColor\":0,\"fNextPaletteColor\":0},{\"_typename\":\"TPad\",\"fUniqueID\":0,\"fBits\":50331657,\"fLineColor\":1,\"fLineStyle\":1,\"fLineWidth\":1,\"fFillColor\":0,\"fFillStyle\":1001,\"fLeftMargin\":0.1,\"fRightMargin\":0.1,\"fBottomMargin\":0.1,\"fTopMargin\":0.1,\"fXfile\":2,\"fYfile\":2,\"fAfile\":1,\"fXstat\":0.99,\"fYstat\":0.99,\"fAstat\":2,\"fFrameFillColor\":0,\"fFrameLineColor\":1,\"fFrameFillStyle\":1001,\"fFrameLineStyle\":1,\"fFrameLineWidth\":1,\"fFrameBorderSize\":1,\"fFrameBorderMode\":0,\"fX1\":-12.5000001862645,\"fY1\":-0.500000037252905,\"fX2\":12.5000001862645,\"fY2\":4.5000000372529,\"fXtoAbsPixelk\":174.00005,\"fXtoPixelk\":167.040050155568,\"fXtoPixel\":13.3631998133182,\"fYtoAbsPixelk\":444.624048733997,\"fYtoPixelk\":203.904048839497,\"fYtoPixel\":-45.3119993669986,\"fUtoAbsPixelk\":6.96004984443188,\"fUtoPixelk\":5e-5,\"fUtoPixel\":334.080000311136,\"fVtoAbsPixelk\":467.2800501055,\"fVtoPixelk\":226.560000211,\"fVtoPixel\":-226.560000211,\"fAbsPixeltoXk\":-13.0208335152323,\"fPixeltoXk\":-12.5000001862645,\"fPixeltoX\":0.0748323765243235,\"fAbsPixeltoYk\":9.81250010913937,\"fPixeltoYk\":-0.500000037252905,\"fPixeltoY\":-0.0220692093478513,\"fXlowNDC\":0.00999999977648258,\"fYlowNDC\":0.00999999977648258,\"fXUpNDC\":0,\"fYUpNDC\":0,\"fWNDC\":0.480000000447035,\"fHNDC\":0.480000000447035,\"fAbsXlowNDC\":0.00999999977648258,\"fAbsYlowNDC\":0.00999999977648258,\"fAbsWNDC\":0.480000000447035,\"fAbsHNDC\":0.480000000447035,\"fUxmin\":-10,\"fUymin\":0,\"fUxmax\":10,\"fUymax\":4,\"fTheta\":30,\"fPhi\":30,\"fAspectRatio\":0,\"fNumber\":3,\"fTickx\":0,\"fTicky\":0,\"fLogx\":0,\"fLogy\":0,\"fLogz\":0,\"fPadPaint\":0,\"fCrosshair\":0,\"fCrosshairPos\":0,\"fBorderSize\":2,\"fBorderMode\":0,\"fModified\":false,\"fGridx\":false,\"fGridy\":false,\"fAbsCoord\":false,\"fEditable\":true,\"fFixedAspectRatio\":false,\"fPrimitives\":{\"_typename\":\"TList\",\"name\":\"TList\",\"arr\":[{\"_typename\":\"TFrame\",\"fUniqueID\":0,\"fBits\":50331656,\"fLineColor\":1,\"fLineStyle\":1,\"fLineWidth\":1,\"fFillColor\":0,\"fFillStyle\":1001,\"fX1\":-10,\"fY1\":0,\"fX2\":10,\"fY2\":4,\"fBorderSize\":1,\"fBorderMode\":0},{\"_typename\":\"TH2F\",\"fUniqueID\":0,\"fBits\":50331656,\"fName\":\"h3\",\"fTitle\":\"KpP:KpTime\",\"fLineColor\":602,\"fLineStyle\":1,\"fLineWidth\":1,\"fFillColor\":0,\"fFillStyle\":1001,\"fMarkerColor\":1,\"fMarkerStyle\":1,\"fMarkerSize\":1,\"fNcells\":10404,\"fXaxis\":{\"_typename\":\"TAxis\",\"fUniqueID\":0,\"fBits\":50331648,\"fName\":\"xaxis\",\"fTitle\":\"\",\"fNdivisions\":510,\"fAxisColor\":1,\"fLabelColor\":1,\"fLabelFont\":42,\"fLabelOffset\":0.005,\"fLabelSize\":0.035,\"fTickLength\":0.03,\"fTitleOffset\":1,\"fTitleSize\":0.035,\"fTitleColor\":1,\"fTitleFont\":42,\"fNbins\":100,\"fXmin\":-10,\"fXmax\":10,\"fXbins\":[],\"fFirst\":0,\"fLast\":0,\"fBits2\":0,\"fTimeDisplay\":false,\"fTimeFormat\":\"\",\"fLabels\":null,\"fModLabs\":null},\"fYaxis\":{\"_typename\":\"TAxis\",\"fUniqueID\":0,\"fBits\":50331648,\"fName\":\"yaxis\",\"fTitle\":\"\",\"fNdivisions\":510,\"fAxisColor\":1,\"fLabelColor\":1,\"fLabelFont\":42,\"fLabelOffset\":0.005,\"fLabelSize\":0.035,\"fTickLength\":0.03,\"fTitleOffset\":0,\"fTitleSize\":0.035,\"fTitleColor\":1,\"fTitleFont\":42,\"fNbins\":100,\"fXmin\":0,\"fXmax\":4,\"fXbins\":[],\"fFirst\":0,\"fLast\":0,\"fBits2\":0,\"fTimeDisplay\":false,\"fTimeFormat\":\"\",\"fLabels\":null,\"fModLabs\":null},\"fZaxis\":{\"_typename\":\"TAxis\",\"fUniqueID\":0,\"fBits\":50331648,\"fName\":\"zaxis\",\"fTitle\":\"\",\"fNdivisions\":510,\"fAxisColor\":1,\"fLabelColor\":1,\"fLabelFont\":42,\"fLabelOffset\":0.005,\"fLabelSize\":0.035,\"fTickLength\":0.03,\"fTitleOffset\":1,\"fTitleSize\":0.035,\"fTitleColor\":1,\"fTitleFont\":42,\"fNbins\":1,\"fXmin\":0,\"fXmax\":1,\"fXbins\":[],\"fFirst\":0,\"fLast\":0,\"fBits2\":0,\"fTimeDisplay\":false,\"fTimeFormat\":\"\",\"fLabels\":null,\"fModLabs\":null},\"fBarOffset\":0,\"fBarWidth\":1000,\"fEntries\":69891,\"fTsumw\":69891,\"fTsumw2\":69891,\"fTsumwx\":-161606.952177935,\"fTsumwx2\":1971783.16121923,\"fMaximum\":-1111,\"fMinimum\":-1111,\"fNormFactor\":0,\"fContour\":[0,19.2,38.4,57.6,76.8,96,115.2,134.4,153.6,172.8,192,211.2,230.4,249.6,268.8,288,307.2,326.4,345.6,364.8],\"fSumw2\":[],\"fOption\":\"\",\"fFunctions\":{\"_typename\":\"TList\",\"name\":\"TList\",\"arr\":[{\"_typename\":\"TPaveStats\",\"fUniqueID\":0,\"fBits\":50331657,\"fLineColor\":1,\"fLineStyle\":1,\"fLineWidth\":1,\"fFillColor\":0,\"fFillStyle\":1001,\"fX1\":7.00000050663949,\"fY1\":2.97500005327165,\"fX2\":12.0000006556511,\"fY2\":4.17500004433096,\"fX1NDC\":0.780000016093254,\"fY1NDC\":0.695000007748604,\"fX2NDC\":0.980000019073486,\"fY2NDC\":0.935000002384186,\"fBorderSize\":1,\"fInit\":1,\"fShadowColor\":1,\"fCornerRadius\":0,\"fOption\":\"brNDC\",\"fName\":\"stats\",\"fTextAngle\":0,\"fTextSize\":0,\"fTextAlign\":12,\"fTextColor\":1,\"fTextFont\":42,\"fLabel\":\"\",\"fLongest\":18,\"fMargin\":0.05,\"fLines\":{\"_typename\":\"TList\",\"name\":\"TList\",\"arr\":[{\"_typename\":\"TLatex\",\"fUniqueID\":0,\"fBits\":50331648,\"fName\":\"\",\"fTitle\":\"h3\",\"fTextAngle\":0,\"fTextSize\":0.0368,\"fTextAlign\":0,\"fTextColor\":0,\"fTextFont\":0,\"fX\":0,\"fY\":0,\"fLineColor\":1,\"fLineStyle\":1,\"fLineWidth\":2,\"fLimitFactorSize\":3,\"fOriginSize\":0.0368000008165836},{\"_typename\":\"TLatex\",\"fUniqueID\":0,\"fBits\":50331648,\"fName\":\"\",\"fTitle\":\"Entries = 69891  \",\"fTextAngle\":0,\"fTextSize\":0,\"fTextAlign\":0,\"fTextColor\":0,\"fTextFont\":0,\"fX\":0,\"fY\":0,\"fLineColor\":1,\"fLineStyle\":1,\"fLineWidth\":2,\"fLimitFactorSize\":3,\"fOriginSize\":0.04},{\"_typename\":\"TLatex\",\"fUniqueID\":0,\"fBits\":50331648,\"fName\":\"\",\"fTitle\":\"Mean x = -2.312\",\"fTextAngle\":0,\"fTextSize\":0,\"fTextAlign\":0,\"fTextColor\":0,\"fTextFont\":0,\"fX\":0,\"fY\":0,\"fLineColor\":1,\"fLineStyle\":1,\"fLineWidth\":2,\"fLimitFactorSize\":3,\"fOriginSize\":0.04},{\"_typename\":\"TLatex\",\"fUniqueID\":0,\"fBits\":50331648,\"fName\":\"\",\"fTitle\":\"Mean y = 0.7741\",\"fTextAngle\":0,\"fTextSize\":0,\"fTextAlign\":0,\"fTextColor\":0,\"fTextFont\":0,\"fX\":0,\"fY\":0,\"fLineColor\":1,\"fLineStyle\":1,\"fLineWidth\":2,\"fLimitFactorSize\":3,\"fOriginSize\":0.04},{\"_typename\":\"TLatex\",\"fUniqueID\":0,\"fBits\":50331648,\"fName\":\"\",\"fTitle\":\"Std Dev x =  4.782\",\"fTextAngle\":0,\"fTextSize\":0,\"fTextAlign\":0,\"fTextColor\":0,\"fTextFont\":0,\"fX\":0,\"fY\":0,\"fLineColor\":1,\"fLineStyle\":1,\"fLineWidth\":2,\"fLimitFactorSize\":3,\"fOriginSize\":0.04},{\"_typename\":\"TLatex\",\"fUniqueID\":0,\"fBits\":50331648,\"fName\":\"\",\"fTitle\":\"Std Dev y = 0.3433\",\"fTextAngle\":0,\"fTextSize\":0,\"fTextAlign\":0,\"fTextColor\":0,\"fTextFont\":0,\"fX\":0,\"fY\":0,\"fLineColor\":1,\"fLineStyle\":1,\"fLineWidth\":2,\"fLimitFactorSize\":3,\"fOriginSize\":0.04}],\"opt\":[\"\",\"\",\"\",\"\",\"\",\"\"]},\"fOptFit\":0,\"fOptStat\":1111,\"fFitFormat\":\"5.4g\",\"fStatFormat\":\"6.4g\",\"fParent\":{\"$ref\":43}}],\"opt\":[\"brNDC\"]},\"fBufferSize\":0,\"fBuffer\":[],\"fBinStatErrOpt\":0,\"fStatOverflows\":2,\"fScalefactor\":1,\"fTsumwy\":54104.3283446804,\"fTsumwy2\":50119.5053790746,\"fTsumwxy\":-73088.5748296144,\"fArray\":[0,0,0,0,0,0,0,0,0,0,0,0,0,0,0,0,0,0,0,0,0,0,0,0,0,0,0,0,0,0,0,0,0,0,0,0,0,0,0,0,0,0,0,0,0,0,0,0,0,0,0,0,0,0,0,0,0,0,0,0,0,0,0,0,0,0,0,0,0,0,0,0,0,0,0,0,0,0,0,0,0,0,0,0,0,0,0,0,0,0,0,0,0,0,0,0,0,0,0,0,0,0,0,0,0,0,0,0,0,0,0,0,0,0,0,0,0,0,0,0,0,0,0,0,0,0,0,0,0,0,0,0,0,0,0,0,0,0,0,0,0,0,0,0,0,0,0,0,0,0,0,0,0,0,0,0,0,0,0,0,0,0,0,0,0,0,0,0,0,0,0,0,0,0,0,0,0,0,0,0,0,0,0,0,0,0,0,0,0,0,0,0,0,0,0,0,0,0,0,0,0,0,0,0,0,0,0,1,0,0,0,0,0,0,0,0,0,0,0,0,0,0,0,0,0,0,0,0,0,0,0,0,0,0,0,1,0,0,0,0,0,0,0,0,0,1,0,0,0,0,0,0,0,0,0,0,0,0,0,0,0,0,0,0,0,0,0,0,0,0,0,0,0,0,0,0,0,0,0,0,0,0,0,0,0,0,0,0,0,0,0,0,0,0,0,0,0,0,0,0,0,0,0,0,0,0,0,0,5,3,1,0,0,2,1,0,0,1,1,1,0,4,0,0,0,0,0,1,1,0,1,0,0,0,0,1,0,0,0,0,0,1,1,0,0,3,1,0,0,0,0,0,0,2,1,0,1,0,0,0,0,1,0,2,0,1,0,0,0,2,0,0,1,0,1,0,1,0,2,0,2,0,1,0,0,1,0,0,0,0,0,0,0,1,0,0,0,0,0,1,0,1,0,0,1,1,0,0,0,2,4,1,1,1,5,3,2,1,5,1,3,5,0,1,5,3,0,3,2,4,1,4,0,2,4,5,2,1,1,2,3,0,1,2,0,0,0,2,2,7,5,1,0,1,3,2,7,2,1,1,3,4,2,3,4,3,2,3,3,2,7,2,0,2,4,0,0,1,1,0,2,0,2,0,1,3,3,1,1,2,2,0,0,0,0,1,0,0,0,1,0,0,1,0,0,1,0,0,0,0,0,6,2,3,1,2,5,3,2,3,3,1,4,2,1,6,4,5,2,3,2,1,4,0,0,2,2,0,4,6,2,5,3,2,5,0,1,5,3,2,2,2,5,0,4,4,3,2,3,5,3,2,2,4,2,6,1,7,4,1,2,3,3,4,3,1,0,6,3,2,2,1,3,3,1,2,2,3,0,4,4,1,2,1,3,0,5,0,1,1,3,2,4,1,0,4,1,1,0,0,2,0,0,10,4,7,14,9,6,6,8,8,5,7,6,4,2,7,6,6,7,4,2,6,8,6,4,1,3,5,2,2,0,0,2,4,5,3,2,2,7,2,3,1,1,2,2,2,1,2,0,1,2,4,2,3,3,3,2,5,6,3,3,2,2,0,1,9,5,4,0,1,3,2,3,5,4,1,1,5,1,1,4,2,1,1,3,1,1,1,0,1,0,4,1,2,2,6,5,3,2,4,4,0,0,16,8,16,6,7,6,11,15,8,11,18,4,6,5,10,8,15,5,10,9,11,8,3,6,1,5,4,2,9,7,2,2,2,3,1,5,5,2,4,4,3,3,7,1,1,2,5,3,4,2,3,2,2,0,1,2,0,4,4,0,1,0,1,0,1,1,2,1,3,0,1,0,2,1,2,0,0,0,3,5,5,5,1,1,3,7,2,3,2,0,0,3,0,2,1,0,2,1,1,1,0,0,27,16,25,15,15,17,14,11,11,9,10,7,8,10,13,8,12,12,11,12,5,7,8,14,10,13,6,12,2,4,7,12,10,3,5,4,5,3,5,4,2,3,7,5,5,3,2,5,5,0,5,1,3,3,5,2,2,0,6,4,1,0,2,1,3,1,2,2,1,1,0,1,1,0,0,1,0,0,1,1,2,2,0,2,2,4,1,5,1,2,0,5,2,3,6,3,1,5,3,3,0,0,141,111,84,67,46,44,49,23,23,22,17,12,13,17,11,14,10,6,6,11,4,9,7,16,7,11,13,5,8,7,7,3,0,8,4,4,7,9,5,7,10,3,4,3,1,1,4,3,3,4,5,5,0,3,4,6,3,2,2,1,0,4,2,2,5,1,4,1,4,1,4,1,1,1,2,3,3,2,2,0,1,2,3,1,0,0,2,1,3,2,2,3,0,2,3,0,3,0,2,3,0,0,299,285,293,251,226,210,184,153,106,86,74,50,45,40,21,18,15,12,20,16,8,5,10,6,7,11,8,4,5,8,7,9,8,8,7,4,6,2,9,3,14,2,5,7,6,1,7,6,5,2,5,4,5,3,3,2,4,2,4,0,3,3,0,0,2,1,2,0,0,2,4,1,1,1,2,2,2,3,0,6,3,2,4,0,2,4,1,1,1,2,0,0,0,0,0,0,2,0,2,1,0,0,130,153,228,234,271,336,335,282,310,261,263,219,200,142,125,94,57,45,36,32,19,18,11,14,14,9,9,10,5,10,7,5,6,5,11,8,5,2,6,5,4,8,6,8,3,6,4,4,9,3,7,1,2,5,5,7,3,4,3,5,4,2,3,4,1,1,0,2,2,1,2,3,5,1,2,1,0,2,1,1,1,2,0,1,2,3,1,1,0,3,2,4,1,2,1,2,4,1,3,2,0,0,12,27,18,41,57,88,118,166,200,255,311,336,322,383,343,308,228,201,141,105,70,45,43,27,18,14,18,15,14,18,17,8,13,5,6,11,5,11,1,6,3,4,8,7,5,3,4,8,7,1,6,7,4,7,3,4,6,5,4,3,1,5,3,1,1,4,0,0,0,3,2,0,0,2,1,2,6,3,1,2,5,2,0,3,2,1,2,1,1,5,4,1,3,2,3,3,4,3,8,3,0,0,8,7,10,13,13,12,10,22,21,35,53,92,158,205,258,323,356,342,359,310,279,198,171,95,68,36,42,18,22,11,14,14,10,9,5,9,10,7,9,6,2,4,4,8,5,2,3,6,3,2,8,4,3,3,6,5,3,5,3,3,4,1,4,0,7,5,2,2,2,0,3,0,0,3,0,1,4,3,3,1,0,1,2,6,4,1,3,4,4,2,3,3,3,4,6,7,7,8,9,7,0,0,0,6,2,5,5,5,8,9,6,16,16,20,22,18,44,77,129,195,286,281,346,337,366,322,275,194,130,82,47,40,29,19,19,13,6,17,12,6,6,9,8,1,8,7,5,7,6,4,4,5,6,6,5,6,9,1,2,2,7,7,7,8,2,4,3,6,2,1,4,3,3,5,3,4,0,5,3,0,1,3,1,1,3,2,2,1,1,0,3,6,3,3,6,7,6,4,12,22,23,21,0,0,2,3,1,3,5,6,5,3,6,2,8,7,5,10,11,16,12,30,45,93,141,218,303,341,384,331,302,265,215,147,85,37,37,31,27,25,18,17,8,13,6,11,5,2,14,6,6,8,3,4,5,8,5,5,5,11,6,4,3,4,4,4,4,8,6,3,5,3,3,0,4,3,3,1,1,3,3,3,2,0,5,3,4,1,2,2,0,4,4,5,9,6,7,18,21,26,46,69,90,86,0,0,0,2,4,1,5,5,4,6,4,5,3,6,2,4,4,12,17,14,8,12,21,43,88,144,238,314,342,380,290,255,226,143,98,50,18,18,21,18,18,13,10,10,5,9,7,7,10,9,9,7,1,6,1,5,3,5,9,4,5,5,1,5,3,2,3,4,4,4,1,4,8,4,4,1,4,3,5,5,1,3,1,2,2,2,3,4,1,13,11,9,21,40,58,54,85,97,97,118,106,93,0,0,0,0,0,5,0,0,1,4,9,5,5,3,3,5,2,3,10,9,8,16,13,12,15,21,60,131,202,289,297,290,314,274,264,169,90,53,27,20,15,11,17,16,9,12,11,5,11,5,9,12,3,7,4,2,1,4,3,2,3,5,3,8,2,1,3,4,3,9,4,6,4,5,1,4,3,3,3,6,2,9,4,6,1,3,5,7,6,27,38,44,63,85,89,92,88,73,84,57,35,22,0,0,1,3,2,0,1,1,2,2,1,2,7,2,1,3,4,6,3,10,9,14,11,8,14,11,8,21,35,104,168,239,272,301,272,295,258,149,87,42,15,17,18,10,12,7,12,9,6,3,3,3,3,10,8,5,5,3,5,3,3,5,8,4,4,3,4,4,1,5,1,5,3,5,1,1,6,0,2,3,4,7,8,3,7,11,20,25,22,69,74,84,94,94,71,55,44,23,18,12,9,9,0,0,2,2,1,1,5,2,3,1,0,5,7,2,2,4,7,3,3,5,1,4,4,5,13,13,12,19,11,24,50,108,213,263,284,295,241,216,188,120,52,32,19,15,18,13,13,6,13,4,5,5,4,5,6,8,6,7,6,5,3,4,3,4,5,3,3,8,10,3,3,4,6,6,3,3,3,3,3,3,6,8,8,23,34,30,61,63,74,85,93,67,46,18,15,20,11,7,11,3,6,2,0,0,0,1,0,1,1,0,2,1,1,0,0,2,2,3,2,5,5,4,3,1,3,5,10,11,15,6,11,13,12,23,62,154,212,238,285,258,248,214,136,84,32,18,16,12,17,11,13,10,11,9,4,10,5,7,6,6,9,8,4,5,1,3,4,2,7,3,6,4,5,1,0,5,2,2,8,7,3,14,11,18,22,61,67,91,100,74,70,50,28,25,5,4,8,7,8,2,6,3,1,1,0,0,0,0,0,1,1,1,1,2,3,0,0,2,1,1,2,2,4,2,2,4,2,0,2,8,8,8,8,9,12,5,14,32,98,189,259,256,261,246,243,170,98,41,20,11,10,13,16,13,14,14,8,4,11,3,2,4,2,6,7,5,4,1,4,4,2,5,6,4,7,3,5,2,7,10,3,6,18,17,52,48,65,90,85,77,59,27,20,12,8,6,6,1,4,3,2,1,1,4,4,0,0,0,0,1,0,2,1,1,0,2,0,1,1,0,0,1,3,1,3,3,2,4,3,6,0,6,6,3,3,2,10,6,10,6,30,91,150,220,221,217,217,231,155,107,33,16,12,15,15,17,11,14,11,11,4,6,6,8,6,6,6,2,3,4,1,3,2,8,2,3,5,1,2,4,13,7,16,32,34,69,62,72,52,75,54,30,16,8,9,11,5,3,6,7,7,7,2,1,3,3,0,3,0,0,0,2,0,0,0,2,1,2,4,3,3,2,0,0,1,2,5,6,1,3,2,3,1,0,2,4,5,8,8,8,9,4,10,27,63,172,185,176,226,229,197,152,99,38,13,18,8,17,13,9,13,10,10,0,5,9,3,12,4,5,6,4,0,1,4,1,5,3,5,10,3,4,12,15,44,62,74,83,78,52,47,21,14,4,5,8,3,6,7,4,4,1,1,0,0,1,4,1,3,4,0,0,0,2,0,0,1,0,0,2,1,2,1,2,2,1,0,1,3,3,1,1,3,4,0,2,1,3,9,1,3,4,6,9,4,8,20,75,139,172,201,225,221,171,159,62,34,9,13,7,10,11,9,9,10,1,1,7,3,5,6,4,0,4,3,3,3,3,3,4,5,8,7,18,25,62,75,62,96,62,45,23,17,6,7,3,4,4,7,5,5,1,0,1,3,0,1,2,0,2,0,2,0,0,0,0,0,0,0,0,0,1,2,2,2,0,2,0,2,0,1,4,0,0,2,0,3,1,2,1,1,2,6,3,5,2,7,3,6,16,80,158,176,192,193,174,168,161,49,28,14,8,20,10,9,12,8,4,3,1,2,2,1,2,4,4,4,7,3,2,6,5,4,16,23,53,54,83,63,71,49,34,17,13,6,4,8,6,8,2,2,3,1,1,4,0,7,1,2,2,2,0,0,0,0,0,0,0,0,1,1,0,0,0,0,0,0,3,3,0,0,2,0,0,1,3,2,3,2,0,1,1,0,1,3,4,1,4,1,2,5,6,30,80,146,167,178,186,183,133,87,50,14,9,8,10,11,12,6,5,12,3,0,4,1,5,4,8,6,3,2,4,5,8,12,30,50,79,60,68,66,24,9,8,6,7,4,2,4,6,5,2,2,4,1,2,2,5,1,5,1,0,1,0,2,1,0,0,0,0,0,0,0,0,0,0,1,2,0,1,1,1,1,1,0,0,0,2,1,2,1,0,1,1,0,2,3,2,4,6,2,3,4,8,6,40,98,140,137,175,142,139,131,70,22,18,13,7,9,10,9,3,5,3,1,3,9,3,5,4,4,4,1,6,8,19,31,63,81,62,64,30,29,9,13,5,6,3,6,6,6,2,2,1,2,1,0,1,0,0,1,0,1,1,0,0,1,0,0,0,0,0,0,0,1,0,0,1,0,0,1,0,0,0,0,0,0,0,0,1,3,6,0,3,1,0,1,3,4,1,3,0,2,4,4,7,3,12,57,122,149,131,159,127,144,105,33,16,8,14,14,8,8,14,5,10,2,6,7,5,0,2,4,7,9,9,24,39,52,77,54,58,33,13,6,2,6,3,2,11,3,8,5,1,0,0,3,1,2,4,2,3,1,1,1,0,3,0,1,0,0,0,0,0,0,0,0,0,0,0,0,0,0,1,1,3,3,1,0,0,0,1,0,2,2,1,1,2,0,0,0,3,5,1,5,7,3,5,5,8,30,68,103,118,109,116,121,94,52,17,9,5,10,5,4,7,4,5,2,3,3,0,3,3,2,12,16,21,37,48,47,69,33,26,14,9,4,4,3,2,8,8,3,4,0,1,1,1,6,1,0,0,1,1,2,0,1,0,1,3,1,3,0,0,1,1,2,1,1,0,0,1,0,0,1,2,0,0,0,1,0,0,0,1,0,2,3,1,4,2,1,1,1,3,0,4,2,3,1,2,5,1,4,47,90,120,129,108,103,113,65,20,6,10,8,6,5,3,2,1,6,3,6,6,0,4,8,11,16,50,51,39,48,40,20,16,3,3,2,4,6,5,3,3,5,4,1,2,0,1,1,3,3,0,2,0,0,0,1,2,1,2,2,0,0,0,0,0,0,0,0,0,0,0,0,0,0,0,1,1,0,0,0,0,0,2,1,1,2,1,1,0,0,0,0,1,3,0,2,2,2,2,2,5,5,21,63,73,97,106,101,95,76,44,12,9,11,7,9,4,2,8,4,3,2,1,6,6,8,23,24,40,47,47,25,23,16,5,4,5,4,5,5,1,5,1,0,2,1,2,0,0,0,0,3,2,1,0,2,0,1,2,1,0,1,0,0,0,0,0,0,0,0,0,0,0,0,0,1,0,1,0,2,1,0,0,0,0,4,1,1,1,0,0,2,0,0,0,2,2,0,1,2,0,1,3,0,15,40,63,87,83,95,78,77,43,16,6,1,10,7,9,7,3,5,5,3,1,1,14,21,35,33,36,44,44,24,17,7,3,4,3,4,1,2,2,1,1,1,2,3,4,3,1,2,0,0,0,2,2,1,2,0,3,2,0,0,1,0,0,0,0,0,0,1,0,0,0,0,0,0,1,0,1,0,0,0,0,0,0,0,0,0,2,0,0,3,2,1,0,2,0,1,3,1,2,1,1,1,8,25,58,92,69,75,62,57,57,28,7,4,5,5,5,3,4,4,3,8,5,4,18,27,30,34,43,40,23,9,6,4,3,3,2,3,5,1,4,2,1,1,1,0,1,5,0,1,1,1,0,1,2,1,0,1,0,1,0,1,0,0,0,0,0,0,0,0,0,0,0,1,0,0,0,0,0,0,0,0,0,0,0,0,0,0,0,0,1,1,3,0,0,0,1,1,0,0,3,2,0,0,3,13,42,47,63,57,69,45,31,24,12,3,5,2,5,2,2,1,1,6,4,11,12,20,27,37,32,19,6,2,2,4,2,2,0,1,3,0,1,0,1,2,4,1,1,2,1,0,1,0,0,0,1,1,0,0,2,1,1,1,1,0,0,0,0,0,0,0,0,0,0,0,0,0,0,0,0,0,1,1,0,0,0,0,2,0,1,0,1,1,0,2,0,0,0,1,1,2,0,1,2,0,2,9,23,40,39,54,41,60,49,26,9,5,3,4,5,3,4,4,2,1,6,9,22,24,24,33,17,13,7,0,2,1,1,4,3,2,3,1,3,0,1,1,1,0,1,2,2,1,2,1,0,2,0,0,2,0,3,0,0,0,0,0,0,0,0,0,0,0,0,0,0,1,1,0,0,0,0,0,0,0,0,0,0,0,1,0,0,1,0,0,0,0,0,0,1,0,0,1,1,4,1,0,0,2,12,19,48,32,39,41,32,15,8,7,8,1,5,1,3,4,4,1,10,12,25,27,22,21,8,6,1,1,3,3,5,3,1,2,1,1,0,3,2,1,0,0,1,1,1,1,0,2,1,1,0,1,0,1,1,1,0,0,1,0,0,0,0,0,0,1,0,0,0,0,0,0,0,0,0,0,0,0,0,0,1,0,0,0,0,1,0,0,0,1,2,0,0,0,0,1,1,1,0,1,0,2,9,24,22,31,25,22,28,22,11,4,1,4,0,2,2,6,1,7,11,20,19,35,6,8,5,4,1,0,1,0,0,3,1,0,0,0,4,1,0,3,1,0,1,0,1,0,0,2,0,0,0,0,0,1,0,0,1,2,2,0,0,0,0,0,0,0,0,0,0,0,0,0,0,0,0,0,0,0,0,0,1,0,0,0,0,0,0,0,0,0,1,0,0,1,1,0,1,0,1,0,0,0,1,21,23,35,23,27,20,16,12,2,2,3,0,0,2,0,1,12,8,15,14,13,25,6,4,1,1,1,2,1,1,3,1,0,1,0,2,1,0,0,1,0,0,0,1,2,0,2,0,1,0,2,0,1,1,0,0,0,1,0,0,0,0,0,0,0,0,0,0,0,0,0,0,0,0,1,0,0,0,1,0,1,0,0,0,0,1,0,0,0,0,0,0,0,2,0,0,0,0,0,0,2,2,8,14,12,23,27,19,14,4,4,3,1,1,0,2,3,6,9,9,7,13,13,8,6,2,0,0,2,1,1,2,1,1,2,0,0,2,0,1,1,0,1,2,1,0,0,1,1,1,1,1,0,1,1,1,0,1,0,1,0,0,0,0,0,0,0,0,0,0,0,0,0,1,0,0,0,0,0,0,0,0,0,0,0,1,0,1,0,0,1,0,0,0,0,1,2,0,1,1,1,1,1,0,10,15,11,12,13,19,21,3,4,1,3,5,2,2,2,4,7,6,11,13,13,7,2,0,0,0,1,0,2,1,1,0,0,0,0,0,0,0,2,1,0,1,1,2,2,0,1,2,0,1,0,2,1,0,0,1,1,0,0,0,0,0,0,0,0,0,0,0,0,0,0,0,0,0,0,1,0,0,1,0,0,1,0,0,0,0,0,0,0,0,0,0,0,0,1,1,1,0,1,0,0,4,7,15,11,21,17,19,11,7,2,1,1,2,1,2,4,11,11,6,10,6,5,9,0,2,0,0,0,2,0,0,1,1,0,0,0,0,0,0,0,0,2,0,0,0,1,0,0,0,2,0,0,0,1,0,1,1,0,0,0,0,0,0,0,0,0,0,0,0,0,0,0,0,0,0,0,0,0,0,0,0,1,0,1,0,0,0,0,1,0,0,0,0,0,0,0,3,1,1,3,0,0,1,2,8,8,12,9,10,9,7,5,2,1,0,1,2,7,8,5,4,13,3,2,1,1,2,4,0,1,0,0,2,1,0,0,0,1,0,0,1,1,0,0,0,1,1,1,0,0,0,1,0,0,0,1,0,0,1,3,0,0,0,0,0,0,0,0,0,0,0,0,0,0,0,0,0,0,0,0,0,0,0,0,0,0,0,0,0,0,0,0,0,1,0,0,0,0,0,1,1,0,0,1,0,3,15,9,6,11,8,12,8,4,1,1,0,1,1,7,17,8,7,6,2,3,3,0,2,0,1,0,1,0,0,0,1,0,0,0,1,1,0,0,0,0,2,0,2,0,0,0,0,0,0,0,0,0,2,1,1,0,0,0,0,0,0,0,0,0,0,0,0,0,0,0,0,0,0,0,0,0,1,0,1,0,0,0,0,0,0,0,1,0,0,0,0,0,1,0,0,0,1,1,2,0,0,1,5,7,7,12,10,11,8,5,5,4,2,0,3,7,3,15,9,6,6,1,0,2,1,3,1,0,0,0,1,0,0,0,0,0,1,1,0,0,0,0,1,0,0,0,0,0,0,0,0,0,0,0,0,0,0,0,0,0,0,0,0,0,0,0,0,0,0,0,0,0,0,0,0,0,0,0,0,0,0,0,0,0,0,0,0,1,0,0,0,0,0,0,0,1,0,1,0,2,0,0,0,1,6,3,7,9,9,6,7,10,0,1,0,6,4,8,3,7,6,2,9,0,0,0,0,0,2,0,4,0,0,1,0,0,0,1,0,1,1,1,0,0,1,0,0,0,0,0,1,0,1,1,1,0,1,0,0,0,0,0,0,0,0,0,0,0,0,0,0,0,0,0,0,0,0,2,0,0,0,0,0,0,1,0,0,0,1,0,0,2,1,0,0,1,0,0,0,3,0,0,0,1,0,0,3,8,8,3,10,11,9,4,4,1,0,2,4,1,0,4,3,5,1,0,0,1,0,2,1,2,1,0,1,0,0,0,1,0,1,0,1,0,0,0,0,0,0,0,1,0,0,0,0,0,1,0,0,0,1,0,2,0,0,0,0,0,0,0,0,0,0,0,0,0,0,0,0,0,0,0,0,0,0,0,0,0,0,0,0,0,0,2,0,1,0,0,0,0,0,0,0,0,0,1,1,0,3,6,4,6,5,6,12,4,0,0,1,2,6,4,2,3,2,3,1,0,0,1,0,0,0,1,0,1,0,3,2,0,0,0,1,1,1,0,0,0,0,0,0,0,3,0,0,0,0,1,0,0,0,0,0,0,0,0,0,0,0,0,0,0,0,0,0,0,0,0,0,0,0,0,0,0,0,0,0,0,0,0,0,0,0,1,0,0,0,0,0,0,0,0,0,0,1,0,1,0,0,0,3,7,3,5,7,6,7,1,1,0,1,2,3,3,2,1,1,0,0,0,0,2,1,1,0,0,1,0,2,0,0,1,1,1,0,0,0,0,0,0,1,0,0,0,1,1,0,0,0,0,1,0,1,0,0,0,0,0,0,0,0,0,0,0,0,0,0,0,0,0,0,0,0,0,0,0,0,0,0,1,0,0,0,1,0,0,0,1,0,0,0,0,0,0,1,0,0,0,0,1,0,0,1,3,8,6,3,6,4,3,4,1,0,3,1,1,4,2,2,2,0,2,0,1,2,0,0,0,0,0,0,0,1,0,0,0,0,0,0,0,0,0,0,0,3,0,1,0,0,0,1,1,0,0,0,0,0,0,0,0,0,0,0,0,0,0,0,0,0,0,2,0,0,0,0,0,0,0,0,0,0,0,0,0,0,0,1,2,0,0,0,0,0,0,0,0,0,0,0,3,0,0,0,0,2,9,8,6,5,3,3,7,0,2,0,2,1,8,0,0,1,2,1,0,2,0,0,0,0,0,0,0,0,1,0,1,0,0,1,1,1,0,0,0,0,0,0,0,0,1,1,0,0,1,0,0,0,1,0,0,0,0,0,0,0,0,0,0,0,0,0,0,0,0,0,0,0,0,0,0,0,0,0,0,0,0,0,0,1,0,0,2,0,0,0,0,0,0,1,1,0,0,1,0,0,0,1,5,3,7,4,6,1,2,0,0,3,2,2,1,2,1,1,1,0,1,1,0,0,0,0,1,0,0,2,0,0,0,0,0,0,1,0,0,0,0,0,0,0,0,0,0,0,0,0,0,0,0,0,0,0,1,0,0,0,0,0,0,0,0,0,0,0,0,0,0,0,0,0,0,0,1,0,0,0,0,0,0,0,0,0,0,1,0,0,0,0,0,0,0,0,1,0,0,1,0,0,0,0,2,5,3,3,8,1,3,1,3,0,2,2,3,3,3,1,0,0,0,0,1,2,0,2,0,1,0,0,0,0,0,0,0,1,0,0,0,0,0,0,2,0,1,0,1,0,0,0,0,0,0,0,1,0,1,0,0,0,0,0,0,0,0,0,0,0,0,0,0,0,0,0,0,0,0,0,0,0,0,0,0,0,0,0,0,0,0,0,0,0,0,0,0,0,0,0,1,0,0,0,0,2,4,5,1,1,3,1,3,0,3,0,3,2,3,0,1,1,1,0,0,0,0,0,1,1,0,0,0,1,0,0,0,0,0,1,1,0,0,1,0,0,1,1,1,0,1,0,0,0,0,0,0,0,1,0,0,0,0,0,0,0,0,0,0,0,0,0,0,0,0,0,0,0,0,0,2,0,0,0,0,0,0,0,0,0,0,1,0,1,0,0,0,0,0,0,1,0,1,0,0,0,0,0,2,3,1,2,1,0,0,0,0,0,2,1,0,1,1,0,0,1,1,0,0,1,0,1,0,0,0,1,0,0,0,0,1,0,0,2,0,0,0,0,0,0,0,0,0,0,1,0,0,0,0,0,0,0,0,0,0,0,0,0,0,0,0,0,0,0,0,0,0,0,0,0,0,0,0,0,0,0,0,0,0,0,0,1,0,0,1,0,0,0,0,0,1,0,0,0,0,1,0,0,0,0,0,1,2,2,8,5,1,0,0,0,4,1,0,2,1,1,0,1,0,0,2,0,0,0,1,0,0,0,0,0,0,0,0,0,0,0,0,1,1,0,1,0,0,1,1,0,0,0,0,0,1,0,0,0,0,0,0,0,0,0,0,0,0,0,0,0,0,0,0,0,0,0,0,0,0,0,0,0,0,0,0,0,0,0,0,2,0,0,0,0,0,0,0,2,0,0,0,0,1,0,0,0,1,2,1,1,0,0,1,4,0,1,2,2,1,1,1,2,0,0,0,0,2,0,0,0,1,0,1,1,0,0,0,0,1,0,0,0,0,0,0,0,0,0,0,0,0,0,0,0,0,0,0,0,0,0,0,0,0,0,0,0,0,0,0,0,0,0,0,0,0,0,0,0,0,0,0,0,0,0,0,0,0,0,0,0,0,0,0,0,0,0,0,0,0,0,0,0,0,1,0,0,0,0,0,1,1,1,1,2,0,1,2,0,0,0,2,0,0,0,0,1,0,0,0,0,0,0,0,0,0,0,0,0,0,0,0,0,0,1,0,0,0,0,0,0,0,0,0,0,0,0,1,0,1,0,0,0,0,0,0,0,0,0,0,0,0,0,0,0,0,0,0,0,0,0,0,0,0,0,0,0,2,0,0,0,0,0,0,0,0,0,0,0,0,0,0,0,0,0,0,0,0,0,0,1,0,1,2,1,0,4,2,0,2,0,1,0,1,4,0,0,1,0,1,0,1,0,0,0,0,0,0,0,0,0,0,0,1,0,0,0,0,0,0,1,0,0,0,0,0,1,0,0,0,0,0,1,0,0,0,0,0,0,0,0,0,0,0,0,0,0,0,0,0,0,0,0,0,0,0,0,0,0,0,0,0,0,0,0,0,0,0,0,0,0,0,0,0,0,0,0,1,0,0,0,0,1,0,1,1,0,0,2,1,0,0,0,0,0,2,0,0,0,0,0,0,0,0,0,0,0,0,1,1,0,0,0,0,1,0,0,0,0,1,0,0,0,0,0,0,0,0,0,2,1,0,0,0,1,0,0,1,0,0,0,0,0,0,0,0,0,0,0,0,2,0,0,0,0,0,0,0,0,0,0,0,0,0,0,0,0,0,0,0,0,1,0,0,0,0,0,0,1,0,0,0,0,1,0,0,0,1,0,2,1,0,0,0,2,1,1,0,0,0,0,0,0,0,1,0,1,1,1,0,1,0,1,0,1,0,1,0,0,0,0,0,0,0,0,0,0,0,0,0,0,0,0,0,0,0,0,0,0,0,0,0,0,0,0,0,0,0,0,0,0,0,0,0,0,0,0,0,0,0,0,0,0,0,0,0,0,0,0,1,0,0,0,0,0,0,0,0,0,0,0,0,0,0,0,0,0,0,3,0,1,1,2,0,2,0,1,2,1,1,0,0,0,0,0,0,0,0,0,0,0,0,0,1,0,0,1,0,1,0,0,0,0,0,0,0,0,0,0,0,0,0,0,0,0,0,0,0,0,0,0,0,0,0,0,0,0,0,0,0,0,0,0,0,0,0,0,0,0,0,0,0,0,0,0,0,0,0,0,0,0,0,0,0,0,1,0,0,0,0,0,0,0,0,0,0,0,0,0,0,2,0,0,0,1,0,1,0,0,1,0,0,0,0,0,1,0,0,0,0,1,0,0,0,0,0,0,0,0,0,0,0,1,0,0,0,0,0,0,1,0,0,0,0,0,0,0,0,0,1,0,0,0,0,0,0,0,0,0,0,0,0,0,0,0,0,0,0,0,0,0,0,0,0,0,0,0,0,0,0,0,0,0,1,0,0,0,0,0,0,0,0,0,0,0,0,1,1,0,0,0,0,0,0,0,1,0,1,0,1,3,0,1,0,0,0,0,1,0,0,0,0,1,0,0,0,0,0,0,1,0,0,1,0,0,0,0,1,0,2,1,0,0,0,0,0,0,0,0,0,0,0,0,0,0,0,0,0,0,0,0,0,0,0,0,0,0,0,0,0,0,0,0,1,0,0,0,0,0,0,0,0,0,0,0,0,0,0,0,0,0,0,0,0,0,0,0,0,0,0,0,0,0,0,0,0,1,1,3,1,1,0,0,1,0,0,0,0,0,0,0,0,0,0,0,0,0,0,0,0,0,1,0,0,0,0,0,0,0,0,0,0,0,0,0,0,0,0,0,0,0,0,0,0,0,0,0,0,0,0,0,0,0,0,0,0,0,0,0,0,0,0,0,0,0,0,0,0,0,0,0,0,0,0,0,0,0,0,0,0,0,0,0,0,0,0,0,0,0,1,0,0,0,0,0,0,0,0,1,1,0,0,0,0,1,0,0,0,0,0,1,0,0,1,0,0,0,0,0,1,0,0,0,0,0,0,0,0,0,0,0,1,0,0,0,0,0,0,0,0,1,0,1,0,0,0,0,0,0,0,0,0,0,0,0,0,0,0,0,0,0,0,0,0,0,0,0,0,0,0,0,0,0,0,0,0,0,0,0,0,0,0,0,0,0,0,0,0,0,0,0,0,0,0,0,0,0,0,1,1,0,1,1,0,0,2,1,0,0,1,0,0,0,0,0,0,0,0,1,0,0,0,0,0,0,0,0,0,0,1,0,0,0,0,0,0,0,0,0,0,0,0,0,0,0,0,0,0,0,0,1,0,0,0,0,0,0,0,0,0,0,0,0,0,0,0,0,0,0,0,0,0,0,0,0,0,0,0,0,0,0,0,0,1,0,0,0,0,0,0,0,0,0,0,0,0,0,0,0,0,0,3,0,2,0,2,2,0,1,0,0,0,0,0,0,0,1,0,1,0,0,0,0,0,0,1,0,0,0,0,0,0,0,0,0,0,0,0,0,0,0,0,0,0,0,0,0,0,0,0,0,0,0,0,0,0,0,0,0,0,0,0,0,0,0,0,0,0,0,0,0,0,0,0,0,0,0,0,1,0,0,0,0,0,0,0,0,0,0,0,0,0,0,0,0,0,0,0,0,0,0,1,0,0,0,1,0,0,0,0,0,0,0,0,0,0,0,1,0,0,0,0,0,1,0,0,0,0,0,0,0,0,0,0,0,0,0,0,0,1,0,0,0,0,0,0,1,0,0,0,0,0,1,1,0,0,0,0,0,0,0,0,0,0,0,0,0,0,0,0,0,0,0,0,0,0,0,0,0,0,0,0,0,0,0,0,0,0,0,0,0,0,0,0,0,0,0,0,0,0,0,1,0,0,0,1,0,0,0,0,0,2,0,0,1,1,0,0,0,0,0,0,0,0,0,0,0,0,0,0,0,0,0,0,0,0,0,0,0,0,0,0,0,0,0,0,0,0,0,0,0,0,0,0,0,0,0,0,0,0,0,0,0,0,0,0,0,0,0,0,0,0,0,0,0,0,0,0,0,0,0,0,0,0,0,0,0,0,0,0,0,0,0,0,0,0,0,2,0,0,0,0,0,0,0,0,1,1,0,0,0,0,1,0,0,0,0,0,0,0,0,0,0,1,0,0,0,0,0,0,0,0,0,1,0,0,0,0,0,0,0,0,0,0,0,0,0,1,0,0,0,0,0,0,0,0,0,0,0,0,0,0,0,0,0,0,0,0,0,0,0,0,0,0,0,0,0,0,0,0,0,0,0,0,0,0,0,0,0,0,0,0,0,0,1,0,0,0,0,0,0,0,0,0,0,0,0,1,0,0,0,0,0,1,0,0,0,0,0,0,0,0,0,0,0,1,0,0,0,0,0,0,0,0,0,0,0,0,0,2,0,0,1,0,0,0,0,1,0,0,0,0,0,1,0,0,0,0,1,0,0,0,0,0,0,0,0,0,0,0,0,0,0,0,0,0,0,0,0,0,0,0,0,1,0,0,0,0,0,0,0,0,0,0,0,0,0,0,0,0,0,0,0,0,1,0,0,0,0,0,1,0,2,2,0,0,0,0,0,0,0,0,1,1,0,0,0,0,0,0,0,0,0,0,0,0,0,0,0,0,0,1,0,0,1,0,0,0,0,0,0,0,0,0,0,0,0,0,0,0,0,0,1,0,0,0,0,0,0,0,0,0,0,0,0,0,0,0,0,0,0,0,0,0,0,0,0,0,0,0,0,0,0,0,0,0,0,0,0,0,0,0,0,0,0,0,0,0,0,0,0,2,0,0,2,0,0,0,0,1,0,2,0,0,0,0,0,0,0,0,0,0,1,0,0,0,0,0,0,0,0,0,0,0,0,0,0,0,1,0,0,0,0,0,0,0,0,1,0,0,0,0,0,0,0,0,0,0,0,0,0,0,0,0,0,0,0,0,0,0,0,0,0,0,0,0,0,0,0,0,0,0,0,0,0,0,0,0,0,1,0,0,0,0,0,0,0,0,0,0,0,0,0,0,0,0,0,0,0,0,0,0,0,0,0,0,0,0,0,0,0,0,0,0,0,0,0,0,0,0,0,0,0,0,0,0,0,0,0,0,0,1,0,0,0,0,1,0,0,0,0,0,0,0,0,0,0,0,0,0,0,0,0,0,0,0,0,0,0,0,0,0,0,0,0,0,0,0,0,0,0,0,0,0,0,0,0,0,0,0,0,0,0,0,0,0,0,0,0,0,0,0,0,0,0,0,0,1,0,1,0,0,0,0,0,0,1,0,0,0,0,0,0,1,0,0,0,0,0,0,0,0,0,1,0,0,0,0,0,0,0,0,0,0,0,0,0,0,0,0,0,0,0,0,0,0,0,0,0,0,0,0,0,0,0,0,0,0,0,0,0,0,0,0,0,0,0,0,0,0,0,0,0,0,0,0,0,0,0,0,0,0,0,0,0,0,0,0,0,0,0,0,0,0,0,0,0,0,0,0,0,0,0,0,0,0,0,0,0,0,0,0,0,0,0,0,0,0,0,0,0,0,0,0,0,0,0,0,0,0,0,0,0,0,0,0,0,0,0,0,0,0,0,0,0,0,0,0,0,0,0,0,0,0,0,0,0,0,0,0,0,0,0,0,0,0,0,0,0,0,0,0,0,0,0,0,0,0,0,0,0,0,0,0,0,0,0,0,0,0,0,0,0,0,0,0,0,0,0,0,0,0,0,0,0,0,0,0,0,0,0,0,0,0,0,0,0,0,0,0,0,0,0,0,0,0,0,0,0,0,0,0,0,0,0,0,0,0,0,0,0,0,0,0,0,0,0,0,0,0,0,0,0,0,0,0,0,0,0,0,0,0,0,0,0,0,0,0,0,0,0,0,0,0,0,0,0,0,0,0,0,0,0,0,0,0,0,0,0,0,0,0,0,0,0,0,0,0,0,0,0,0,0,0,0,0,0,0,0,0,0,0,0,0,0,0,0,0,0,0,0,0,0,0,0,0,0,0,0,0,0,0,0,0,0,0,0,0,0,0,0,0,0,0,0,0,0,0,0,0,0,0,0,0,0,0,0,0,0,0,0,0,0,0,0,0,0,0,0,0,0,0,0,0,0,0,0,0,0,0,0,0,0,0,0,0,0,0,0,0,0,0,0,0,0,0,0,0,0,0,0,0,0,0,0,0,0,0,0,0,0,0,0,0,0,0,0,0,0,0,0,0,0,0,0,0,0,0,0,0,0,0,0,0,0,0,0,0,0,0,0,0,0,0,0,0,0,0,0,0,0,0,0,0,0,0,0,0,0,0,0,0,0,0,0,0,0,0,0,0,0,0,0,0,0,0,0,0,0,0,0,0,0,0,0,0,0,0,0,0,0,0,0,0,0,0,0,0,0,0,0,0,0,0,0,0,0,0,0,0,0,0,0,0,0,0,0,0,0,0,0,0,0,0,0,0,0,0,0,0,0,0,0,0,0,0,0,0,0,0,0,0,0,0,0,0,0,0,0,0,0,0,0,0,0,0,0,0,0,0,0,0,0,0,0,0,0,0,0,0,0,0,0,0,0,0,0,0,0,0,0,0,0,0,0,0,0,0,0,0,0,0,0,0,0,0,0,0,0,0,0,0,0,0,0,0,0,0,0,0,0,0,0,0,0,0,0,0,0,0,0,0,0,0,0,0,0,0,0,0,0,0,0,0,0,0,0,0,0,0,0,0,0,0,0,0,0,0,0,0,0,0,0,0,0,0,0,0,0,0,0,0,0,0,0,0,0,0,0,0,0,0,0,0,0,0,0,0,0,0,0,0,0,0,0,0,0,0,0,0,0,0,0,0,0,0,0,0,0,0,0,0,0,0,0,0,0,0,0,0,0,0,0,0,0,0,0,0,0,0,0,0,0,0,0,0,0,0,0,0,0,0,0,0,0,0,0,0,0,0,0,0,0,0,0,0,0,0,0,0,0,0,0,0,0,0,0,0,0,0,0,0,0,0,0,0,0,0,0,0,0,0,0,0,0,0,0,0,0,0,0,0,0,0,0,0,0,0,0,0,0,0,0,0,0,0,0,0,0,0,0,0,0,0,0,0,0,0,0,0,0,0,0,0,0,0,0,0,0,0,0,0,0,0,0,0,0,0,0,0,0,0,0,0,0,0,0,0,0,0,0,0,0,0,0,0,0,0,0,0,0,0,0,0,0,0,0,0,0,0,0,0,0,0,0,0,0,0,0,0,0,0,0,0,0,0,0,0,0,0,0,0,0,0,0,0,0,0,0,0,0,0,0,0,0,0,0,0,0,0,0,0,0,0,0,0,0,0,0,0,0,0,0,0,0,0,0,0,0,0,0,0,0,0,0,0,0,0,0,0,0,0,0,0,0,0,0,0,0,0,0,0,0,0,0,0,0,0,0,0,0,0,0,0,0,0,0,0,0,0,0,0,0,0,0,0,0,0,0,0,0,0,0,0,0,0,0,0,0,0,0,0,0,0,0,0,0,0,0,0,0,0,0,0,0,0,0,0,0,0,0,0,0,0,0,0,0,0,0,0,0,0,0,0,0,0,0,0,0,0,0,0,0,0,0,0,0,0,0,0,0,0,0,0,0,0,0,0,0,0,0,0,0,0,0,0,0,0,0,0,0,0,0,0,0,0,0,0,0,0,0,0,0,0,0,0,0,0,0,0,0,0,0,0,0,0,0,0,0,0,0,0,0,0,0,0,0,0,0,0,0,0,0,0,0,0,0,0,0,0,0,0,0,0,0,0,0,0,0,0,0,0,0,0,0,0,0,0,0,0,0,0,0,0,0,0,0,0,0,0,0,0,0,0,0,0,0,0,0,0,0,0,0,0,0,0,0,0,0,0,0,0,0,0,0,0,0,0,0,0,0,0,0,0,0,0,0,0,0,0,0,0,0,0,0,0,0,0,0,0,0,0,0,0,0,0,0,0,0,0,0,0,0,0,0,0,0,0,0,0,0,0,0,0,0,0,0,0,0,0,0,0,0,0,0,0,0,0,0,0,0,0,0,0,0,0,0,0,0,0,0,0,0,0,0,0,0,0,0,0,0,0,0,0,0,0,0,0,0,0,0,0,0,0,0,0,0,0,0,0,0,0,0,0,0,0,0,0,0,0,0,0,0,0,0,0,0,0,0,0,0,0,0,0,0,0,0,0,0,0,0,0,0,0,0,0,0,0,0,0,0,0,0,0,0,0,0,0,0,0,0,0,0,0,0,0,0,0,0,0,0,0,0,0,0,0,0,0,0,0,0,0,0,0,0,0,0,0,0,0,0,0,0,0,0,0,0,0,0,0,0,0,0,0,0,0,0,0,0,0,0,0,0,0,0,0,0,0,0,0,0,0,0,0,0,0,0,0,0,0,0,0,0,0,0,0,0,0,0,0,0,0,0,0,0,0,0,0,0,0,0,0,0,0,0,0,0,0,0,0,0,0,0,0,0,0,0,0,0,0,0,0,0,0,0,0,0,0,0,0,0,0,0,0,0,0,0,0,0,0,0,0,0,0,0,0,0,0,0,0,0,0,0,0,0,0,0,0,0,0,0,0,0,0,0,0,0,0,0,0,0,0,0,0,0,0,0,0,0,0,0,0,0,0,0,0,0,0,0,0,0,0,0,0,0,0,0,0,0,0,0,0,0,0,0,0,0,0,0,0,0,0,0,0,0,0,0,0,0,0,0,0,0,0,0,0,0,0,0,0,0,0,0,0,0,0,0,0,0,0,0,0,0,0,0,0,0,0,0,0,0,0,0,0,0,0,0,0,0,0,0,0,0,0,0,0,0,0,0,0,0,0,0,0,0,0,0,0,0,0,0,0,0,0,0,0,0,0,0,0,0,0,0,0,0,0,0,0,0,0,0,0,0,0,0,0,0,0,0,0,0,0,0,0,0,0,0,0,0,0,0,0,0,0,0,0,0,0,0,0,0,0,0,0,0,0,0,0,0,0,0,0,0,0,0,0,0,0,0,0,0,0,0,0,0,0,0,0,0,0,0,0,0,0,0,0,0,0,0,0,0,0,0,0,0,0,0,0,0,0,0,0,0,0,0,0,0,0,0,0,0,0,0,0,0,0,0,0,0,0,0,0,0,0,0,0,0,0,0,0,0,0,0,0,0,0,0,0,0,0,0,0,0,0,0,0,0,0,0,0,0,0,0,0,0,0,0,0,0,0,0,0,0,0,0,0,0,0,0,0,0,0,0,0,0,0,0,0,0,0,0,0,0,0,0,0,0,0,0,0,0,0,0,0,0,0,0,0,0,0,0,0,0,0,0,0,0,0,0,0,0,0,0,0,0,0,0,0,0,0,0,0,0,0,0,0,0,0,0,0,0,0,0,0,0,0,0,0,0,0,0,0,0,0,0,0,0,0,0,0,0,0,0,0,0,0,0,0,0,0,0,0,0,0,0,0,0,0,0,0,0,0,0,0,0,0,0,0,0,0,0,0,0,0,0,0,0,0,0,0,0,0,0,0,0,0,0,0,0,0,0,0,0,0,0,0,0,0,0,0,0,0,0,0,0,0,0,0,0,0,0,0,0,0,0,0,0,0,0,0,0,0,0,0,0,0,0,0,0,0,0,0,0,0,0,0,0,0,0,0,0,0,0,0,0,0,0,0,0,0,0,0,0,0,0,0,0,0,0,0,0,0,0,0,0,0,0,0,0,0,0,0,0,0,0,0,0,0,0,0,0,0,0,0,0,0,0,0,0,0,0,0,0,0,0,0,0,0,0,0,0,0,0,0,0,0,0,0,0,0,0,0,0,0,0,0,0,0,0,0,0,0,0,0,0,0,0,0,0,0,0,0,0,0,0,0,0,0,0,0,0,0,0,0,0,0,0,0,0,0,0,0,0,0,0,0,0,0,0,0,0,0,0,0,0,0,0,0,0,0,0,0,0,0,0,0,0,0,0,0,0,0,0,0,0,0,0,0,0,0,0,0,0,0,0,0,0,0,0,0,0,0,0,0,0,0,0,0,0,0,0,0,0,0,0,0,0,0,0,0,0,0,0,0,0,0,0,0,0,0,0,0,0,0,0,0,0,0,0,0,0,0,0,0,0,0,0,0,0,0,0,0,0,0,0,0,0,0,0,0,0,0,0,0,0,0,0,0,0,0,0,0,0,0,0,0,0,0,0,0,0,0,0,0,0,0,0,0,0,0,0,0,0,0,0,0,0,0,0,0,0,0,0,0,0,0,0,0,0,0,0,0,0,0,0,0,0,0,0,0,0,0,0,0,0,0,0,0,0,0,0,0,0,0,0,0,0,0,0,0,0,0,0,0,0,0,0,0,0,0,0,0,0,0,0,0,0,0,0,0,0,0,0,0,0,0,0,0,0,0,0,0,0,0,0,0,0,0,0,0,0,0,0,0,0,0,0,0,0,0,0,0,0,0,0,0,0,0,0,0,0,0,0,0,0,0,0,0,0,0,0,0,0,0,0,0,0,0,0,0,0,0,0,0,0,0,0,0,0,0,0,0,0,0,0,0,0,0,0,0,0,0,0,0,0,0,0,0,0,0,0,0,0,0,0,0,0,0,0,0,0,0,0,0,0,0,0,0,0,0,0,0,0,0,0,0,0,0,0,0,0,0,0,0,0,0,0,0,0,0,0,0,0,0,0,0,0,0,0,0,0,0,0,0,0,0,0,0,0,0,0,0,0,0,0,0,0,0,0,0,0,0,0,0,0,0,0,0,0,0,0,0,0,0,0,0,0,0,0,0,0,0,0,0,0,0,0,0,0,0,0,0,0,0,0,0,0,0,0,0,0,0,0,0,0,0,0,0,0,0,0,0,0,0,0,0,0,0,0,0,0,0,0,0,0,0,0,0,0,0,0,0,0,0,0,0,0,0,0,0,0,0,0,0,0,0,0,0,0,0,0,0,0,0,0,0,0,0,0,0,0,0,0,0,0,0,0,0,0,0,0,0,0,0,0,0,0,0,0,0,0,0,0,0,0,0,0,0,0,0,0,0,0,0,0,0,0,0,0,0,0,0,0,0,0,0,0,0,0,0,0,0,0,0,0,0,0,0,0,0,0,0,0,0,0,0,0,0,0,0,0,0,0,0,0,0,0,0,0,0,0,0,0,0,0,0,0,0,0,0,0,0,0,0,0,0,0,0,0,0,0,0,0,0,0,0,0,0,0,0,0,0,0,0,0,0,0,0,0,0,0,0,0,0,0,0,0,0,0,0,0,0,0,0,0,0,0,0,0,0,0,0,0,0,0,0,0,0,0,0,0,0,0,0,0,0,0,0,0,0,0,0,0,0,0,0,0,0,0,0,0,0,0,0,0,0,0,0,0,0,0,0,0,0,0,0,0,0,0,0,0,0,0,0]},{\"_typename\":\"TPaveText\",\"fUniqueID\":0,\"fBits\":50331657,\"fLineColor\":1,\"fLineStyle\":1,\"fLineWidth\":1,\"fFillColor\":0,\"fFillStyle\":0,\"fX1\":-2.94396555860094,\"fY1\":4.15720344611317,\"fX2\":2.94396555860093,\"fY2\":4.47500006072223,\"fX1NDC\":0.382241379410703,\"fY1NDC\":0.931440682793668,\"fX2NDC\":0.617758620589297,\"fY2NDC\":0.995000004768372,\"fBorderSize\":0,\"fInit\":1,\"fShadowColor\":1,\"fCornerRadius\":0,\"fOption\":\"blNDC\",\"fName\":\"title\",\"fTextAngle\":0,\"fTextSize\":0,\"fTextAlign\":22,\"fTextColor\":1,\"fTextFont\":42,\"fLabel\":\"\",\"fLongest\":10,\"fMargin\":0.05,\"fLines\":{\"_typename\":\"TList\",\"name\":\"TList\",\"arr\":[{\"_typename\":\"TLatex\",\"fUniqueID\":0,\"fBits\":50331648,\"fName\":\"\",\"fTitle\":\"KpP:KpTime\",\"fTextAngle\":0,\"fTextSize\":0,\"fTextAlign\":0,\"fTextColor\":0,\"fTextFont\":0,\"fX\":0,\"fY\":0,\"fLineColor\":1,\"fLineStyle\":1,\"fLineWidth\":2,\"fLimitFactorSize\":3,\"fOriginSize\":0.0540254227817059}],\"opt\":[\"\"]}}],\"opt\":[\"\",\"col1\",\"blNDC\"]},\"fExecs\":{\"_typename\":\"TList\",\"name\":\"TList\",\"arr\":[],\"opt\":[]},\"fName\":\"c1_3\",\"fTitle\":\"c1_3\",\"fNumPaletteColor\":0,\"fNextPaletteColor\":0},{\"_typename\":\"TPad\",\"fUniqueID\":0,\"fBits\":50331657,\"fLineColor\":1,\"fLineStyle\":1,\"fLineWidth\":1,\"fFillColor\":0,\"fFillStyle\":1001,\"fLeftMargin\":0.1,\"fRightMargin\":0.1,\"fBottomMargin\":0.1,\"fTopMargin\":0.1,\"fXfile\":2,\"fYfile\":2,\"fAfile\":1,\"fXstat\":0.99,\"fYstat\":0.99,\"fAstat\":2,\"fFrameFillColor\":0,\"fFrameLineColor\":1,\"fFrameFillStyle\":1001,\"fFrameLineStyle\":1,\"fFrameLineWidth\":1,\"fFrameBorderSize\":1,\"fFrameBorderMode\":0,\"fX1\":-12.5000001862645,\"fY1\":-0.500000037252905,\"fX2\":12.5000001862645,\"fY2\":4.5000000372529,\"fXtoAbsPixelk\":522.00005,\"fXtoPixelk\":167.040050155568,\"fXtoPixel\":13.3631998133182,\"fYtoAbsPixelk\":444.624048733997,\"fYtoPixelk\":203.904048839497,\"fYtoPixel\":-45.3119993669986,\"fUtoAbsPixelk\":354.960049844432,\"fUtoPixelk\":5e-5,\"fUtoPixel\":334.080000311136,\"fVtoAbsPixelk\":467.2800501055,\"fVtoPixelk\":226.560000211,\"fVtoPixel\":-226.560000211,\"fAbsPixeltoXk\":-39.0625005456968,\"fPixeltoXk\":-12.5000001862645,\"fPixeltoX\":0.0748323765243235,\"fAbsPixeltoYk\":9.81250010913937,\"fPixeltoYk\":-0.500000037252905,\"fPixeltoY\":-0.0220692093478513,\"fXlowNDC\":0.509999999776483,\"fYlowNDC\":0.00999999977648258,\"fXUpNDC\":0,\"fYUpNDC\":0,\"fWNDC\":0.480000000447035,\"fHNDC\":0.480000000447035,\"fAbsXlowNDC\":0.509999999776483,\"fAbsYlowNDC\":0.00999999977648258,\"fAbsWNDC\":0.480000000447035,\"fAbsHNDC\":0.480000000447035,\"fUxmin\":-10,\"fUymin\":0,\"fUxmax\":10,\"fUymax\":4,\"fTheta\":30,\"fPhi\":30,\"fAspectRatio\":0,\"fNumber\":4,\"fTickx\":0,\"fTicky\":0,\"fLogx\":0,\"fLogy\":0,\"fLogz\":0,\"fPadPaint\":0,\"fCrosshair\":0,\"fCrosshairPos\":0,\"fBorderSize\":2,\"fBorderMode\":0,\"fModified\":false,\"fGridx\":false,\"fGridy\":false,\"fAbsCoord\":false,\"fEditable\":true,\"fFixedAspectRatio\":false,\"fPrimitives\":{\"_typename\":\"TList\",\"name\":\"TList\",\"arr\":[{\"_typename\":\"TFrame\",\"fUniqueID\":0,\"fBits\":50331656,\"fLineColor\":1,\"fLineStyle\":1,\"fLineWidth\":1,\"fFillColor\":0,\"fFillStyle\":1001,\"fX1\":-10,\"fY1\":0,\"fX2\":10,\"fY2\":4,\"fBorderSize\":1,\"fBorderMode\":0},{\"_typename\":\"TH2F\",\"fUniqueID\":0,\"fBits\":50331656,\"fName\":\"h4\",\"fTitle\":\"KpP:KpTime\",\"fLineColor\":602,\"fLineStyle\":1,\"fLineWidth\":1,\"fFillColor\":0,\"fFillStyle\":1001,\"fMarkerColor\":1,\"fMarkerStyle\":1,\"fMarkerSize\":1,\"fNcells\":10404,\"fXaxis\":{\"_typename\":\"TAxis\",\"fUniqueID\":0,\"fBits\":50331648,\"fName\":\"xaxis\",\"fTitle\":\"\",\"fNdivisions\":510,\"fAxisColor\":1,\"fLabelColor\":1,\"fLabelFont\":42,\"fLabelOffset\":0.005,\"fLabelSize\":0.035,\"fTickLength\":0.03,\"fTitleOffset\":1,\"fTitleSize\":0.035,\"fTitleColor\":1,\"fTitleFont\":42,\"fNbins\":100,\"fXmin\":-10,\"fXmax\":10,\"fXbins\":[],\"fFirst\":0,\"fLast\":0,\"fBits2\":0,\"fTimeDisplay\":false,\"fTimeFormat\":\"\",\"fLabels\":null,\"fModLabs\":null},\"fYaxis\":{\"_typename\":\"TAxis\",\"fUniqueID\":0,\"fBits\":50331648,\"fName\":\"yaxis\",\"fTitle\":\"\",\"fNdivisions\":510,\"fAxisColor\":1,\"fLabelColor\":1,\"fLabelFont\":42,\"fLabelOffset\":0.005,\"fLabelSize\":0.035,\"fTickLength\":0.03,\"fTitleOffset\":0,\"fTitleSize\":0.035,\"fTitleColor\":1,\"fTitleFont\":42,\"fNbins\":100,\"fXmin\":0,\"fXmax\":4,\"fXbins\":[],\"fFirst\":0,\"fLast\":0,\"fBits2\":0,\"fTimeDisplay\":false,\"fTimeFormat\":\"\",\"fLabels\":null,\"fModLabs\":null},\"fZaxis\":{\"_typename\":\"TAxis\",\"fUniqueID\":0,\"fBits\":50331648,\"fName\":\"zaxis\",\"fTitle\":\"\",\"fNdivisions\":510,\"fAxisColor\":1,\"fLabelColor\":1,\"fLabelFont\":42,\"fLabelOffset\":0.005,\"fLabelSize\":0.035,\"fTickLength\":0.03,\"fTitleOffset\":1,\"fTitleSize\":0.035,\"fTitleColor\":1,\"fTitleFont\":42,\"fNbins\":1,\"fXmin\":0,\"fXmax\":1,\"fXbins\":[],\"fFirst\":0,\"fLast\":0,\"fBits2\":0,\"fTimeDisplay\":false,\"fTimeFormat\":\"\",\"fLabels\":null,\"fModLabs\":null},\"fBarOffset\":0,\"fBarWidth\":1000,\"fEntries\":69891,\"fTsumw\":69891,\"fTsumw2\":69891,\"fTsumwx\":-161606.952177935,\"fTsumwx2\":1971783.16121923,\"fMaximum\":-1111,\"fMinimum\":-1111,\"fNormFactor\":0,\"fContour\":[0,19.2,38.4,57.6,76.8,96,115.2,134.4,153.6,172.8,192,211.2,230.4,249.6,268.8,288,307.2,326.4,345.6,364.8],\"fSumw2\":[],\"fOption\":\"\",\"fFunctions\":{\"_typename\":\"TList\",\"name\":\"TList\",\"arr\":[{\"_typename\":\"TPaveStats\",\"fUniqueID\":0,\"fBits\":50331657,\"fLineColor\":1,\"fLineStyle\":1,\"fLineWidth\":1,\"fFillColor\":0,\"fFillStyle\":1001,\"fX1\":7.00000050663949,\"fY1\":2.97500005327165,\"fX2\":12.0000006556511,\"fY2\":4.17500004433096,\"fX1NDC\":0.780000016093254,\"fY1NDC\":0.695000007748604,\"fX2NDC\":0.980000019073486,\"fY2NDC\":0.935000002384186,\"fBorderSize\":1,\"fInit\":1,\"fShadowColor\":1,\"fCornerRadius\":0,\"fOption\":\"brNDC\",\"fName\":\"stats\",\"fTextAngle\":0,\"fTextSize\":0,\"fTextAlign\":12,\"fTextColor\":1,\"fTextFont\":42,\"fLabel\":\"\",\"fLongest\":18,\"fMargin\":0.05,\"fLines\":{\"_typename\":\"TList\",\"name\":\"TList\",\"arr\":[{\"_typename\":\"TLatex\",\"fUniqueID\":0,\"fBits\":50331648,\"fName\":\"\",\"fTitle\":\"h4\",\"fTextAngle\":0,\"fTextSize\":0.0368,\"fTextAlign\":0,\"fTextColor\":0,\"fTextFont\":0,\"fX\":0,\"fY\":0,\"fLineColor\":1,\"fLineStyle\":1,\"fLineWidth\":2,\"fLimitFactorSize\":3,\"fOriginSize\":0.0368000008165836},{\"_typename\":\"TLatex\",\"fUniqueID\":0,\"fBits\":50331648,\"fName\":\"\",\"fTitle\":\"Entries = 69891  \",\"fTextAngle\":0,\"fTextSize\":0,\"fTextAlign\":0,\"fTextColor\":0,\"fTextFont\":0,\"fX\":0,\"fY\":0,\"fLineColor\":1,\"fLineStyle\":1,\"fLineWidth\":2,\"fLimitFactorSize\":3,\"fOriginSize\":0.04},{\"_typename\":\"TLatex\",\"fUniqueID\":0,\"fBits\":50331648,\"fName\":\"\",\"fTitle\":\"Mean x = -2.312\",\"fTextAngle\":0,\"fTextSize\":0,\"fTextAlign\":0,\"fTextColor\":0,\"fTextFont\":0,\"fX\":0,\"fY\":0,\"fLineColor\":1,\"fLineStyle\":1,\"fLineWidth\":2,\"fLimitFactorSize\":3,\"fOriginSize\":0.04},{\"_typename\":\"TLatex\",\"fUniqueID\":0,\"fBits\":50331648,\"fName\":\"\",\"fTitle\":\"Mean y = 0.7741\",\"fTextAngle\":0,\"fTextSize\":0,\"fTextAlign\":0,\"fTextColor\":0,\"fTextFont\":0,\"fX\":0,\"fY\":0,\"fLineColor\":1,\"fLineStyle\":1,\"fLineWidth\":2,\"fLimitFactorSize\":3,\"fOriginSize\":0.04},{\"_typename\":\"TLatex\",\"fUniqueID\":0,\"fBits\":50331648,\"fName\":\"\",\"fTitle\":\"Std Dev x =  4.782\",\"fTextAngle\":0,\"fTextSize\":0,\"fTextAlign\":0,\"fTextColor\":0,\"fTextFont\":0,\"fX\":0,\"fY\":0,\"fLineColor\":1,\"fLineStyle\":1,\"fLineWidth\":2,\"fLimitFactorSize\":3,\"fOriginSize\":0.04},{\"_typename\":\"TLatex\",\"fUniqueID\":0,\"fBits\":50331648,\"fName\":\"\",\"fTitle\":\"Std Dev y = 0.3433\",\"fTextAngle\":0,\"fTextSize\":0,\"fTextAlign\":0,\"fTextColor\":0,\"fTextFont\":0,\"fX\":0,\"fY\":0,\"fLineColor\":1,\"fLineStyle\":1,\"fLineWidth\":2,\"fLimitFactorSize\":3,\"fOriginSize\":0.04}],\"opt\":[\"\",\"\",\"\",\"\",\"\",\"\"]},\"fOptFit\":0,\"fOptStat\":1111,\"fFitFormat\":\"5.4g\",\"fStatFormat\":\"6.4g\",\"fParent\":{\"$ref\":63}}],\"opt\":[\"brNDC\"]},\"fBufferSize\":0,\"fBuffer\":[],\"fBinStatErrOpt\":0,\"fStatOverflows\":2,\"fScalefactor\":1,\"fTsumwy\":54104.3283446804,\"fTsumwy2\":50119.5053790746,\"fTsumwxy\":-73088.5748296144,\"fArray\":[0,0,0,0,0,0,0,0,0,0,0,0,0,0,0,0,0,0,0,0,0,0,0,0,0,0,0,0,0,0,0,0,0,0,0,0,0,0,0,0,0,0,0,0,0,0,0,0,0,0,0,0,0,0,0,0,0,0,0,0,0,0,0,0,0,0,0,0,0,0,0,0,0,0,0,0,0,0,0,0,0,0,0,0,0,0,0,0,0,0,0,0,0,0,0,0,0,0,0,0,0,0,0,0,0,0,0,0,0,0,0,0,0,0,0,0,0,0,0,0,0,0,0,0,0,0,0,0,0,0,0,0,0,0,0,0,0,0,0,0,0,0,0,0,0,0,0,0,0,0,0,0,0,0,0,0,0,0,0,0,0,0,0,0,0,0,0,0,0,0,0,0,0,0,0,0,0,0,0,0,0,0,0,0,0,0,0,0,0,0,0,0,0,0,0,0,0,0,0,0,0,0,0,0,0,0,0,1,0,0,0,0,0,0,0,0,0,0,0,0,0,0,0,0,0,0,0,0,0,0,0,0,0,0,0,1,0,0,0,0,0,0,0,0,0,1,0,0,0,0,0,0,0,0,0,0,0,0,0,0,0,0,0,0,0,0,0,0,0,0,0,0,0,0,0,0,0,0,0,0,0,0,0,0,0,0,0,0,0,0,0,0,0,0,0,0,0,0,0,0,0,0,0,0,0,0,0,0,5,3,1,0,0,2,1,0,0,1,1,1,0,4,0,0,0,0,0,1,1,0,1,0,0,0,0,1,0,0,0,0,0,1,1,0,0,3,1,0,0,0,0,0,0,2,1,0,1,0,0,0,0,1,0,2,0,1,0,0,0,2,0,0,1,0,1,0,1,0,2,0,2,0,1,0,0,1,0,0,0,0,0,0,0,1,0,0,0,0,0,1,0,1,0,0,1,1,0,0,0,2,4,1,1,1,5,3,2,1,5,1,3,5,0,1,5,3,0,3,2,4,1,4,0,2,4,5,2,1,1,2,3,0,1,2,0,0,0,2,2,7,5,1,0,1,3,2,7,2,1,1,3,4,2,3,4,3,2,3,3,2,7,2,0,2,4,0,0,1,1,0,2,0,2,0,1,3,3,1,1,2,2,0,0,0,0,1,0,0,0,1,0,0,1,0,0,1,0,0,0,0,0,6,2,3,1,2,5,3,2,3,3,1,4,2,1,6,4,5,2,3,2,1,4,0,0,2,2,0,4,6,2,5,3,2,5,0,1,5,3,2,2,2,5,0,4,4,3,2,3,5,3,2,2,4,2,6,1,7,4,1,2,3,3,4,3,1,0,6,3,2,2,1,3,3,1,2,2,3,0,4,4,1,2,1,3,0,5,0,1,1,3,2,4,1,0,4,1,1,0,0,2,0,0,10,4,7,14,9,6,6,8,8,5,7,6,4,2,7,6,6,7,4,2,6,8,6,4,1,3,5,2,2,0,0,2,4,5,3,2,2,7,2,3,1,1,2,2,2,1,2,0,1,2,4,2,3,3,3,2,5,6,3,3,2,2,0,1,9,5,4,0,1,3,2,3,5,4,1,1,5,1,1,4,2,1,1,3,1,1,1,0,1,0,4,1,2,2,6,5,3,2,4,4,0,0,16,8,16,6,7,6,11,15,8,11,18,4,6,5,10,8,15,5,10,9,11,8,3,6,1,5,4,2,9,7,2,2,2,3,1,5,5,2,4,4,3,3,7,1,1,2,5,3,4,2,3,2,2,0,1,2,0,4,4,0,1,0,1,0,1,1,2,1,3,0,1,0,2,1,2,0,0,0,3,5,5,5,1,1,3,7,2,3,2,0,0,3,0,2,1,0,2,1,1,1,0,0,27,16,25,15,15,17,14,11,11,9,10,7,8,10,13,8,12,12,11,12,5,7,8,14,10,13,6,12,2,4,7,12,10,3,5,4,5,3,5,4,2,3,7,5,5,3,2,5,5,0,5,1,3,3,5,2,2,0,6,4,1,0,2,1,3,1,2,2,1,1,0,1,1,0,0,1,0,0,1,1,2,2,0,2,2,4,1,5,1,2,0,5,2,3,6,3,1,5,3,3,0,0,141,111,84,67,46,44,49,23,23,22,17,12,13,17,11,14,10,6,6,11,4,9,7,16,7,11,13,5,8,7,7,3,0,8,4,4,7,9,5,7,10,3,4,3,1,1,4,3,3,4,5,5,0,3,4,6,3,2,2,1,0,4,2,2,5,1,4,1,4,1,4,1,1,1,2,3,3,2,2,0,1,2,3,1,0,0,2,1,3,2,2,3,0,2,3,0,3,0,2,3,0,0,299,285,293,251,226,210,184,153,106,86,74,50,45,40,21,18,15,12,20,16,8,5,10,6,7,11,8,4,5,8,7,9,8,8,7,4,6,2,9,3,14,2,5,7,6,1,7,6,5,2,5,4,5,3,3,2,4,2,4,0,3,3,0,0,2,1,2,0,0,2,4,1,1,1,2,2,2,3,0,6,3,2,4,0,2,4,1,1,1,2,0,0,0,0,0,0,2,0,2,1,0,0,130,153,228,234,271,336,335,282,310,261,263,219,200,142,125,94,57,45,36,32,19,18,11,14,14,9,9,10,5,10,7,5,6,5,11,8,5,2,6,5,4,8,6,8,3,6,4,4,9,3,7,1,2,5,5,7,3,4,3,5,4,2,3,4,1,1,0,2,2,1,2,3,5,1,2,1,0,2,1,1,1,2,0,1,2,3,1,1,0,3,2,4,1,2,1,2,4,1,3,2,0,0,12,27,18,41,57,88,118,166,200,255,311,336,322,383,343,308,228,201,141,105,70,45,43,27,18,14,18,15,14,18,17,8,13,5,6,11,5,11,1,6,3,4,8,7,5,3,4,8,7,1,6,7,4,7,3,4,6,5,4,3,1,5,3,1,1,4,0,0,0,3,2,0,0,2,1,2,6,3,1,2,5,2,0,3,2,1,2,1,1,5,4,1,3,2,3,3,4,3,8,3,0,0,8,7,10,13,13,12,10,22,21,35,53,92,158,205,258,323,356,342,359,310,279,198,171,95,68,36,42,18,22,11,14,14,10,9,5,9,10,7,9,6,2,4,4,8,5,2,3,6,3,2,8,4,3,3,6,5,3,5,3,3,4,1,4,0,7,5,2,2,2,0,3,0,0,3,0,1,4,3,3,1,0,1,2,6,4,1,3,4,4,2,3,3,3,4,6,7,7,8,9,7,0,0,0,6,2,5,5,5,8,9,6,16,16,20,22,18,44,77,129,195,286,281,346,337,366,322,275,194,130,82,47,40,29,19,19,13,6,17,12,6,6,9,8,1,8,7,5,7,6,4,4,5,6,6,5,6,9,1,2,2,7,7,7,8,2,4,3,6,2,1,4,3,3,5,3,4,0,5,3,0,1,3,1,1,3,2,2,1,1,0,3,6,3,3,6,7,6,4,12,22,23,21,0,0,2,3,1,3,5,6,5,3,6,2,8,7,5,10,11,16,12,30,45,93,141,218,303,341,384,331,302,265,215,147,85,37,37,31,27,25,18,17,8,13,6,11,5,2,14,6,6,8,3,4,5,8,5,5,5,11,6,4,3,4,4,4,4,8,6,3,5,3,3,0,4,3,3,1,1,3,3,3,2,0,5,3,4,1,2,2,0,4,4,5,9,6,7,18,21,26,46,69,90,86,0,0,0,2,4,1,5,5,4,6,4,5,3,6,2,4,4,12,17,14,8,12,21,43,88,144,238,314,342,380,290,255,226,143,98,50,18,18,21,18,18,13,10,10,5,9,7,7,10,9,9,7,1,6,1,5,3,5,9,4,5,5,1,5,3,2,3,4,4,4,1,4,8,4,4,1,4,3,5,5,1,3,1,2,2,2,3,4,1,13,11,9,21,40,58,54,85,97,97,118,106,93,0,0,0,0,0,5,0,0,1,4,9,5,5,3,3,5,2,3,10,9,8,16,13,12,15,21,60,131,202,289,297,290,314,274,264,169,90,53,27,20,15,11,17,16,9,12,11,5,11,5,9,12,3,7,4,2,1,4,3,2,3,5,3,8,2,1,3,4,3,9,4,6,4,5,1,4,3,3,3,6,2,9,4,6,1,3,5,7,6,27,38,44,63,85,89,92,88,73,84,57,35,22,0,0,1,3,2,0,1,1,2,2,1,2,7,2,1,3,4,6,3,10,9,14,11,8,14,11,8,21,35,104,168,239,272,301,272,295,258,149,87,42,15,17,18,10,12,7,12,9,6,3,3,3,3,10,8,5,5,3,5,3,3,5,8,4,4,3,4,4,1,5,1,5,3,5,1,1,6,0,2,3,4,7,8,3,7,11,20,25,22,69,74,84,94,94,71,55,44,23,18,12,9,9,0,0,2,2,1,1,5,2,3,1,0,5,7,2,2,4,7,3,3,5,1,4,4,5,13,13,12,19,11,24,50,108,213,263,284,295,241,216,188,120,52,32,19,15,18,13,13,6,13,4,5,5,4,5,6,8,6,7,6,5,3,4,3,4,5,3,3,8,10,3,3,4,6,6,3,3,3,3,3,3,6,8,8,23,34,30,61,63,74,85,93,67,46,18,15,20,11,7,11,3,6,2,0,0,0,1,0,1,1,0,2,1,1,0,0,2,2,3,2,5,5,4,3,1,3,5,10,11,15,6,11,13,12,23,62,154,212,238,285,258,248,214,136,84,32,18,16,12,17,11,13,10,11,9,4,10,5,7,6,6,9,8,4,5,1,3,4,2,7,3,6,4,5,1,0,5,2,2,8,7,3,14,11,18,22,61,67,91,100,74,70,50,28,25,5,4,8,7,8,2,6,3,1,1,0,0,0,0,0,1,1,1,1,2,3,0,0,2,1,1,2,2,4,2,2,4,2,0,2,8,8,8,8,9,12,5,14,32,98,189,259,256,261,246,243,170,98,41,20,11,10,13,16,13,14,14,8,4,11,3,2,4,2,6,7,5,4,1,4,4,2,5,6,4,7,3,5,2,7,10,3,6,18,17,52,48,65,90,85,77,59,27,20,12,8,6,6,1,4,3,2,1,1,4,4,0,0,0,0,1,0,2,1,1,0,2,0,1,1,0,0,1,3,1,3,3,2,4,3,6,0,6,6,3,3,2,10,6,10,6,30,91,150,220,221,217,217,231,155,107,33,16,12,15,15,17,11,14,11,11,4,6,6,8,6,6,6,2,3,4,1,3,2,8,2,3,5,1,2,4,13,7,16,32,34,69,62,72,52,75,54,30,16,8,9,11,5,3,6,7,7,7,2,1,3,3,0,3,0,0,0,2,0,0,0,2,1,2,4,3,3,2,0,0,1,2,5,6,1,3,2,3,1,0,2,4,5,8,8,8,9,4,10,27,63,172,185,176,226,229,197,152,99,38,13,18,8,17,13,9,13,10,10,0,5,9,3,12,4,5,6,4,0,1,4,1,5,3,5,10,3,4,12,15,44,62,74,83,78,52,47,21,14,4,5,8,3,6,7,4,4,1,1,0,0,1,4,1,3,4,0,0,0,2,0,0,1,0,0,2,1,2,1,2,2,1,0,1,3,3,1,1,3,4,0,2,1,3,9,1,3,4,6,9,4,8,20,75,139,172,201,225,221,171,159,62,34,9,13,7,10,11,9,9,10,1,1,7,3,5,6,4,0,4,3,3,3,3,3,4,5,8,7,18,25,62,75,62,96,62,45,23,17,6,7,3,4,4,7,5,5,1,0,1,3,0,1,2,0,2,0,2,0,0,0,0,0,0,0,0,0,1,2,2,2,0,2,0,2,0,1,4,0,0,2,0,3,1,2,1,1,2,6,3,5,2,7,3,6,16,80,158,176,192,193,174,168,161,49,28,14,8,20,10,9,12,8,4,3,1,2,2,1,2,4,4,4,7,3,2,6,5,4,16,23,53,54,83,63,71,49,34,17,13,6,4,8,6,8,2,2,3,1,1,4,0,7,1,2,2,2,0,0,0,0,0,0,0,0,1,1,0,0,0,0,0,0,3,3,0,0,2,0,0,1,3,2,3,2,0,1,1,0,1,3,4,1,4,1,2,5,6,30,80,146,167,178,186,183,133,87,50,14,9,8,10,11,12,6,5,12,3,0,4,1,5,4,8,6,3,2,4,5,8,12,30,50,79,60,68,66,24,9,8,6,7,4,2,4,6,5,2,2,4,1,2,2,5,1,5,1,0,1,0,2,1,0,0,0,0,0,0,0,0,0,0,1,2,0,1,1,1,1,1,0,0,0,2,1,2,1,0,1,1,0,2,3,2,4,6,2,3,4,8,6,40,98,140,137,175,142,139,131,70,22,18,13,7,9,10,9,3,5,3,1,3,9,3,5,4,4,4,1,6,8,19,31,63,81,62,64,30,29,9,13,5,6,3,6,6,6,2,2,1,2,1,0,1,0,0,1,0,1,1,0,0,1,0,0,0,0,0,0,0,1,0,0,1,0,0,1,0,0,0,0,0,0,0,0,1,3,6,0,3,1,0,1,3,4,1,3,0,2,4,4,7,3,12,57,122,149,131,159,127,144,105,33,16,8,14,14,8,8,14,5,10,2,6,7,5,0,2,4,7,9,9,24,39,52,77,54,58,33,13,6,2,6,3,2,11,3,8,5,1,0,0,3,1,2,4,2,3,1,1,1,0,3,0,1,0,0,0,0,0,0,0,0,0,0,0,0,0,0,1,1,3,3,1,0,0,0,1,0,2,2,1,1,2,0,0,0,3,5,1,5,7,3,5,5,8,30,68,103,118,109,116,121,94,52,17,9,5,10,5,4,7,4,5,2,3,3,0,3,3,2,12,16,21,37,48,47,69,33,26,14,9,4,4,3,2,8,8,3,4,0,1,1,1,6,1,0,0,1,1,2,0,1,0,1,3,1,3,0,0,1,1,2,1,1,0,0,1,0,0,1,2,0,0,0,1,0,0,0,1,0,2,3,1,4,2,1,1,1,3,0,4,2,3,1,2,5,1,4,47,90,120,129,108,103,113,65,20,6,10,8,6,5,3,2,1,6,3,6,6,0,4,8,11,16,50,51,39,48,40,20,16,3,3,2,4,6,5,3,3,5,4,1,2,0,1,1,3,3,0,2,0,0,0,1,2,1,2,2,0,0,0,0,0,0,0,0,0,0,0,0,0,0,0,1,1,0,0,0,0,0,2,1,1,2,1,1,0,0,0,0,1,3,0,2,2,2,2,2,5,5,21,63,73,97,106,101,95,76,44,12,9,11,7,9,4,2,8,4,3,2,1,6,6,8,23,24,40,47,47,25,23,16,5,4,5,4,5,5,1,5,1,0,2,1,2,0,0,0,0,3,2,1,0,2,0,1,2,1,0,1,0,0,0,0,0,0,0,0,0,0,0,0,0,1,0,1,0,2,1,0,0,0,0,4,1,1,1,0,0,2,0,0,0,2,2,0,1,2,0,1,3,0,15,40,63,87,83,95,78,77,43,16,6,1,10,7,9,7,3,5,5,3,1,1,14,21,35,33,36,44,44,24,17,7,3,4,3,4,1,2,2,1,1,1,2,3,4,3,1,2,0,0,0,2,2,1,2,0,3,2,0,0,1,0,0,0,0,0,0,1,0,0,0,0,0,0,1,0,1,0,0,0,0,0,0,0,0,0,2,0,0,3,2,1,0,2,0,1,3,1,2,1,1,1,8,25,58,92,69,75,62,57,57,28,7,4,5,5,5,3,4,4,3,8,5,4,18,27,30,34,43,40,23,9,6,4,3,3,2,3,5,1,4,2,1,1,1,0,1,5,0,1,1,1,0,1,2,1,0,1,0,1,0,1,0,0,0,0,0,0,0,0,0,0,0,1,0,0,0,0,0,0,0,0,0,0,0,0,0,0,0,0,1,1,3,0,0,0,1,1,0,0,3,2,0,0,3,13,42,47,63,57,69,45,31,24,12,3,5,2,5,2,2,1,1,6,4,11,12,20,27,37,32,19,6,2,2,4,2,2,0,1,3,0,1,0,1,2,4,1,1,2,1,0,1,0,0,0,1,1,0,0,2,1,1,1,1,0,0,0,0,0,0,0,0,0,0,0,0,0,0,0,0,0,1,1,0,0,0,0,2,0,1,0,1,1,0,2,0,0,0,1,1,2,0,1,2,0,2,9,23,40,39,54,41,60,49,26,9,5,3,4,5,3,4,4,2,1,6,9,22,24,24,33,17,13,7,0,2,1,1,4,3,2,3,1,3,0,1,1,1,0,1,2,2,1,2,1,0,2,0,0,2,0,3,0,0,0,0,0,0,0,0,0,0,0,0,0,0,1,1,0,0,0,0,0,0,0,0,0,0,0,1,0,0,1,0,0,0,0,0,0,1,0,0,1,1,4,1,0,0,2,12,19,48,32,39,41,32,15,8,7,8,1,5,1,3,4,4,1,10,12,25,27,22,21,8,6,1,1,3,3,5,3,1,2,1,1,0,3,2,1,0,0,1,1,1,1,0,2,1,1,0,1,0,1,1,1,0,0,1,0,0,0,0,0,0,1,0,0,0,0,0,0,0,0,0,0,0,0,0,0,1,0,0,0,0,1,0,0,0,1,2,0,0,0,0,1,1,1,0,1,0,2,9,24,22,31,25,22,28,22,11,4,1,4,0,2,2,6,1,7,11,20,19,35,6,8,5,4,1,0,1,0,0,3,1,0,0,0,4,1,0,3,1,0,1,0,1,0,0,2,0,0,0,0,0,1,0,0,1,2,2,0,0,0,0,0,0,0,0,0,0,0,0,0,0,0,0,0,0,0,0,0,1,0,0,0,0,0,0,0,0,0,1,0,0,1,1,0,1,0,1,0,0,0,1,21,23,35,23,27,20,16,12,2,2,3,0,0,2,0,1,12,8,15,14,13,25,6,4,1,1,1,2,1,1,3,1,0,1,0,2,1,0,0,1,0,0,0,1,2,0,2,0,1,0,2,0,1,1,0,0,0,1,0,0,0,0,0,0,0,0,0,0,0,0,0,0,0,0,1,0,0,0,1,0,1,0,0,0,0,1,0,0,0,0,0,0,0,2,0,0,0,0,0,0,2,2,8,14,12,23,27,19,14,4,4,3,1,1,0,2,3,6,9,9,7,13,13,8,6,2,0,0,2,1,1,2,1,1,2,0,0,2,0,1,1,0,1,2,1,0,0,1,1,1,1,1,0,1,1,1,0,1,0,1,0,0,0,0,0,0,0,0,0,0,0,0,0,1,0,0,0,0,0,0,0,0,0,0,0,1,0,1,0,0,1,0,0,0,0,1,2,0,1,1,1,1,1,0,10,15,11,12,13,19,21,3,4,1,3,5,2,2,2,4,7,6,11,13,13,7,2,0,0,0,1,0,2,1,1,0,0,0,0,0,0,0,2,1,0,1,1,2,2,0,1,2,0,1,0,2,1,0,0,1,1,0,0,0,0,0,0,0,0,0,0,0,0,0,0,0,0,0,0,1,0,0,1,0,0,1,0,0,0,0,0,0,0,0,0,0,0,0,1,1,1,0,1,0,0,4,7,15,11,21,17,19,11,7,2,1,1,2,1,2,4,11,11,6,10,6,5,9,0,2,0,0,0,2,0,0,1,1,0,0,0,0,0,0,0,0,2,0,0,0,1,0,0,0,2,0,0,0,1,0,1,1,0,0,0,0,0,0,0,0,0,0,0,0,0,0,0,0,0,0,0,0,0,0,0,0,1,0,1,0,0,0,0,1,0,0,0,0,0,0,0,3,1,1,3,0,0,1,2,8,8,12,9,10,9,7,5,2,1,0,1,2,7,8,5,4,13,3,2,1,1,2,4,0,1,0,0,2,1,0,0,0,1,0,0,1,1,0,0,0,1,1,1,0,0,0,1,0,0,0,1,0,0,1,3,0,0,0,0,0,0,0,0,0,0,0,0,0,0,0,0,0,0,0,0,0,0,0,0,0,0,0,0,0,0,0,0,0,1,0,0,0,0,0,1,1,0,0,1,0,3,15,9,6,11,8,12,8,4,1,1,0,1,1,7,17,8,7,6,2,3,3,0,2,0,1,0,1,0,0,0,1,0,0,0,1,1,0,0,0,0,2,0,2,0,0,0,0,0,0,0,0,0,2,1,1,0,0,0,0,0,0,0,0,0,0,0,0,0,0,0,0,0,0,0,0,0,1,0,1,0,0,0,0,0,0,0,1,0,0,0,0,0,1,0,0,0,1,1,2,0,0,1,5,7,7,12,10,11,8,5,5,4,2,0,3,7,3,15,9,6,6,1,0,2,1,3,1,0,0,0,1,0,0,0,0,0,1,1,0,0,0,0,1,0,0,0,0,0,0,0,0,0,0,0,0,0,0,0,0,0,0,0,0,0,0,0,0,0,0,0,0,0,0,0,0,0,0,0,0,0,0,0,0,0,0,0,0,1,0,0,0,0,0,0,0,1,0,1,0,2,0,0,0,1,6,3,7,9,9,6,7,10,0,1,0,6,4,8,3,7,6,2,9,0,0,0,0,0,2,0,4,0,0,1,0,0,0,1,0,1,1,1,0,0,1,0,0,0,0,0,1,0,1,1,1,0,1,0,0,0,0,0,0,0,0,0,0,0,0,0,0,0,0,0,0,0,0,2,0,0,0,0,0,0,1,0,0,0,1,0,0,2,1,0,0,1,0,0,0,3,0,0,0,1,0,0,3,8,8,3,10,11,9,4,4,1,0,2,4,1,0,4,3,5,1,0,0,1,0,2,1,2,1,0,1,0,0,0,1,0,1,0,1,0,0,0,0,0,0,0,1,0,0,0,0,0,1,0,0,0,1,0,2,0,0,0,0,0,0,0,0,0,0,0,0,0,0,0,0,0,0,0,0,0,0,0,0,0,0,0,0,0,0,2,0,1,0,0,0,0,0,0,0,0,0,1,1,0,3,6,4,6,5,6,12,4,0,0,1,2,6,4,2,3,2,3,1,0,0,1,0,0,0,1,0,1,0,3,2,0,0,0,1,1,1,0,0,0,0,0,0,0,3,0,0,0,0,1,0,0,0,0,0,0,0,0,0,0,0,0,0,0,0,0,0,0,0,0,0,0,0,0,0,0,0,0,0,0,0,0,0,0,0,1,0,0,0,0,0,0,0,0,0,0,1,0,1,0,0,0,3,7,3,5,7,6,7,1,1,0,1,2,3,3,2,1,1,0,0,0,0,2,1,1,0,0,1,0,2,0,0,1,1,1,0,0,0,0,0,0,1,0,0,0,1,1,0,0,0,0,1,0,1,0,0,0,0,0,0,0,0,0,0,0,0,0,0,0,0,0,0,0,0,0,0,0,0,0,0,1,0,0,0,1,0,0,0,1,0,0,0,0,0,0,1,0,0,0,0,1,0,0,1,3,8,6,3,6,4,3,4,1,0,3,1,1,4,2,2,2,0,2,0,1,2,0,0,0,0,0,0,0,1,0,0,0,0,0,0,0,0,0,0,0,3,0,1,0,0,0,1,1,0,0,0,0,0,0,0,0,0,0,0,0,0,0,0,0,0,0,2,0,0,0,0,0,0,0,0,0,0,0,0,0,0,0,1,2,0,0,0,0,0,0,0,0,0,0,0,3,0,0,0,0,2,9,8,6,5,3,3,7,0,2,0,2,1,8,0,0,1,2,1,0,2,0,0,0,0,0,0,0,0,1,0,1,0,0,1,1,1,0,0,0,0,0,0,0,0,1,1,0,0,1,0,0,0,1,0,0,0,0,0,0,0,0,0,0,0,0,0,0,0,0,0,0,0,0,0,0,0,0,0,0,0,0,0,0,1,0,0,2,0,0,0,0,0,0,1,1,0,0,1,0,0,0,1,5,3,7,4,6,1,2,0,0,3,2,2,1,2,1,1,1,0,1,1,0,0,0,0,1,0,0,2,0,0,0,0,0,0,1,0,0,0,0,0,0,0,0,0,0,0,0,0,0,0,0,0,0,0,1,0,0,0,0,0,0,0,0,0,0,0,0,0,0,0,0,0,0,0,1,0,0,0,0,0,0,0,0,0,0,1,0,0,0,0,0,0,0,0,1,0,0,1,0,0,0,0,2,5,3,3,8,1,3,1,3,0,2,2,3,3,3,1,0,0,0,0,1,2,0,2,0,1,0,0,0,0,0,0,0,1,0,0,0,0,0,0,2,0,1,0,1,0,0,0,0,0,0,0,1,0,1,0,0,0,0,0,0,0,0,0,0,0,0,0,0,0,0,0,0,0,0,0,0,0,0,0,0,0,0,0,0,0,0,0,0,0,0,0,0,0,0,0,1,0,0,0,0,2,4,5,1,1,3,1,3,0,3,0,3,2,3,0,1,1,1,0,0,0,0,0,1,1,0,0,0,1,0,0,0,0,0,1,1,0,0,1,0,0,1,1,1,0,1,0,0,0,0,0,0,0,1,0,0,0,0,0,0,0,0,0,0,0,0,0,0,0,0,0,0,0,0,0,2,0,0,0,0,0,0,0,0,0,0,1,0,1,0,0,0,0,0,0,1,0,1,0,0,0,0,0,2,3,1,2,1,0,0,0,0,0,2,1,0,1,1,0,0,1,1,0,0,1,0,1,0,0,0,1,0,0,0,0,1,0,0,2,0,0,0,0,0,0,0,0,0,0,1,0,0,0,0,0,0,0,0,0,0,0,0,0,0,0,0,0,0,0,0,0,0,0,0,0,0,0,0,0,0,0,0,0,0,0,0,1,0,0,1,0,0,0,0,0,1,0,0,0,0,1,0,0,0,0,0,1,2,2,8,5,1,0,0,0,4,1,0,2,1,1,0,1,0,0,2,0,0,0,1,0,0,0,0,0,0,0,0,0,0,0,0,1,1,0,1,0,0,1,1,0,0,0,0,0,1,0,0,0,0,0,0,0,0,0,0,0,0,0,0,0,0,0,0,0,0,0,0,0,0,0,0,0,0,0,0,0,0,0,0,2,0,0,0,0,0,0,0,2,0,0,0,0,1,0,0,0,1,2,1,1,0,0,1,4,0,1,2,2,1,1,1,2,0,0,0,0,2,0,0,0,1,0,1,1,0,0,0,0,1,0,0,0,0,0,0,0,0,0,0,0,0,0,0,0,0,0,0,0,0,0,0,0,0,0,0,0,0,0,0,0,0,0,0,0,0,0,0,0,0,0,0,0,0,0,0,0,0,0,0,0,0,0,0,0,0,0,0,0,0,0,0,0,0,1,0,0,0,0,0,1,1,1,1,2,0,1,2,0,0,0,2,0,0,0,0,1,0,0,0,0,0,0,0,0,0,0,0,0,0,0,0,0,0,1,0,0,0,0,0,0,0,0,0,0,0,0,1,0,1,0,0,0,0,0,0,0,0,0,0,0,0,0,0,0,0,0,0,0,0,0,0,0,0,0,0,0,2,0,0,0,0,0,0,0,0,0,0,0,0,0,0,0,0,0,0,0,0,0,0,1,0,1,2,1,0,4,2,0,2,0,1,0,1,4,0,0,1,0,1,0,1,0,0,0,0,0,0,0,0,0,0,0,1,0,0,0,0,0,0,1,0,0,0,0,0,1,0,0,0,0,0,1,0,0,0,0,0,0,0,0,0,0,0,0,0,0,0,0,0,0,0,0,0,0,0,0,0,0,0,0,0,0,0,0,0,0,0,0,0,0,0,0,0,0,0,0,1,0,0,0,0,1,0,1,1,0,0,2,1,0,0,0,0,0,2,0,0,0,0,0,0,0,0,0,0,0,0,1,1,0,0,0,0,1,0,0,0,0,1,0,0,0,0,0,0,0,0,0,2,1,0,0,0,1,0,0,1,0,0,0,0,0,0,0,0,0,0,0,0,2,0,0,0,0,0,0,0,0,0,0,0,0,0,0,0,0,0,0,0,0,1,0,0,0,0,0,0,1,0,0,0,0,1,0,0,0,1,0,2,1,0,0,0,2,1,1,0,0,0,0,0,0,0,1,0,1,1,1,0,1,0,1,0,1,0,1,0,0,0,0,0,0,0,0,0,0,0,0,0,0,0,0,0,0,0,0,0,0,0,0,0,0,0,0,0,0,0,0,0,0,0,0,0,0,0,0,0,0,0,0,0,0,0,0,0,0,0,0,1,0,0,0,0,0,0,0,0,0,0,0,0,0,0,0,0,0,0,3,0,1,1,2,0,2,0,1,2,1,1,0,0,0,0,0,0,0,0,0,0,0,0,0,1,0,0,1,0,1,0,0,0,0,0,0,0,0,0,0,0,0,0,0,0,0,0,0,0,0,0,0,0,0,0,0,0,0,0,0,0,0,0,0,0,0,0,0,0,0,0,0,0,0,0,0,0,0,0,0,0,0,0,0,0,0,1,0,0,0,0,0,0,0,0,0,0,0,0,0,0,2,0,0,0,1,0,1,0,0,1,0,0,0,0,0,1,0,0,0,0,1,0,0,0,0,0,0,0,0,0,0,0,1,0,0,0,0,0,0,1,0,0,0,0,0,0,0,0,0,1,0,0,0,0,0,0,0,0,0,0,0,0,0,0,0,0,0,0,0,0,0,0,0,0,0,0,0,0,0,0,0,0,0,1,0,0,0,0,0,0,0,0,0,0,0,0,1,1,0,0,0,0,0,0,0,1,0,1,0,1,3,0,1,0,0,0,0,1,0,0,0,0,1,0,0,0,0,0,0,1,0,0,1,0,0,0,0,1,0,2,1,0,0,0,0,0,0,0,0,0,0,0,0,0,0,0,0,0,0,0,0,0,0,0,0,0,0,0,0,0,0,0,0,1,0,0,0,0,0,0,0,0,0,0,0,0,0,0,0,0,0,0,0,0,0,0,0,0,0,0,0,0,0,0,0,0,1,1,3,1,1,0,0,1,0,0,0,0,0,0,0,0,0,0,0,0,0,0,0,0,0,1,0,0,0,0,0,0,0,0,0,0,0,0,0,0,0,0,0,0,0,0,0,0,0,0,0,0,0,0,0,0,0,0,0,0,0,0,0,0,0,0,0,0,0,0,0,0,0,0,0,0,0,0,0,0,0,0,0,0,0,0,0,0,0,0,0,0,0,1,0,0,0,0,0,0,0,0,1,1,0,0,0,0,1,0,0,0,0,0,1,0,0,1,0,0,0,0,0,1,0,0,0,0,0,0,0,0,0,0,0,1,0,0,0,0,0,0,0,0,1,0,1,0,0,0,0,0,0,0,0,0,0,0,0,0,0,0,0,0,0,0,0,0,0,0,0,0,0,0,0,0,0,0,0,0,0,0,0,0,0,0,0,0,0,0,0,0,0,0,0,0,0,0,0,0,0,0,1,1,0,1,1,0,0,2,1,0,0,1,0,0,0,0,0,0,0,0,1,0,0,0,0,0,0,0,0,0,0,1,0,0,0,0,0,0,0,0,0,0,0,0,0,0,0,0,0,0,0,0,1,0,0,0,0,0,0,0,0,0,0,0,0,0,0,0,0,0,0,0,0,0,0,0,0,0,0,0,0,0,0,0,0,1,0,0,0,0,0,0,0,0,0,0,0,0,0,0,0,0,0,3,0,2,0,2,2,0,1,0,0,0,0,0,0,0,1,0,1,0,0,0,0,0,0,1,0,0,0,0,0,0,0,0,0,0,0,0,0,0,0,0,0,0,0,0,0,0,0,0,0,0,0,0,0,0,0,0,0,0,0,0,0,0,0,0,0,0,0,0,0,0,0,0,0,0,0,0,1,0,0,0,0,0,0,0,0,0,0,0,0,0,0,0,0,0,0,0,0,0,0,1,0,0,0,1,0,0,0,0,0,0,0,0,0,0,0,1,0,0,0,0,0,1,0,0,0,0,0,0,0,0,0,0,0,0,0,0,0,1,0,0,0,0,0,0,1,0,0,0,0,0,1,1,0,0,0,0,0,0,0,0,0,0,0,0,0,0,0,0,0,0,0,0,0,0,0,0,0,0,0,0,0,0,0,0,0,0,0,0,0,0,0,0,0,0,0,0,0,0,0,1,0,0,0,1,0,0,0,0,0,2,0,0,1,1,0,0,0,0,0,0,0,0,0,0,0,0,0,0,0,0,0,0,0,0,0,0,0,0,0,0,0,0,0,0,0,0,0,0,0,0,0,0,0,0,0,0,0,0,0,0,0,0,0,0,0,0,0,0,0,0,0,0,0,0,0,0,0,0,0,0,0,0,0,0,0,0,0,0,0,0,0,0,0,0,0,2,0,0,0,0,0,0,0,0,1,1,0,0,0,0,1,0,0,0,0,0,0,0,0,0,0,1,0,0,0,0,0,0,0,0,0,1,0,0,0,0,0,0,0,0,0,0,0,0,0,1,0,0,0,0,0,0,0,0,0,0,0,0,0,0,0,0,0,0,0,0,0,0,0,0,0,0,0,0,0,0,0,0,0,0,0,0,0,0,0,0,0,0,0,0,0,0,1,0,0,0,0,0,0,0,0,0,0,0,0,1,0,0,0,0,0,1,0,0,0,0,0,0,0,0,0,0,0,1,0,0,0,0,0,0,0,0,0,0,0,0,0,2,0,0,1,0,0,0,0,1,0,0,0,0,0,1,0,0,0,0,1,0,0,0,0,0,0,0,0,0,0,0,0,0,0,0,0,0,0,0,0,0,0,0,0,1,0,0,0,0,0,0,0,0,0,0,0,0,0,0,0,0,0,0,0,0,1,0,0,0,0,0,1,0,2,2,0,0,0,0,0,0,0,0,1,1,0,0,0,0,0,0,0,0,0,0,0,0,0,0,0,0,0,1,0,0,1,0,0,0,0,0,0,0,0,0,0,0,0,0,0,0,0,0,1,0,0,0,0,0,0,0,0,0,0,0,0,0,0,0,0,0,0,0,0,0,0,0,0,0,0,0,0,0,0,0,0,0,0,0,0,0,0,0,0,0,0,0,0,0,0,0,0,2,0,0,2,0,0,0,0,1,0,2,0,0,0,0,0,0,0,0,0,0,1,0,0,0,0,0,0,0,0,0,0,0,0,0,0,0,1,0,0,0,0,0,0,0,0,1,0,0,0,0,0,0,0,0,0,0,0,0,0,0,0,0,0,0,0,0,0,0,0,0,0,0,0,0,0,0,0,0,0,0,0,0,0,0,0,0,0,1,0,0,0,0,0,0,0,0,0,0,0,0,0,0,0,0,0,0,0,0,0,0,0,0,0,0,0,0,0,0,0,0,0,0,0,0,0,0,0,0,0,0,0,0,0,0,0,0,0,0,0,1,0,0,0,0,1,0,0,0,0,0,0,0,0,0,0,0,0,0,0,0,0,0,0,0,0,0,0,0,0,0,0,0,0,0,0,0,0,0,0,0,0,0,0,0,0,0,0,0,0,0,0,0,0,0,0,0,0,0,0,0,0,0,0,0,0,1,0,1,0,0,0,0,0,0,1,0,0,0,0,0,0,1,0,0,0,0,0,0,0,0,0,1,0,0,0,0,0,0,0,0,0,0,0,0,0,0,0,0,0,0,0,0,0,0,0,0,0,0,0,0,0,0,0,0,0,0,0,0,0,0,0,0,0,0,0,0,0,0,0,0,0,0,0,0,0,0,0,0,0,0,0,0,0,0,0,0,0,0,0,0,0,0,0,0,0,0,0,0,0,0,0,0,0,0,0,0,0,0,0,0,0,0,0,0,0,0,0,0,0,0,0,0,0,0,0,0,0,0,0,0,0,0,0,0,0,0,0,0,0,0,0,0,0,0,0,0,0,0,0,0,0,0,0,0,0,0,0,0,0,0,0,0,0,0,0,0,0,0,0,0,0,0,0,0,0,0,0,0,0,0,0,0,0,0,0,0,0,0,0,0,0,0,0,0,0,0,0,0,0,0,0,0,0,0,0,0,0,0,0,0,0,0,0,0,0,0,0,0,0,0,0,0,0,0,0,0,0,0,0,0,0,0,0,0,0,0,0,0,0,0,0,0,0,0,0,0,0,0,0,0,0,0,0,0,0,0,0,0,0,0,0,0,0,0,0,0,0,0,0,0,0,0,0,0,0,0,0,0,0,0,0,0,0,0,0,0,0,0,0,0,0,0,0,0,0,0,0,0,0,0,0,0,0,0,0,0,0,0,0,0,0,0,0,0,0,0,0,0,0,0,0,0,0,0,0,0,0,0,0,0,0,0,0,0,0,0,0,0,0,0,0,0,0,0,0,0,0,0,0,0,0,0,0,0,0,0,0,0,0,0,0,0,0,0,0,0,0,0,0,0,0,0,0,0,0,0,0,0,0,0,0,0,0,0,0,0,0,0,0,0,0,0,0,0,0,0,0,0,0,0,0,0,0,0,0,0,0,0,0,0,0,0,0,0,0,0,0,0,0,0,0,0,0,0,0,0,0,0,0,0,0,0,0,0,0,0,0,0,0,0,0,0,0,0,0,0,0,0,0,0,0,0,0,0,0,0,0,0,0,0,0,0,0,0,0,0,0,0,0,0,0,0,0,0,0,0,0,0,0,0,0,0,0,0,0,0,0,0,0,0,0,0,0,0,0,0,0,0,0,0,0,0,0,0,0,0,0,0,0,0,0,0,0,0,0,0,0,0,0,0,0,0,0,0,0,0,0,0,0,0,0,0,0,0,0,0,0,0,0,0,0,0,0,0,0,0,0,0,0,0,0,0,0,0,0,0,0,0,0,0,0,0,0,0,0,0,0,0,0,0,0,0,0,0,0,0,0,0,0,0,0,0,0,0,0,0,0,0,0,0,0,0,0,0,0,0,0,0,0,0,0,0,0,0,0,0,0,0,0,0,0,0,0,0,0,0,0,0,0,0,0,0,0,0,0,0,0,0,0,0,0,0,0,0,0,0,0,0,0,0,0,0,0,0,0,0,0,0,0,0,0,0,0,0,0,0,0,0,0,0,0,0,0,0,0,0,0,0,0,0,0,0,0,0,0,0,0,0,0,0,0,0,0,0,0,0,0,0,0,0,0,0,0,0,0,0,0,0,0,0,0,0,0,0,0,0,0,0,0,0,0,0,0,0,0,0,0,0,0,0,0,0,0,0,0,0,0,0,0,0,0,0,0,0,0,0,0,0,0,0,0,0,0,0,0,0,0,0,0,0,0,0,0,0,0,0,0,0,0,0,0,0,0,0,0,0,0,0,0,0,0,0,0,0,0,0,0,0,0,0,0,0,0,0,0,0,0,0,0,0,0,0,0,0,0,0,0,0,0,0,0,0,0,0,0,0,0,0,0,0,0,0,0,0,0,0,0,0,0,0,0,0,0,0,0,0,0,0,0,0,0,0,0,0,0,0,0,0,0,0,0,0,0,0,0,0,0,0,0,0,0,0,0,0,0,0,0,0,0,0,0,0,0,0,0,0,0,0,0,0,0,0,0,0,0,0,0,0,0,0,0,0,0,0,0,0,0,0,0,0,0,0,0,0,0,0,0,0,0,0,0,0,0,0,0,0,0,0,0,0,0,0,0,0,0,0,0,0,0,0,0,0,0,0,0,0,0,0,0,0,0,0,0,0,0,0,0,0,0,0,0,0,0,0,0,0,0,0,0,0,0,0,0,0,0,0,0,0,0,0,0,0,0,0,0,0,0,0,0,0,0,0,0,0,0,0,0,0,0,0,0,0,0,0,0,0,0,0,0,0,0,0,0,0,0,0,0,0,0,0,0,0,0,0,0,0,0,0,0,0,0,0,0,0,0,0,0,0,0,0,0,0,0,0,0,0,0,0,0,0,0,0,0,0,0,0,0,0,0,0,0,0,0,0,0,0,0,0,0,0,0,0,0,0,0,0,0,0,0,0,0,0,0,0,0,0,0,0,0,0,0,0,0,0,0,0,0,0,0,0,0,0,0,0,0,0,0,0,0,0,0,0,0,0,0,0,0,0,0,0,0,0,0,0,0,0,0,0,0,0,0,0,0,0,0,0,0,0,0,0,0,0,0,0,0,0,0,0,0,0,0,0,0,0,0,0,0,0,0,0,0,0,0,0,0,0,0,0,0,0,0,0,0,0,0,0,0,0,0,0,0,0,0,0,0,0,0,0,0,0,0,0,0,0,0,0,0,0,0,0,0,0,0,0,0,0,0,0,0,0,0,0,0,0,0,0,0,0,0,0,0,0,0,0,0,0,0,0,0,0,0,0,0,0,0,0,0,0,0,0,0,0,0,0,0,0,0,0,0,0,0,0,0,0,0,0,0,0,0,0,0,0,0,0,0,0,0,0,0,0,0,0,0,0,0,0,0,0,0,0,0,0,0,0,0,0,0,0,0,0,0,0,0,0,0,0,0,0,0,0,0,0,0,0,0,0,0,0,0,0,0,0,0,0,0,0,0,0,0,0,0,0,0,0,0,0,0,0,0,0,0,0,0,0,0,0,0,0,0,0,0,0,0,0,0,0,0,0,0,0,0,0,0,0,0,0,0,0,0,0,0,0,0,0,0,0,0,0,0,0,0,0,0,0,0,0,0,0,0,0,0,0,0,0,0,0,0,0,0,0,0,0,0,0,0,0,0,0,0,0,0,0,0,0,0,0,0,0,0,0,0,0,0,0,0,0,0,0,0,0,0,0,0,0,0,0,0,0,0,0,0,0,0,0,0,0,0,0,0,0,0,0,0,0,0,0,0,0,0,0,0,0,0,0,0,0,0,0,0,0,0,0,0,0,0,0,0,0,0,0,0,0,0,0,0,0,0,0,0,0,0,0,0,0,0,0,0,0,0,0,0,0,0,0,0,0,0,0,0,0,0,0,0,0,0,0,0,0,0,0,0,0,0,0,0,0,0,0,0,0,0,0,0,0,0,0,0,0,0,0,0,0,0,0,0,0,0,0,0,0,0,0,0,0,0,0,0,0,0,0,0,0,0,0,0,0,0,0,0,0,0,0,0,0,0,0,0,0,0,0,0,0,0,0,0,0,0,0,0,0,0,0,0,0,0,0,0,0,0,0,0,0,0,0,0,0,0,0,0,0,0,0,0,0,0,0,0,0,0,0,0,0,0,0,0,0,0,0,0,0,0,0,0,0,0,0,0,0,0,0,0,0,0,0,0,0,0,0,0,0,0,0,0,0,0,0,0,0,0,0,0,0,0,0,0,0,0,0,0,0,0,0,0,0,0,0,0,0,0,0,0,0,0,0,0,0,0,0,0,0,0,0,0,0,0,0,0,0,0,0,0,0,0,0,0,0,0,0,0,0,0,0,0,0,0,0,0,0,0,0,0,0,0,0,0,0,0,0,0,0,0,0,0,0,0,0,0,0,0,0,0,0,0,0,0,0,0,0,0,0,0,0,0,0,0,0,0,0,0,0,0,0,0,0,0,0,0,0,0,0,0,0,0,0,0,0,0,0,0,0,0,0,0,0,0,0,0,0,0,0,0,0,0,0,0,0,0,0,0,0,0,0,0,0,0,0,0,0,0,0,0,0,0,0,0,0,0,0,0,0,0,0,0,0,0,0,0,0,0,0,0,0,0,0,0,0,0,0,0,0,0,0,0,0,0,0,0,0,0,0,0,0,0,0,0,0,0,0,0,0,0,0,0,0,0,0,0,0,0,0,0,0,0,0,0,0,0,0,0,0,0,0,0,0,0,0,0,0,0,0,0,0,0,0,0,0,0,0,0,0,0,0,0,0,0,0,0,0,0,0,0,0,0,0,0,0,0,0,0,0,0,0,0,0,0,0,0,0,0,0,0,0,0,0,0,0,0,0,0,0,0,0,0,0,0,0,0,0,0,0,0,0,0,0,0,0,0,0,0,0,0,0,0,0,0,0,0,0,0,0,0,0,0,0,0,0,0,0,0,0,0,0,0,0,0,0,0,0,0,0,0,0,0,0,0,0,0,0,0,0,0,0,0,0,0,0,0,0,0,0,0,0,0,0,0,0,0,0,0,0,0,0,0,0,0,0,0,0,0,0,0,0,0,0,0,0,0,0,0,0,0,0,0,0,0,0,0,0,0,0,0,0,0,0,0,0,0,0,0,0,0,0,0,0,0,0,0,0,0,0,0,0,0,0,0,0,0,0,0,0,0,0,0,0,0,0,0,0,0,0,0,0,0,0,0,0,0,0,0,0,0,0,0,0,0,0,0,0,0,0,0,0,0,0,0,0,0,0,0,0,0,0,0,0,0,0,0,0,0,0,0,0,0,0,0,0,0,0,0,0,0,0,0,0,0,0,0,0,0,0,0,0,0,0,0,0,0,0,0,0,0,0,0,0,0,0,0,0,0,0,0,0,0,0,0,0,0,0,0,0,0,0,0,0,0,0,0,0,0,0,0,0,0,0,0,0,0,0,0,0,0,0,0,0,0,0,0,0,0,0,0,0,0,0,0,0,0,0,0,0,0,0,0,0,0,0,0,0,0,0,0,0,0,0,0,0,0,0,0,0,0,0,0,0,0,0,0,0,0,0,0,0,0,0,0,0,0,0,0,0,0,0,0,0,0,0,0,0,0,0,0,0,0,0,0,0,0,0,0,0,0,0,0,0,0,0,0,0,0,0,0,0,0,0,0,0,0,0,0,0,0,0,0,0,0,0,0,0,0,0,0,0,0,0,0,0,0,0,0,0,0,0,0,0,0,0,0,0,0,0,0,0,0,0,0,0,0,0,0,0,0,0,0,0,0,0,0,0,0,0,0,0,0,0,0,0,0,0,0,0,0,0,0,0,0,0,0,0,0,0,0,0,0,0,0,0,0,0,0,0,0,0,0,0,0,0,0,0,0,0,0,0,0,0,0,0,0,0,0,0,0,0,0,0,0,0,0,0,0,0,0,0,0,0,0,0,0,0,0,0,0,0,0,0,0,0,0,0,0,0,0,0,0,0,0,0,0,0,0,0,0,0,0,0,0,0,0,0,0,0,0,0,0,0,0,0,0,0,0,0,0,0,0,0,0,0,0,0,0,0,0,0,0,0,0,0,0,0,0,0,0,0,0,0,0,0,0,0,0,0,0,0,0,0,0,0,0,0,0,0,0,0,0,0,0,0,0,0,0,0,0,0,0,0,0,0,0,0,0,0,0,0,0,0,0,0,0,0,0,0,0,0,0,0,0,0,0,0,0,0,0,0,0,0,0,0,0,0,0,0,0,0,0,0,0,0,0,0,0,0,0,0,0,0,0,0,0,0,0,0,0,0,0,0,0,0,0,0,0,0,0,0,0,0,0,0,0,0,0,0,0,0,0,0,0,0,0,0,0,0,0,0,0,0,0,0,0,0,0,0,0,0,0,0,0,0,0,0,0,0,0,0,0,0,0,0,0,0,0,0,0,0,0,0,0,0,0,0,0,0,0,0,0,0,0,0,0,0,0,0,0,0,0,0,0,0,0,0,0,0,0,0,0,0,0,0,0,0,0,0,0,0,0,0,0,0,0,0,0,0,0,0,0,0,0,0,0,0,0,0,0,0,0,0,0,0,0,0,0,0,0,0,0,0,0,0,0,0,0,0,0,0,0,0,0,0,0,0,0,0,0,0,0,0,0,0,0,0,0,0,0,0]},{\"_typename\":\"TPaveText\",\"fUniqueID\":0,\"fBits\":50331657,\"fLineColor\":1,\"fLineStyle\":1,\"fLineWidth\":1,\"fFillColor\":0,\"fFillStyle\":0,\"fX1\":-2.94396555860094,\"fY1\":4.15720344611317,\"fX2\":2.94396555860093,\"fY2\":4.47500006072223,\"fX1NDC\":0.382241379410703,\"fY1NDC\":0.931440682793668,\"fX2NDC\":0.617758620589297,\"fY2NDC\":0.995000004768372,\"fBorderSize\":0,\"fInit\":1,\"fShadowColor\":1,\"fCornerRadius\":0,\"fOption\":\"blNDC\",\"fName\":\"title\",\"fTextAngle\":0,\"fTextSize\":0,\"fTextAlign\":22,\"fTextColor\":1,\"fTextFont\":42,\"fLabel\":\"\",\"fLongest\":10,\"fMargin\":0.05,\"fLines\":{\"_typename\":\"TList\",\"name\":\"TList\",\"arr\":[{\"_typename\":\"TLatex\",\"fUniqueID\":0,\"fBits\":50331648,\"fName\":\"\",\"fTitle\":\"KpP:KpTime\",\"fTextAngle\":0,\"fTextSize\":0,\"fTextAlign\":0,\"fTextColor\":0,\"fTextFont\":0,\"fX\":0,\"fY\":0,\"fLineColor\":1,\"fLineStyle\":1,\"fLineWidth\":2,\"fLimitFactorSize\":3,\"fOriginSize\":0.0540254227817059}],\"opt\":[\"\"]}}],\"opt\":[\"\",\"col1\",\"blNDC\"]},\"fExecs\":{\"_typename\":\"TList\",\"name\":\"TList\",\"arr\":[],\"opt\":[]},\"fName\":\"c1_4\",\"fTitle\":\"c1_4\",\"fNumPaletteColor\":0,\"fNextPaletteColor\":0}],\"opt\":[\"\",\"\",\"\",\"\"]},\"fExecs\":null,\"fName\":\"c1\",\"fTitle\":\"c1\",\"fNumPaletteColor\":0,\"fNextPaletteColor\":0,\"fDISPLAY\":\"$DISPLAY\",\"fDoubleBuffer\":0,\"fRetained\":true,\"fXsizeUser\":0,\"fYsizeUser\":0,\"fXsizeReal\":20,\"fYsizeReal\":14.28571,\"fWindowTopX\":0,\"fWindowTopY\":0,\"fWindowWidth\":0,\"fWindowHeight\":0,\"fCw\":696,\"fCh\":472,\"fCatt\":{\"_typename\":\"TAttCanvas\",\"fXBetween\":2,\"fYBetween\":2,\"fTitleFromTop\":1.2,\"fXdate\":0.2,\"fYdate\":0.3,\"fAdate\":1},\"kMoveOpaque\":true,\"kResizeOpaque\":true,\"fHighLightColor\":2,\"fBatch\":true,\"kShowEventStatus\":false,\"kAutoExec\":true,\"kMenuBar\":true});\n",
       "       Core.draw(\"root_plot_2\", obj, \"\");\n",
       "     }\n",
       " );\n",
       "</script>\n"
      ],
      "text/plain": [
       "<IPython.core.display.HTML object>"
      ]
     },
     "metadata": {},
     "output_type": "display_data"
    }
   ],
   "source": [
    "c3.Draw();"
   ]
  },
  {
   "cell_type": "markdown",
   "metadata": {},
   "source": [
    "**When ready delete the treeman so trees as saved to the output directory**"
   ]
  },
  {
   "cell_type": "code",
   "execution_count": 13,
   "metadata": {},
   "outputs": [],
   "source": [
    "//delete &treeman;"
   ]
  }
 ],
 "metadata": {
  "kernelspec": {
   "display_name": "ROOT C++",
   "language": "c++",
   "name": "root"
  },
  "language_info": {
   "codemirror_mode": "text/x-c++src",
   "file_extension": ".C",
   "mimetype": " text/x-c++src",
   "name": "c++"
  }
 },
 "nbformat": 4,
 "nbformat_minor": 2
}
