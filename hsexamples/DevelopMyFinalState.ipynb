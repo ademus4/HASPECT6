{
 "cells": [
  {
   "cell_type": "markdown",
   "metadata": {},
   "source": [
    "# Develop the final state class\n",
    "## There are 3 parts of the class the user is primarily responsible for\n",
    "1. Calculations specific to each topology e.g. start time, missing mass,....\n",
    "2. Calculations common to all topologies, typically the Kinematics of the reaction\n",
    "3. The Data to be saved in an output tree"
   ]
  },
  {
   "cell_type": "markdown",
   "metadata": {},
   "source": [
    "## Topology Specific\n",
    "This requires defining the Topo_X functions where C is the number of the topology.\n",
    "These are saved in a seperate file ToposXXX.h. We will edit this directly in this Jupyter notebook.\n",
    "\n",
    "Here you can set the reaction start time to allow calculation of DeltaTime for PID purposes. It may be you want to take this from one particular type of particle such as scattered electron or tagger photon.\n",
    "You should also calculate the missing mass for this topology and other masses specific to a topology.\n",
    "\n",
    "Again you will need to change XXX to your class name"
   ]
  },
  {
   "cell_type": "code",
   "execution_count": null,
   "metadata": {},
   "outputs": [],
   "source": [
    "//gROOT->ProcessLine(\".x $HSCODE/hsfinalstate/LoadFinalState.C+\");"
   ]
  },
  {
   "cell_type": "markdown",
   "metadata": {},
   "source": [
    "%edit ToposK2.h"
   ]
  },
  {
   "cell_type": "code",
   "execution_count": null,
   "metadata": {},
   "outputs": [],
   "source": [
    "%%file ToposK2.h\n",
    "#include \"K2.h\"\n",
    "void K2::Topo_0(){\n",
    "  //For topology Beam:Proton:Kp:Km\n",
    "\n",
    "  //Subtract starttime from all particles\n",
    "  //This has been predetermined from the tagger time\n",
    "  fTrigger.SubtractStartTime(&fProton,&fKp,&fKm);\n",
    "  fTrigger.SubtractStartTimeBeam(&fProton,&fBeam);\n",
    "\n",
    "  fProton.TakeCorrectedP();//Apply eloss\n",
    "  fKp.TakeCorrectedP();//Apply eloss\n",
    "  fKm.TakeCorrectedP();//Apply eloss\n",
    "\n",
    "  //Reconstruct missing or combined particles\n",
    "  HSLorentzVector miss= fBeam.P4() + fTarget -fProton.P4() -fKp.P4() -fKm.P4();\n",
    "  TD.MissMass2=miss.M2();\n",
    "  TD.MissMass=miss.M();\n",
    "}\n",
    "void K2::Topo_1(){\n",
    "  //For topology Beam:Proton:Kp\n",
    "\n",
    "  //Subtract starttime from all particles\n",
    "  //This has been predetermined from the tagger time\n",
    "  fTrigger.SubtractStartTime(&fProton,&fKp);\n",
    "  fTrigger.SubtractStartTimeBeam(&fProton,&fBeam);\n",
    "\n",
    "  fProton.TakeCorrectedP();//Apply eloss\n",
    "  fKp.TakeCorrectedP();//Apply eloss\n",
    "  \n",
    "  //Reconstruct missing or combined particles\n",
    "  HSLorentzVector miss= fBeam.P4() + fTarget -fProton.P4() -fKp.P4();\n",
    "  TD.MissMass2=miss.M2();\n",
    "  TD.MissMass=miss.M();\n",
    "  fKm.FixP4(miss);\n",
    "}\n",
    "void K2::Topo_2(){\n",
    "  //For topology Beam:Proton:Km\n",
    "\n",
    "  //Subtract starttime from all particles\n",
    "  //This has been predetermined from the tagger time\n",
    "  fTrigger.SubtractStartTime(&fProton,&fKm);\n",
    "  fTrigger.SubtractStartTimeBeam(&fProton,&fBeam);\n",
    "\n",
    "  fProton.TakeCorrectedP();//Apply eloss\n",
    "  fKm.TakeCorrectedP();//Apply eloss\n",
    "\n",
    "  //Reconstruct missing or combined particles\n",
    "  HSLorentzVector miss= fBeam.P4() + fTarget -fProton.P4() -fKm.P4();\n",
    "  TD.MissMass2=miss.M2();\n",
    "  TD.MissMass=miss.M();\n",
    "  fKp.FixP4(miss);\n",
    "}\n",
    "void K2::Topo_3(){\n",
    "  //For topology Beam:Kp:Km\n",
    "\n",
    "  //Subtract starttime from all particles\n",
    "  //This has been predetermined from the tagger time\n",
    "  fTrigger.SubtractStartTime(&fKp,&fKm);\n",
    "  fTrigger.SubtractStartTimeBeam(&fKp,&fBeam);\n",
    "\n",
    "  fKp.TakeCorrectedP();//Apply eloss\n",
    "  fKm.TakeCorrectedP();//Apply eloss\n",
    "\n",
    "//Reconstruct missing or combined particles\n",
    "  HSLorentzVector miss= fBeam.P4() + fTarget -fKp.P4() -fKm.P4();\n",
    "  TD.MissMass2=miss.M2();\n",
    "  TD.MissMass=miss.M();\n",
    "  \n",
    "  fProton.FixP4(miss);\n",
    "}"
   ]
  },
  {
   "cell_type": "markdown",
   "metadata": {},
   "source": [
    "## Common Calculations : Kinematics\n",
    "The final state kinematics are common to all topologies so we only need to write one function.\n",
    "We can also make use of the Kinematics calculator HSKinematics (use as fKine)  for calculating standard production and decay quantities"
   ]
  },
  {
   "cell_type": "markdown",
   "metadata": {},
   "source": [
    "%edit KinematicsK2.h"
   ]
  },
  {
   "cell_type": "code",
   "execution_count": null,
   "metadata": {},
   "outputs": [],
   "source": [
    "%%file KinematicsK2.h\n",
    "#include \"K2.h\"\n",
    "void K2::Kinematics(){\n",
    "\n",
    "  //Calculate possible resonances\n",
    "  HSLorentzVector pMeson=fKp.P4()+fKm.P4();\n",
    "  HSLorentzVector pHyperon=fProton.P4()+fKm.P4();\n",
    "  //invariant masses\n",
    "  TD.MesonMass=pMeson.M();\n",
    "  TD.HyperonMass=pHyperon.M();\n",
    "  \n",
    "  fKine.SetGammaTarget(fBeam.P4(),fTarget);\n",
    "  TD.Eg=fBeam.P4().E(); //photon bem energy\n",
    "\n",
    "  //calculate CM production kinematics for meson\n",
    "  fKine.SetMesonBaryon(pMeson,fProton.P4());\n",
    "  fKine.PhotoCMDecay();\n",
    "  TD.MesonCosTh=fKine.CosTheta();//prefix all variables to be saved wiht TM.\n",
    "  TD.MesonPhi=fKine.Phi();\n",
    "  \n",
    "  //calculate CM production kinematics for hyperon\n",
    "  fKine.SetMesonBaryon(fKp.P4(),pHyperon);\n",
    "  fKine.PhotoCMDecay();\n",
    "  TD.HyperonCosTh=fKine.CosTheta();//prefix all variables to be saved wiht TM.\n",
    "  TD.HyperonPhi=fKine.Phi();\n",
    "\n",
    "}"
   ]
  },
  {
   "cell_type": "markdown",
   "metadata": {},
   "source": [
    "## Tree Data\n",
    "The data you write in a tree is connected via a TreeData class which has data members which will be the tree leafs i.e. data you can perform further analysis on (e.g. histogram, event fitting) "
   ]
  },
  {
   "cell_type": "markdown",
   "metadata": {},
   "source": [
    "%edit TreeDataK2.h"
   ]
  },
  {
   "cell_type": "code",
   "execution_count": null,
   "metadata": {},
   "outputs": [],
   "source": [
    "%%file TreeDataK2.h\n",
    "#ifndef TREEDATAK2_h\n",
    "#define TREEDATAK2_h \n",
    "#include \"TreeData.h\"\n",
    "\n",
    "class TreeDataK2: public HS::TreeData{\n",
    " public:\n",
    "  //data member for tree branches below here\n",
    "  Double_t MissMass=0;\n",
    "  Double_t MissMass2=0;\n",
    "  \n",
    "  Double_t MesonMass=0;\n",
    "  Double_t HyperonMass=0;\n",
    "  \n",
    "  Double_t MesonCosTh=0;\n",
    "  Double_t MesonPhi=0;\n",
    "  Double_t HyperonCosTh=0;\n",
    "  Double_t HyperonPhi=0;\n",
    "  Double_t Eg=0;\n",
    "  \n",
    "  \n",
    "  ClassDef(TreeDataK2,1);\n",
    "};\n",
    "#endif"
   ]
  },
  {
   "cell_type": "markdown",
   "metadata": {},
   "source": [
    "Now you can try and compile all of the code together. You may need to go back and fix bugs after. This is best done by removing the %edit cells and doing a restart and run whole notebook."
   ]
  },
  {
   "cell_type": "code",
   "execution_count": null,
   "metadata": {
    "scrolled": false
   },
   "outputs": [],
   "source": [
    "gROOT->ProcessLine(\".x LoadK2.C+\");"
   ]
  },
  {
   "cell_type": "code",
   "execution_count": null,
   "metadata": {},
   "outputs": [],
   "source": [
    "K2 kk;"
   ]
  }
 ],
 "metadata": {
  "kernelspec": {
   "display_name": "ROOT C++",
   "language": "c++",
   "name": "root"
  },
  "language_info": {
   "codemirror_mode": "text/x-c++src",
   "file_extension": ".C",
   "mimetype": " text/x-c++src",
   "name": "c++"
  }
 },
 "nbformat": 4,
 "nbformat_minor": 2
}
