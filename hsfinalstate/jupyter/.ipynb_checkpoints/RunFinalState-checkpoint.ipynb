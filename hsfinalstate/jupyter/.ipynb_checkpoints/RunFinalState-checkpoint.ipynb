{
 "cells": [
  {
   "cell_type": "markdown",
   "metadata": {},
   "source": [
    "# Example for running HSFinalState in Juptyer ROOTBook"
   ]
  },
  {
   "cell_type": "code",
   "execution_count": null,
   "metadata": {},
   "outputs": [],
   "source": [
    "hscode=gSystem->Getenv(\"HSCODE\"); //or TString hscode =\"/full path/not including /hsmva\"\n",
    "gROOT->LoadMacro(TString(hscode)+\"/hsmva/LoadMacros.C+\");\n",
    "LoadMacros();"
   ]
  }
 ],
 "metadata": {
  "kernelspec": {
   "display_name": "ROOT C++",
   "language": "c++",
   "name": "root"
  },
  "language_info": {
   "codemirror_mode": "text/x-c++src",
   "file_extension": ".C",
   "mimetype": " text/x-c++src",
   "name": "c++"
  }
 },
 "nbformat": 4,
 "nbformat_minor": 2
}
