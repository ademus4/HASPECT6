{
 "cells": [
  {
   "cell_type": "code",
   "execution_count": 1,
   "metadata": {},
   "outputs": [
    {
     "name": "stderr",
     "output_type": "stream",
     "text": [
      "Info in <TUnixSystem::ACLiC>: creating shared library /home/dglazier/Dropbox/HaSpect/dev/HASPECT6/HaSpect/THSSkeleton_C.so\n"
     ]
    },
    {
     "name": "stdout",
     "output_type": "stream",
     "text": [
      "\n",
      "\u001b[1mRooFit v3.60 -- Developed by Wouter Verkerke and David Kirkby\u001b[0m \n",
      "                Copyright (C) 2000-2013 NIKHEF, University of California & Stanford University\n",
      "                All rights reserved, please read http://roofit.sourceforge.net/license.txt\n",
      "\n"
     ]
    }
   ],
   "source": [
    "hscode=gSystem->Getenv(\"HSCODE\"); \n",
    "gROOT->LoadMacro(TString(hscode)+\"/HaSpect/THSSkeleton.C+\");"
   ]
  },
  {
   "cell_type": "markdown",
   "metadata": {},
   "source": [
    "Create the skeleton code maker. This will be used to configure and produce the final state class."
   ]
  },
  {
   "cell_type": "code",
   "execution_count": 2,
   "metadata": {},
   "outputs": [],
   "source": [
    "THSSkeleton* sk=new THSSkeleton();"
   ]
  },
  {
   "cell_type": "markdown",
   "metadata": {},
   "source": [
    "Give your class a name e.g. replace YourNameNotThis with 2pi, OmegaP,..."
   ]
  },
  {
   "cell_type": "code",
   "execution_count": 3,
   "metadata": {},
   "outputs": [],
   "source": [
    "sk->SetFinalState(\"YourNameNotThis\",kTRUE);"
   ]
  },
  {
   "cell_type": "markdown",
   "metadata": {},
   "source": [
    "Set the **DETECTED** particle combinations you will analyse.\n",
    "Syntax, p1:p2:p3 for 1 topology, seperate with a \",\" then p1:p2 for next, etc.\n",
    "e.g. sk->SetFinalStateTopo(\"e-:proton:pi+:pi-:gamma:gamma , e-:proton:pi+:pi-\");"
   ]
  },
  {
   "cell_type": "code",
   "execution_count": null,
   "metadata": {},
   "outputs": [],
   "source": [
    " sk->SetFinalStateTopo(\"\");"
   ]
  },
  {
   "cell_type": "markdown",
   "metadata": {},
   "source": [
    "Set names of actual final state particles of the reaction that you will use\n",
    "**First detected particles**\n",
    "Syntax Name1:type1, Name2:type2, ... where type corresponds to a ROOT PDG name and NameX is used to add a THSParticle data member fName1 to the final state class.\n",
    "e.g. sk->SetFinalStateParts(\"Electron:e-, Proton:proton, Pip:pi+, Pim:pi-, Gamma1:gamma, Gamma2:gamma\");"
   ]
  },
  {
   "cell_type": "code",
   "execution_count": null,
   "metadata": {},
   "outputs": [],
   "source": [
    "sk->SetFinalStateParts(\"\");"
   ]
  },
  {
   "cell_type": "markdown",
   "metadata": {},
   "source": [
    "**Second Parent particles that may have decayed**\n",
    "This information is needed to construct the iterators for the different topologies.\n",
    "You must give the parent particle name, type and decay products. \n",
    "A Parent defined here may also be a child of another parent.\n",
    "e.g. sk->SetFinalStateParents(\"Pi0:pi0;Gamma1;Gamma2, Omega:omega;Pip;Pim;Pi0\");\n",
    "This defines and omega decaying to 3pi (pi+,pi0,pi-) with the pi0 decaying to 2 gamma.\n",
    "Pip, Pim, Gamma1, Gamma2 are detected particles defined in the previous step."
   ]
  },
  {
   "cell_type": "code",
   "execution_count": null,
   "metadata": {},
   "outputs": [],
   "source": [
    "sk->SetFinalStateParents(\"\");"
   ]
  },
  {
   "cell_type": "markdown",
   "metadata": {},
   "source": [
    "Now you might want to add predefined experiment specific functionality\n",
    "e.g for including CLAS12 trigger class, sk->SetCLAS12();"
   ]
  },
  {
   "cell_type": "code",
   "execution_count": null,
   "metadata": {},
   "outputs": [],
   "source": [
    "//sk->SetCLAS12(); //comment in if you want this behaviour"
   ]
  },
  {
   "cell_type": "markdown",
   "metadata": {},
   "source": [
    "Now make some code "
   ]
  },
  {
   "cell_type": "code",
   "execution_count": null,
   "metadata": {},
   "outputs": [],
   "source": [
    "sk->CreateMyFinalState();"
   ]
  }
 ],
 "metadata": {
  "kernelspec": {
   "display_name": "ROOT C++",
   "language": "c++",
   "name": "root"
  },
  "language_info": {
   "codemirror_mode": "text/x-c++src",
   "file_extension": ".C",
   "mimetype": " text/x-c++src",
   "name": "c++"
  }
 },
 "nbformat": 4,
 "nbformat_minor": 2
}
