{
 "cells": [
  {
   "cell_type": "markdown",
   "metadata": {},
   "source": [
    "# Example for running HSFinalState in Juptyer ROOTBook"
   ]
  },
  {
   "cell_type": "code",
   "execution_count": 2,
   "metadata": {
    "scrolled": false
   },
   "outputs": [
    {
     "name": "stderr",
     "output_type": "stream",
     "text": [
      "Info in <ACLiC>: unmodified script has already been compiled and loaded\n",
      "Info in <ACLiC>: unmodified script has already been compiled and loaded\n",
      "cling::DynamicLibraryManager::loadLibrary(): /home/dglazier/Dropbox/HaSpect/dev/HASPECT6/HaSpect/THSFinalState_C.so: undefined symbol: _ZTI14THSDataManager\n",
      "Info in <ACLiC>: unmodified script has already been compiled and loaded\n",
      "Info in <ACLiC>: unmodified script has already been compiled and loaded\n",
      "Info in <ACLiC>: unmodified script has already been compiled and loaded\n",
      "Info in <ACLiC>: unmodified script has already been compiled and loaded\n",
      "Info in <ACLiC>: unmodified script has already been compiled and loaded\n",
      "Info in <ACLiC>: unmodified script has already been compiled and loaded\n",
      "Info in <ACLiC>: unmodified script has already been compiled and loaded\n",
      "Info in <ACLiC>: unmodified script has already been compiled and loaded\n",
      "Info in <ACLiC>: unmodified script has already been compiled and loaded\n",
      "Info in <ACLiC>: unmodified script has already been compiled and loaded\n"
     ]
    }
   ],
   "source": [
    "hscode=gSystem->Getenv(\"HSCODE\"); //or TString hscode =\"/full path/not including /hsmva\"\n",
    "gROOT->LoadMacro(TString(hscode)+\"/hsfinalstate/LoadMacros.C+\");\n",
    "LoadMacros();"
   ]
  }
 ],
 "metadata": {
  "kernelspec": {
   "display_name": "ROOT C++",
   "language": "c++",
   "name": "root"
  },
  "language_info": {
   "codemirror_mode": "text/x-c++src",
   "file_extension": ".C",
   "mimetype": " text/x-c++src",
   "name": "c++"
  }
 },
 "nbformat": 4,
 "nbformat_minor": 2
}
